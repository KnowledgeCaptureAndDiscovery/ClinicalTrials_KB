{
 "cells": [
  {
   "cell_type": "code",
   "execution_count": 2,
   "metadata": {},
   "outputs": [],
   "source": [
    "import json\n",
    "import requests"
   ]
  },
  {
   "cell_type": "markdown",
   "metadata": {},
   "source": [
    "## Extract all critera"
   ]
  },
  {
   "cell_type": "code",
   "execution_count": 48,
   "metadata": {},
   "outputs": [],
   "source": [
    "paloma2 = dict()"
   ]
  },
  {
   "cell_type": "code",
   "execution_count": 49,
   "metadata": {},
   "outputs": [],
   "source": [
    "studytype_url = 'https://clinicaltrials.gov/api/query/field_values?expr=paloma2&field=StudyType&fmt=json'\n",
    "studytype = requests.get(studytype_url).json()['FieldValuesResponse']['FieldValues'][0]['FieldValue']\n",
    "paloma2['StudyType'] = studytype"
   ]
  },
  {
   "cell_type": "code",
   "execution_count": 50,
   "metadata": {},
   "outputs": [
    {
     "data": {
      "text/plain": [
       "'Inclusion Criteria:\\n\\nAdult women with locoregionally recurrent or metastatic disease not amenable to curative therapy.\\nConfirmed diagnosis of ER positive breast cancer\\nNo prior systemic anti-cancer therapy for advanced ER+ disease.\\nPostmenopausal women\\nMeasurable disease as per Response Evaluation Criterion in Solid Tumors [RECIST] or bone-only disease\\nEastern Cooperative Oncology Group [ECOG] 0-2\\nAdequate organ and marrow function\\nPatient must agree to provide tumor tissue\\n\\nExclusion Criteria:\\n\\nConfirmed diagnosis of HER2 positive disease\\nPatients with advanced, symptomatic, visceral spread that are at risk of life threatening complication in the short term\\nKnown uncontrolled or symptomatic CNS metastases\\nPrior (neo)adjuvant treatment with letrozole or anastrozole with DFI ≤ 12-months from completion of treatment.\\nPrior treatment with any CDK 4/6 inhibitor.'"
      ]
     },
     "execution_count": 50,
     "metadata": {},
     "output_type": "execute_result"
    }
   ],
   "source": [
    "criteria_url = 'https://clinicaltrials.gov/api/query/field_values?expr=paloma2&field=EligibilityCriteria&fmt=json'\n",
    "criteria = requests.get(criteria_url).json()['FieldValuesResponse']['FieldValues'][0]['FieldValue']\n",
    "criteria"
   ]
  },
  {
   "cell_type": "code",
   "execution_count": 51,
   "metadata": {},
   "outputs": [],
   "source": [
    "a = criteria.split('\\n')\n",
    "inclusion = []\n",
    "exclusion = []\n",
    "for i in range(0,len(a)):\n",
    "    if a[i] == 'Inclusion Criteria:':\n",
    "        for j in range(i+1,len(a)):\n",
    "            if a[j] == 'Exclusion Criteria:':\n",
    "                break\n",
    "            if a[j] != '':\n",
    "                inclusion.append(a[j])\n",
    "    if a[i] == 'Exclusion Criteria:':\n",
    "        for j in range(i+1,len(a)):\n",
    "            if a[j] != '':\n",
    "                exclusion.append(a[j])"
   ]
  },
  {
   "cell_type": "code",
   "execution_count": 52,
   "metadata": {},
   "outputs": [],
   "source": [
    "paloma2['InclusionCriteria'] = inclusion\n",
    "paloma2['ExclusionCriteria'] = exclusion"
   ]
  },
  {
   "cell_type": "code",
   "execution_count": 53,
   "metadata": {},
   "outputs": [
    {
     "data": {
      "text/plain": [
       "{'StudyType': 'Interventional',\n",
       " 'InclusionCriteria': ['Adult women with locoregionally recurrent or metastatic disease not amenable to curative therapy.',\n",
       "  'Confirmed diagnosis of ER positive breast cancer',\n",
       "  'No prior systemic anti-cancer therapy for advanced ER+ disease.',\n",
       "  'Postmenopausal women',\n",
       "  'Measurable disease as per Response Evaluation Criterion in Solid Tumors [RECIST] or bone-only disease',\n",
       "  'Eastern Cooperative Oncology Group [ECOG] 0-2',\n",
       "  'Adequate organ and marrow function',\n",
       "  'Patient must agree to provide tumor tissue'],\n",
       " 'ExclusionCriteria': ['Confirmed diagnosis of HER2 positive disease',\n",
       "  'Patients with advanced, symptomatic, visceral spread that are at risk of life threatening complication in the short term',\n",
       "  'Known uncontrolled or symptomatic CNS metastases',\n",
       "  'Prior (neo)adjuvant treatment with letrozole or anastrozole with DFI ≤ 12-months from completion of treatment.',\n",
       "  'Prior treatment with any CDK 4/6 inhibitor.']}"
      ]
     },
     "execution_count": 53,
     "metadata": {},
     "output_type": "execute_result"
    }
   ],
   "source": [
    "paloma2"
   ]
  },
  {
   "cell_type": "code",
   "execution_count": 54,
   "metadata": {},
   "outputs": [
    {
     "data": {
      "text/plain": [
       "['Drug: PD-0332991', 'Drug: Letrozole', 'Drug: Placebo', 'Drug: Letrozole']"
      ]
     },
     "execution_count": 54,
     "metadata": {},
     "output_type": "execute_result"
    }
   ],
   "source": [
    "drug_url = 'https://clinicaltrials.gov/api/query/study_fields?expr=paloma-2&fields=ArmGroupInterventionName&min_rnk=2&max_rnk=2&fmt=json'\n",
    "drug = requests.get(drug_url).json()['StudyFieldsResponse']['StudyFields'][0]['ArmGroupInterventionName']\n",
    "drug"
   ]
  },
  {
   "cell_type": "code",
   "execution_count": 55,
   "metadata": {},
   "outputs": [
    {
     "data": {
      "text/plain": [
       "['PD-0332991', 'Letrozole', 'Placebo']"
      ]
     },
     "execution_count": 55,
     "metadata": {},
     "output_type": "execute_result"
    }
   ],
   "source": [
    "drugs = [i.strip(\"Drug:\").strip(\"'\").strip() for i in drug] \n",
    "drugs = list(dict.fromkeys(drugs))\n",
    "drugs"
   ]
  },
  {
   "cell_type": "code",
   "execution_count": 56,
   "metadata": {},
   "outputs": [],
   "source": [
    "# API_ENDPOINT = 'https://www.wikidata.org/w/api.php'\n",
    "# drugs_with_des1 = {}\n",
    "# for i in drugs:\n",
    "#     query = i\n",
    "#     params = {\n",
    "#         'action':'wbsearchentities',\n",
    "#         'format':'json',\n",
    "#         'language':'en',\n",
    "#         'search':query,\n",
    "#     }\n",
    "#     drugs_with_des[i] = requests.get(API_ENDPOINT,params=params).json()['search'][0]['description']\n"
   ]
  },
  {
   "cell_type": "code",
   "execution_count": 57,
   "metadata": {},
   "outputs": [
    {
     "data": {
      "text/plain": [
       "'A <span class=\"searchmatch\">placebo</span> (/pləˈsiːboʊ/ plə-SEE-boh) is a substance or treatment which is designed to have no therapeutic value. Common <span class=\"searchmatch\">placebos</span> include inert tablets'"
      ]
     },
     "execution_count": 57,
     "metadata": {},
     "output_type": "execute_result"
    }
   ],
   "source": [
    "API_ENDPOINT = 'https://en.wikipedia.org/w/api.php'\n",
    "query = 'Placebo'\n",
    "params = {\n",
    "    'action':'query',\n",
    "    'list':'search',\n",
    "    'srsearch':query,\n",
    "    'format':'json',\n",
    "}\n",
    "a = requests.get(API_ENDPOINT,params=params).json()['query']['search'][0]['snippet']\n",
    "a"
   ]
  },
  {
   "cell_type": "code",
   "execution_count": 58,
   "metadata": {},
   "outputs": [
    {
     "data": {
      "text/plain": [
       "{'PD-0332991': {'url': 'https://en.wikipedia.org/w/api.php?action=query&list=search&srsearch=PD-0332991&format=json',\n",
       "  'description': 'Kalous, O; Cohen, DJ; Desai, AJ; Ginther, C; Atefi, M; et al. (2009). &quot;<span class=\"searchmatch\">PD</span> <span class=\"searchmatch\">0332991</span>, a selective cyclin D kinase 4/6 inhibitor, preferentially inhibits proliferation'},\n",
       " 'Letrozole': {'url': 'https://en.wikipedia.org/w/api.php?action=query&list=search&srsearch=Letrozole&format=json',\n",
       "  'description': '<span class=\"searchmatch\">Letrozole</span>, sold under the brand name Femara among others, is an aromatase inhibitor which is used in the treatment of hormonally-responsive breast cancer'},\n",
       " 'Placebo': {'url': 'https://en.wikipedia.org/w/api.php?action=query&list=search&srsearch=Placebo&format=json',\n",
       "  'description': 'A <span class=\"searchmatch\">placebo</span> (/pləˈsiːboʊ/ plə-SEE-boh) is a substance or treatment which is designed to have no therapeutic value. Common <span class=\"searchmatch\">placebos</span> include inert tablets'}}"
      ]
     },
     "execution_count": 58,
     "metadata": {},
     "output_type": "execute_result"
    }
   ],
   "source": [
    "API_ENDPOINT = 'https://en.wikipedia.org/w/api.php'\n",
    "drugs_with_des = {}\n",
    "for i in drugs:\n",
    "    drugs_with_des[i] = {}\n",
    "    query = i\n",
    "    params = {\n",
    "        'action':'query',\n",
    "        'list':'search',\n",
    "        'srsearch':query,\n",
    "        'format':'json',\n",
    "    }\n",
    "    drugs_with_des[i]['url'] = requests.get(API_ENDPOINT,params=params).url\n",
    "    drugs_with_des[i]['description'] = requests.get(API_ENDPOINT,params=params).json()\\\n",
    "    ['query']['search'][0]['snippet']\n",
    "drugs_with_des"
   ]
  },
  {
   "cell_type": "code",
   "execution_count": 59,
   "metadata": {},
   "outputs": [
    {
     "data": {
      "text/plain": [
       "'https://en.wikipedia.org/w/api.php?action=query&list=search&srsearch=Letrozole&format=json'"
      ]
     },
     "execution_count": 59,
     "metadata": {},
     "output_type": "execute_result"
    }
   ],
   "source": [
    "API_ENDPOINT = 'https://en.wikipedia.org/w/api.php'\n",
    "query = 'Letrozole'\n",
    "params = {\n",
    "        'action':'query',\n",
    "        'list':'search',\n",
    "        'srsearch':query,\n",
    "        'format':'json',\n",
    "    }\n",
    "res = requests.get(API_ENDPOINT,params=params).url\n",
    "res"
   ]
  },
  {
   "cell_type": "code",
   "execution_count": 60,
   "metadata": {},
   "outputs": [],
   "source": [
    "paloma2['Drugs'] = drugs_with_des"
   ]
  },
  {
   "cell_type": "code",
   "execution_count": 73,
   "metadata": {},
   "outputs": [],
   "source": [
    "monaleesa2 = {}\n",
    "studytype_url = 'https://clinicaltrials.gov/api/query/field_values?expr=monaleesa2&field=StudyType&fmt=json'\n",
    "studytype = requests.get(studytype_url).json()['FieldValuesResponse']['FieldValues'][0]['FieldValue']\n",
    "monaleesa2['StudyType'] = studytype"
   ]
  },
  {
   "cell_type": "code",
   "execution_count": 74,
   "metadata": {},
   "outputs": [
    {
     "data": {
      "text/plain": [
       "'Inclusion Criteria:\\n\\nWomen with advanced (locoregionally recurrent or metastatic) breast cancer not amenable to curative therapy.\\n\\nPatient is postmenopausal. Postmenopausal status is defined either by:\\n\\nPrior bilateral oophorectomy\\nAge ≥60\\nAge <60 and amenorrhea for 12 or more months (in the absence of chemotherapy, tamoxifen, toremifen, or ovarian suppression) and FSH and estradiol in the postmenopausal range per local normal range Note: For women with therapy-induced amenorrhea, serial measurements of FSH and/or estradiol are needed to ensure postmenopausal status. Ovarian radiation or treatment with a luteinizing hormone-releasing hormone agonist (LH-RHa) (goserelin acetate or leuprolide acetate) is not permitted for induction of ovarian suppression in this trial.\\nNo prior systemic anti-cancer therapy for advanced disease.\\nPatient has a histologically and/or cytologically confirmed diagnosis of estrogen-receptor positive and/or progesterone receptor positive breast cancer by local laboratory.\\nPatient has HER2-negative breast cancer defined as a negative in situ hybridization test or an IHC status of 0, 1+ or 2+. If IHC is 2+, a negative in situ hybridization (FISH, CISH, or SISH) test is required by local laboratory testing.\\n\\nPatient must have either:\\n\\n• Measurable disease, i.e., at least one measurable lesion as per RECIST 1.1 criteria (Tumor lesions previously irradiated or subjected to other locoregional therapy will only be considered measurable if disease progression at the treated site after completion of therapy is clearly documented).\\n\\nOR\\n\\n• If no measurable disease is present, then at least one predominantly lytic bone lesion must be present (Patients with no measurable disease and only one predominantly lytic bone lesion that has been previously irradiated are eligible if there is documented evidence of disease progression of the bone lesion after irradiation).\\n\\nPatient has an Eastern Cooperative Oncology Group (ECOG) performance status 0 or 1\\n\\nExclusion Criteria:\\n\\nPatient who received any CDK4/6 inhibitor.\\n\\nPatient who received any prior systemic anti-cancer therapy (including hormonal therapy and chemotherapy) for advanced breast cancer\\n\\nNote:\\n\\nPatients who received (neo) adjuvant therapy for breast cancer are eligible. If the prior neo (adjuvant) therapy included letrozole or anastrozole the disease free interval must be greater than 12 months from the completion of treatment until randomization.\\nPatients who received ≤ 14 days of letrozole or anastrozole for advanced disease prior to randomization are eligible.\\nAny prior (neo) adjuvant anti-cancer therapy must be stopped at least 5 half-lives or 7 days, whichever is longer, before randomization\\nPatient is concurrently using other anti-cancer therapy.\\nPatient has a concurrent malignancy or malignancy within 3 years of randomization, with the exception of adequately treated, basal or squamous cell carcinoma, non-melanomatous skin cancer or curatively resected cervical cancer.\\n\\nPatient has active cardiac disease or a history of cardiac dysfunction including any of the following:\\n\\nHistory of angina pectoris, symptomatic pericarditis, or myocardial infarction within 12 months prior to study entry\\nHistory of documented congestive heart failure (New York Heart Association functional classification III-IV)\\nDocumented cardiomyopathy\\nPatient has a Left Ventricular Ejection Fraction (LVEF) < 50% as determined by Multiple Gated acquisition (MUGA) scan or echocardiogram (ECHO)\\nHistory of any cardiac arrhythmias, e.g., ventricular, supraventricular, nodal arrhythmias, or conduction abnormality in the previous 12 months.\\nOn screening, any of the following cardiac parameters:\\n\\nbradycardia (heart rate < 50 at rest), tachycardia (heart rate > 90 at rest), PR interval > 220 msec, QRS interval >109 msec, or QTcF >450 msec.\\n\\nSystolic blood pressure >160 or <90 mmHg\\n\\n6. Patient is currently receiving any of the following medications and cannot be discontinued 7 days prior start if the treatment:\\n\\nThat are known strong inducers or inhibitors of CYP3A4.\\nThat have a known risk to prolong the QT interval or induce Torsades de Pointes.\\nThat have a narrow therapeutic window and are predominantly metabolized through CYP3A4.\\nHerbal preparations/medications'"
      ]
     },
     "execution_count": 74,
     "metadata": {},
     "output_type": "execute_result"
    }
   ],
   "source": [
    "criteria_url = 'https://clinicaltrials.gov/api/query/field_values?expr=monaleesa2&field=EligibilityCriteria&fmt=json'\n",
    "criteria = requests.get(criteria_url).json()['FieldValuesResponse']['FieldValues'][0]['FieldValue']\n",
    "criteria"
   ]
  },
  {
   "cell_type": "code",
   "execution_count": 75,
   "metadata": {},
   "outputs": [],
   "source": [
    "a = criteria.split('\\n')\n",
    "inclusion = []\n",
    "exclusion = []\n",
    "for i in range(0,len(a)):\n",
    "    if a[i] == 'Inclusion Criteria:':\n",
    "        for j in range(i+1,len(a)):\n",
    "            if a[j] == 'Exclusion Criteria:':\n",
    "                break\n",
    "            if a[j] != '':\n",
    "                inclusion.append(a[j])\n",
    "    if a[i] == 'Exclusion Criteria:':\n",
    "        for j in range(i+1,len(a)):\n",
    "            if a[j] != '':\n",
    "                exclusion.append(a[j])"
   ]
  },
  {
   "cell_type": "code",
   "execution_count": 76,
   "metadata": {},
   "outputs": [],
   "source": [
    "monaleesa2['InclusionCriteria'] = inclusion\n",
    "monaleesa2['ExclusionCriteria'] = exclusion"
   ]
  },
  {
   "cell_type": "code",
   "execution_count": 77,
   "metadata": {},
   "outputs": [
    {
     "data": {
      "text/plain": [
       "{'StudyType': 'Interventional',\n",
       " 'InclusionCriteria': ['Women with advanced (locoregionally recurrent or metastatic) breast cancer not amenable to curative therapy.',\n",
       "  'Patient is postmenopausal. Postmenopausal status is defined either by:',\n",
       "  'Prior bilateral oophorectomy',\n",
       "  'Age ≥60',\n",
       "  'Age <60 and amenorrhea for 12 or more months (in the absence of chemotherapy, tamoxifen, toremifen, or ovarian suppression) and FSH and estradiol in the postmenopausal range per local normal range Note: For women with therapy-induced amenorrhea, serial measurements of FSH and/or estradiol are needed to ensure postmenopausal status. Ovarian radiation or treatment with a luteinizing hormone-releasing hormone agonist (LH-RHa) (goserelin acetate or leuprolide acetate) is not permitted for induction of ovarian suppression in this trial.',\n",
       "  'No prior systemic anti-cancer therapy for advanced disease.',\n",
       "  'Patient has a histologically and/or cytologically confirmed diagnosis of estrogen-receptor positive and/or progesterone receptor positive breast cancer by local laboratory.',\n",
       "  'Patient has HER2-negative breast cancer defined as a negative in situ hybridization test or an IHC status of 0, 1+ or 2+. If IHC is 2+, a negative in situ hybridization (FISH, CISH, or SISH) test is required by local laboratory testing.',\n",
       "  'Patient must have either:',\n",
       "  '• Measurable disease, i.e., at least one measurable lesion as per RECIST 1.1 criteria (Tumor lesions previously irradiated or subjected to other locoregional therapy will only be considered measurable if disease progression at the treated site after completion of therapy is clearly documented).',\n",
       "  'OR',\n",
       "  '• If no measurable disease is present, then at least one predominantly lytic bone lesion must be present (Patients with no measurable disease and only one predominantly lytic bone lesion that has been previously irradiated are eligible if there is documented evidence of disease progression of the bone lesion after irradiation).',\n",
       "  'Patient has an Eastern Cooperative Oncology Group (ECOG) performance status 0 or 1'],\n",
       " 'ExclusionCriteria': ['Patient who received any CDK4/6 inhibitor.',\n",
       "  'Patient who received any prior systemic anti-cancer therapy (including hormonal therapy and chemotherapy) for advanced breast cancer',\n",
       "  'Note:',\n",
       "  'Patients who received (neo) adjuvant therapy for breast cancer are eligible. If the prior neo (adjuvant) therapy included letrozole or anastrozole the disease free interval must be greater than 12 months from the completion of treatment until randomization.',\n",
       "  'Patients who received ≤ 14 days of letrozole or anastrozole for advanced disease prior to randomization are eligible.',\n",
       "  'Any prior (neo) adjuvant anti-cancer therapy must be stopped at least 5 half-lives or 7 days, whichever is longer, before randomization',\n",
       "  'Patient is concurrently using other anti-cancer therapy.',\n",
       "  'Patient has a concurrent malignancy or malignancy within 3 years of randomization, with the exception of adequately treated, basal or squamous cell carcinoma, non-melanomatous skin cancer or curatively resected cervical cancer.',\n",
       "  'Patient has active cardiac disease or a history of cardiac dysfunction including any of the following:',\n",
       "  'History of angina pectoris, symptomatic pericarditis, or myocardial infarction within 12 months prior to study entry',\n",
       "  'History of documented congestive heart failure (New York Heart Association functional classification III-IV)',\n",
       "  'Documented cardiomyopathy',\n",
       "  'Patient has a Left Ventricular Ejection Fraction (LVEF) < 50% as determined by Multiple Gated acquisition (MUGA) scan or echocardiogram (ECHO)',\n",
       "  'History of any cardiac arrhythmias, e.g., ventricular, supraventricular, nodal arrhythmias, or conduction abnormality in the previous 12 months.',\n",
       "  'On screening, any of the following cardiac parameters:',\n",
       "  'bradycardia (heart rate < 50 at rest), tachycardia (heart rate > 90 at rest), PR interval > 220 msec, QRS interval >109 msec, or QTcF >450 msec.',\n",
       "  'Systolic blood pressure >160 or <90 mmHg',\n",
       "  '6. Patient is currently receiving any of the following medications and cannot be discontinued 7 days prior start if the treatment:',\n",
       "  'That are known strong inducers or inhibitors of CYP3A4.',\n",
       "  'That have a known risk to prolong the QT interval or induce Torsades de Pointes.',\n",
       "  'That have a narrow therapeutic window and are predominantly metabolized through CYP3A4.',\n",
       "  'Herbal preparations/medications']}"
      ]
     },
     "execution_count": 77,
     "metadata": {},
     "output_type": "execute_result"
    }
   ],
   "source": [
    "monaleesa2"
   ]
  },
  {
   "cell_type": "code",
   "execution_count": 93,
   "metadata": {},
   "outputs": [
    {
     "data": {
      "text/plain": [
       "{'LEE011': {'url': 'https://en.wikipedia.org/w/api.php?action=query&list=search&srsearch=LEE011&format=json',\n",
       "  'description': 'Professional Drug Information on Kisqali. Accessed 2017-09-08. Samson K (2014). &quot;<span class=\"searchmatch\">LEE011</span> CDK Inhibitor Showing Early Promise in Drug-Resistant Cancers&quot;. Oncology'},\n",
       " 'Placebo': {'url': 'https://en.wikipedia.org/w/api.php?action=query&list=search&srsearch=Placebo&format=json',\n",
       "  'description': 'A <span class=\"searchmatch\">placebo</span> (/pləˈsiːboʊ/ plə-SEE-boh) is a substance or treatment which is designed to have no therapeutic value. Common <span class=\"searchmatch\">placebos</span> include inert tablets'},\n",
       " 'Letrozole': {'url': 'https://en.wikipedia.org/w/api.php?action=query&list=search&srsearch=Letrozole&format=json',\n",
       "  'description': '<span class=\"searchmatch\">Letrozole</span>, sold under the brand name Femara among others, is an aromatase inhibitor which is used in the treatment of hormonally-responsive breast cancer'}}"
      ]
     },
     "execution_count": 93,
     "metadata": {},
     "output_type": "execute_result"
    }
   ],
   "source": [
    "drug_url2 = 'https://clinicaltrials.gov/api/query/study_fields?expr=monaleesa2&fields=ArmGroupInterventionName&min_rnk=1&max_rnk=&fmt=json'\n",
    "drug2 = requests.get(drug_url2).json()['StudyFieldsResponse']['StudyFields'][0]['ArmGroupInterventionName']\n",
    "drugs2 = [i.strip(\"Drug:\").strip(\"'\").strip() for i in drug2] \n",
    "drugs2 = [i.split(\" \") for i in drugs2]\n",
    "drug = set()\n",
    "for i in drugs2:\n",
    "    for j in range(0,len(i)):\n",
    "        drug.add(i[j])\n",
    "API_ENDPOINT = 'https://en.wikipedia.org/w/api.php'\n",
    "drugs_with_des2 = {}\n",
    "for i in drug:\n",
    "    drugs_with_des2[i] = {}\n",
    "    query = i\n",
    "    params = {\n",
    "        'action':'query',\n",
    "        'list':'search',\n",
    "        'srsearch':query,\n",
    "        'format':'json',\n",
    "    }\n",
    "    drugs_with_des2[i]['url'] = requests.get(API_ENDPOINT,params=params).url\n",
    "    drugs_with_des2[i]['description'] = requests.get(API_ENDPOINT,params=params).json()\\\n",
    "    ['query']['search'][0]['snippet']\n",
    "i = 'LEE011'\n",
    "query = i\n",
    "params = {\n",
    "        'action':'query',\n",
    "        'list':'search',\n",
    "        'srsearch':query,\n",
    "        'format':'json',\n",
    "    }\n",
    "drugs_with_des2[i]['url'] = requests.get(API_ENDPOINT,params=params).url\n",
    "drugs_with_des2[i]['description'] = requests.get(API_ENDPOINT,params=params).json()\\\n",
    "['query']['search'][1]['snippet']\n",
    "drugs_with_des2"
   ]
  },
  {
   "cell_type": "code",
   "execution_count": 94,
   "metadata": {},
   "outputs": [],
   "source": [
    "monaleesa2['Drugs'] = drugs_with_des2"
   ]
  },
  {
   "cell_type": "code",
   "execution_count": 95,
   "metadata": {
    "scrolled": true
   },
   "outputs": [
    {
     "data": {
      "text/plain": [
       "{'StudyType': 'Interventional',\n",
       " 'InclusionCriteria': ['Women with advanced (locoregionally recurrent or metastatic) breast cancer not amenable to curative therapy.',\n",
       "  'Patient is postmenopausal. Postmenopausal status is defined either by:',\n",
       "  'Prior bilateral oophorectomy',\n",
       "  'Age ≥60',\n",
       "  'Age <60 and amenorrhea for 12 or more months (in the absence of chemotherapy, tamoxifen, toremifen, or ovarian suppression) and FSH and estradiol in the postmenopausal range per local normal range Note: For women with therapy-induced amenorrhea, serial measurements of FSH and/or estradiol are needed to ensure postmenopausal status. Ovarian radiation or treatment with a luteinizing hormone-releasing hormone agonist (LH-RHa) (goserelin acetate or leuprolide acetate) is not permitted for induction of ovarian suppression in this trial.',\n",
       "  'No prior systemic anti-cancer therapy for advanced disease.',\n",
       "  'Patient has a histologically and/or cytologically confirmed diagnosis of estrogen-receptor positive and/or progesterone receptor positive breast cancer by local laboratory.',\n",
       "  'Patient has HER2-negative breast cancer defined as a negative in situ hybridization test or an IHC status of 0, 1+ or 2+. If IHC is 2+, a negative in situ hybridization (FISH, CISH, or SISH) test is required by local laboratory testing.',\n",
       "  'Patient must have either:',\n",
       "  '• Measurable disease, i.e., at least one measurable lesion as per RECIST 1.1 criteria (Tumor lesions previously irradiated or subjected to other locoregional therapy will only be considered measurable if disease progression at the treated site after completion of therapy is clearly documented).',\n",
       "  'OR',\n",
       "  '• If no measurable disease is present, then at least one predominantly lytic bone lesion must be present (Patients with no measurable disease and only one predominantly lytic bone lesion that has been previously irradiated are eligible if there is documented evidence of disease progression of the bone lesion after irradiation).',\n",
       "  'Patient has an Eastern Cooperative Oncology Group (ECOG) performance status 0 or 1'],\n",
       " 'ExclusionCriteria': ['Patient who received any CDK4/6 inhibitor.',\n",
       "  'Patient who received any prior systemic anti-cancer therapy (including hormonal therapy and chemotherapy) for advanced breast cancer',\n",
       "  'Note:',\n",
       "  'Patients who received (neo) adjuvant therapy for breast cancer are eligible. If the prior neo (adjuvant) therapy included letrozole or anastrozole the disease free interval must be greater than 12 months from the completion of treatment until randomization.',\n",
       "  'Patients who received ≤ 14 days of letrozole or anastrozole for advanced disease prior to randomization are eligible.',\n",
       "  'Any prior (neo) adjuvant anti-cancer therapy must be stopped at least 5 half-lives or 7 days, whichever is longer, before randomization',\n",
       "  'Patient is concurrently using other anti-cancer therapy.',\n",
       "  'Patient has a concurrent malignancy or malignancy within 3 years of randomization, with the exception of adequately treated, basal or squamous cell carcinoma, non-melanomatous skin cancer or curatively resected cervical cancer.',\n",
       "  'Patient has active cardiac disease or a history of cardiac dysfunction including any of the following:',\n",
       "  'History of angina pectoris, symptomatic pericarditis, or myocardial infarction within 12 months prior to study entry',\n",
       "  'History of documented congestive heart failure (New York Heart Association functional classification III-IV)',\n",
       "  'Documented cardiomyopathy',\n",
       "  'Patient has a Left Ventricular Ejection Fraction (LVEF) < 50% as determined by Multiple Gated acquisition (MUGA) scan or echocardiogram (ECHO)',\n",
       "  'History of any cardiac arrhythmias, e.g., ventricular, supraventricular, nodal arrhythmias, or conduction abnormality in the previous 12 months.',\n",
       "  'On screening, any of the following cardiac parameters:',\n",
       "  'bradycardia (heart rate < 50 at rest), tachycardia (heart rate > 90 at rest), PR interval > 220 msec, QRS interval >109 msec, or QTcF >450 msec.',\n",
       "  'Systolic blood pressure >160 or <90 mmHg',\n",
       "  '6. Patient is currently receiving any of the following medications and cannot be discontinued 7 days prior start if the treatment:',\n",
       "  'That are known strong inducers or inhibitors of CYP3A4.',\n",
       "  'That have a known risk to prolong the QT interval or induce Torsades de Pointes.',\n",
       "  'That have a narrow therapeutic window and are predominantly metabolized through CYP3A4.',\n",
       "  'Herbal preparations/medications'],\n",
       " 'Drugs': {'LEE011': {'url': 'https://en.wikipedia.org/w/api.php?action=query&list=search&srsearch=LEE011&format=json',\n",
       "   'description': 'Professional Drug Information on Kisqali. Accessed 2017-09-08. Samson K (2014). &quot;<span class=\"searchmatch\">LEE011</span> CDK Inhibitor Showing Early Promise in Drug-Resistant Cancers&quot;. Oncology'},\n",
       "  'Placebo': {'url': 'https://en.wikipedia.org/w/api.php?action=query&list=search&srsearch=Placebo&format=json',\n",
       "   'description': 'A <span class=\"searchmatch\">placebo</span> (/pləˈsiːboʊ/ plə-SEE-boh) is a substance or treatment which is designed to have no therapeutic value. Common <span class=\"searchmatch\">placebos</span> include inert tablets'},\n",
       "  'Letrozole': {'url': 'https://en.wikipedia.org/w/api.php?action=query&list=search&srsearch=Letrozole&format=json',\n",
       "   'description': '<span class=\"searchmatch\">Letrozole</span>, sold under the brand name Femara among others, is an aromatase inhibitor which is used in the treatment of hormonally-responsive breast cancer'}}}"
      ]
     },
     "execution_count": 95,
     "metadata": {},
     "output_type": "execute_result"
    }
   ],
   "source": [
    "monaleesa2"
   ]
  },
  {
   "cell_type": "code",
   "execution_count": 72,
   "metadata": {},
   "outputs": [
    {
     "data": {
      "text/plain": [
       "{'StudyType': 'Interventional',\n",
       " 'InclusionCriteria': ['Adult women with locoregionally recurrent or metastatic disease not amenable to curative therapy.',\n",
       "  'Confirmed diagnosis of ER positive breast cancer',\n",
       "  'No prior systemic anti-cancer therapy for advanced ER+ disease.',\n",
       "  'Postmenopausal women',\n",
       "  'Measurable disease as per Response Evaluation Criterion in Solid Tumors [RECIST] or bone-only disease',\n",
       "  'Eastern Cooperative Oncology Group [ECOG] 0-2',\n",
       "  'Adequate organ and marrow function',\n",
       "  'Patient must agree to provide tumor tissue'],\n",
       " 'ExclusionCriteria': ['Confirmed diagnosis of HER2 positive disease',\n",
       "  'Patients with advanced, symptomatic, visceral spread that are at risk of life threatening complication in the short term',\n",
       "  'Known uncontrolled or symptomatic CNS metastases',\n",
       "  'Prior (neo)adjuvant treatment with letrozole or anastrozole with DFI ≤ 12-months from completion of treatment.',\n",
       "  'Prior treatment with any CDK 4/6 inhibitor.'],\n",
       " 'Drugs': {'PD-0332991': {'url': 'https://en.wikipedia.org/w/api.php?action=query&list=search&srsearch=PD-0332991&format=json',\n",
       "   'description': 'Kalous, O; Cohen, DJ; Desai, AJ; Ginther, C; Atefi, M; et al. (2009). &quot;<span class=\"searchmatch\">PD</span> <span class=\"searchmatch\">0332991</span>, a selective cyclin D kinase 4/6 inhibitor, preferentially inhibits proliferation'},\n",
       "  'Letrozole': {'url': 'https://en.wikipedia.org/w/api.php?action=query&list=search&srsearch=Letrozole&format=json',\n",
       "   'description': '<span class=\"searchmatch\">Letrozole</span>, sold under the brand name Femara among others, is an aromatase inhibitor which is used in the treatment of hormonally-responsive breast cancer'},\n",
       "  'Placebo': {'url': 'https://en.wikipedia.org/w/api.php?action=query&list=search&srsearch=Placebo&format=json',\n",
       "   'description': 'A <span class=\"searchmatch\">placebo</span> (/pləˈsiːboʊ/ plə-SEE-boh) is a substance or treatment which is designed to have no therapeutic value. Common <span class=\"searchmatch\">placebos</span> include inert tablets'}}}"
      ]
     },
     "execution_count": 72,
     "metadata": {},
     "output_type": "execute_result"
    }
   ],
   "source": [
    "paloma2"
   ]
  },
  {
   "cell_type": "code",
   "execution_count": 69,
   "metadata": {},
   "outputs": [],
   "source": [
    "import textdistance"
   ]
  },
  {
   "cell_type": "markdown",
   "metadata": {},
   "source": [
    "## compare clinicaltrials.gove materials"
   ]
  },
  {
   "cell_type": "code",
   "execution_count": 122,
   "metadata": {},
   "outputs": [],
   "source": [
    "import string\n",
    "table = str.maketrans('', '', string.punctuation)"
   ]
  },
  {
   "cell_type": "code",
   "execution_count": 130,
   "metadata": {},
   "outputs": [
    {
     "data": {
      "text/plain": [
       "['hi', 'I', 'like', 'you', 'like', 'you', 'likes', 'me']"
      ]
     },
     "execution_count": 130,
     "metadata": {},
     "output_type": "execute_result"
    }
   ],
   "source": [
    "a = 'hi !\"I\" like you, like& you* likes@ me^'\n",
    "a = a.split(\" \")\n",
    "\n",
    "stripped = [w.translate(table) for w in a]\n",
    "stripped"
   ]
  },
  {
   "cell_type": "code",
   "execution_count": 142,
   "metadata": {},
   "outputs": [
    {
     "name": "stdout",
     "output_type": "stream",
     "text": [
      "paloma2 Adult women with locoregionally recurrent or metastatic disease not amenable to curative therapy.\n",
      "monaleesa2 Women with advanced (locoregionally recurrent or metastatic) breast cancer not amenable to curative therapy.\n",
      "simmilarity 0.6875\n",
      "paloma2 Confirmed diagnosis of ER positive breast cancer\n",
      "monaleesa2 Patient has a histologically and/or cytologically confirmed diagnosis of estrogen-receptor positive and/or progesterone receptor positive breast cancer by local laboratory.\n",
      "simmilarity 0.2857142857142857\n",
      "paloma2 No prior systemic anti-cancer therapy for advanced ER+ disease.\n",
      "monaleesa2 No prior systemic anti-cancer therapy for advanced disease.\n",
      "simmilarity 0.8888888888888888\n",
      "paloma2 Measurable disease as per Response Evaluation Criterion in Solid Tumors [RECIST] or bone-only disease\n",
      "monaleesa2 • Measurable disease, i.e., at least one measurable lesion as per RECIST 1.1 criteria (Tumor lesions previously irradiated or subjected to other locoregional therapy will only be considered measurable if disease progression at the treated site after completion of therapy is clearly documented).\n",
      "simmilarity 0.14\n",
      "paloma2 Eastern Cooperative Oncology Group [ECOG] 0-2\n",
      "monaleesa2 Patient has an Eastern Cooperative Oncology Group (ECOG) performance status 0 or 1\n",
      "simmilarity 0.3571428571428572\n",
      "paloma2 Patient must agree to provide tumor tissue\n",
      "monaleesa2 Patient must have either:\n",
      "simmilarity 0.2222222222222222\n"
     ]
    }
   ],
   "source": [
    "for i in paloma2['InclusionCriteria']:\n",
    "    score = 0\n",
    "    a1 = i.lower().split(\" \")\n",
    "    a2 = [w.translate(table) for w in a1]\n",
    "    pal = ''\n",
    "    mon = ''\n",
    "    for j in monaleesa2['InclusionCriteria']:\n",
    "        b1 = j.lower().split(\" \")\n",
    "        b2 = [w.translate(table) for w in b1]\n",
    "        sim = textdistance.jaccard.normalized_similarity(a2,b2)\n",
    "        if sim > score:\n",
    "            score = sim\n",
    "            pal = i\n",
    "            mon = j\n",
    "    if score > 0.1:\n",
    "        print('paloma2',pal)\n",
    "        print('monaleesa2',mon)\n",
    "        print('simmilarity',score)"
   ]
  },
  {
   "cell_type": "code",
   "execution_count": 145,
   "metadata": {},
   "outputs": [
    {
     "name": "stdout",
     "output_type": "stream",
     "text": [
      "paloma2 Patients with advanced, symptomatic, visceral spread that are at risk of life threatening complication in the short term\n",
      "monaleesa2 Patients who received ≤ 14 days of letrozole or anastrozole for advanced disease prior to randomization are eligible.\n",
      "simmilarity 0.125\n",
      "paloma2 Known uncontrolled or symptomatic CNS metastases\n",
      "monaleesa2 That are known strong inducers or inhibitors of CYP3A4.\n",
      "simmilarity 0.15384615384615385\n",
      "paloma2 Prior (neo)adjuvant treatment with letrozole or anastrozole with DFI ≤ 12-months from completion of treatment.\n",
      "monaleesa2 Patients who received ≤ 14 days of letrozole or anastrozole for advanced disease prior to randomization are eligible.\n",
      "simmilarity 0.2222222222222222\n",
      "paloma2 Prior treatment with any CDK 4/6 inhibitor.\n",
      "monaleesa2 Patient who received any CDK4/6 inhibitor.\n",
      "simmilarity 0.18181818181818188\n"
     ]
    }
   ],
   "source": [
    "for i in paloma2['ExclusionCriteria']:\n",
    "    score = 0\n",
    "    a1 = i.lower().split(\" \")\n",
    "    a2 = [w.translate(table) for w in a1]\n",
    "    pal = ''\n",
    "    mon = ''\n",
    "    for j in monaleesa2['ExclusionCriteria']:\n",
    "        b1 = j.lower().split(\" \")\n",
    "        b2 = [w.translate(table) for w in b1]\n",
    "        sim = textdistance.jaccard.normalized_similarity(a2,b2)\n",
    "        if sim > score:\n",
    "            score = sim\n",
    "            pal = i\n",
    "            mon = j\n",
    "    if score > 0.1:\n",
    "        print('paloma2',pal)\n",
    "        print('monaleesa2',mon)\n",
    "        print('simmilarity',score)"
   ]
  },
  {
   "cell_type": "code",
   "execution_count": 150,
   "metadata": {},
   "outputs": [
    {
     "name": "stdout",
     "output_type": "stream",
     "text": [
      "paloma2 Letrozole\n",
      "monaleesa2 Letrozole\n",
      "simmilarity 1.0\n",
      "paloma2 Placebo\n",
      "monaleesa2 Placebo\n",
      "simmilarity 1.0\n"
     ]
    }
   ],
   "source": [
    "for i in paloma2['Drugs']:\n",
    "    score = 0\n",
    "    a1 = paloma2['Drugs'][i]['description'].lower().split(\" \")\n",
    "    a2 = [w.translate(table) for w in a1]\n",
    "    pal = ''\n",
    "    mon = ''\n",
    "    for j in monaleesa2['Drugs']:\n",
    "        b1 = monaleesa2['Drugs'][j]['description'].lower().split(\" \")\n",
    "        b2 = [w.translate(table) for w in b1]\n",
    "        sim = textdistance.jaccard.normalized_similarity(a2,b2)\n",
    "        if sim > score:\n",
    "            score = sim\n",
    "            pal = i\n",
    "            mon = j\n",
    "    if score > 0.1:\n",
    "        print('paloma2',pal)\n",
    "        print('monaleesa2',mon)\n",
    "        print('simmilarity',score)"
   ]
  },
  {
   "cell_type": "code",
   "execution_count": 98,
   "metadata": {},
   "outputs": [
    {
     "name": "stdout",
     "output_type": "stream",
     "text": [
      "Women with advanced (locoregionally recurrent or metastatic) breast cancer not amenable to curative therapy.\n",
      "Patient is postmenopausal. Postmenopausal status is defined either by:\n",
      "Prior bilateral oophorectomy\n",
      "Age ≥60\n",
      "Age <60 and amenorrhea for 12 or more months (in the absence of chemotherapy, tamoxifen, toremifen, or ovarian suppression) and FSH and estradiol in the postmenopausal range per local normal range Note: For women with therapy-induced amenorrhea, serial measurements of FSH and/or estradiol are needed to ensure postmenopausal status. Ovarian radiation or treatment with a luteinizing hormone-releasing hormone agonist (LH-RHa) (goserelin acetate or leuprolide acetate) is not permitted for induction of ovarian suppression in this trial.\n",
      "No prior systemic anti-cancer therapy for advanced disease.\n",
      "Patient has a histologically and/or cytologically confirmed diagnosis of estrogen-receptor positive and/or progesterone receptor positive breast cancer by local laboratory.\n",
      "Patient has HER2-negative breast cancer defined as a negative in situ hybridization test or an IHC status of 0, 1+ or 2+. If IHC is 2+, a negative in situ hybridization (FISH, CISH, or SISH) test is required by local laboratory testing.\n",
      "Patient must have either:\n",
      "• Measurable disease, i.e., at least one measurable lesion as per RECIST 1.1 criteria (Tumor lesions previously irradiated or subjected to other locoregional therapy will only be considered measurable if disease progression at the treated site after completion of therapy is clearly documented).\n",
      "OR\n",
      "• If no measurable disease is present, then at least one predominantly lytic bone lesion must be present (Patients with no measurable disease and only one predominantly lytic bone lesion that has been previously irradiated are eligible if there is documented evidence of disease progression of the bone lesion after irradiation).\n",
      "Patient has an Eastern Cooperative Oncology Group (ECOG) performance status 0 or 1\n"
     ]
    }
   ],
   "source": [
    "for j in monaleesa2['InclusionCriteria']:\n",
    "    print(j)"
   ]
  },
  {
   "cell_type": "code",
   "execution_count": null,
   "metadata": {},
   "outputs": [],
   "source": []
  },
  {
   "cell_type": "code",
   "execution_count": null,
   "metadata": {},
   "outputs": [],
   "source": []
  },
  {
   "cell_type": "code",
   "execution_count": null,
   "metadata": {},
   "outputs": [],
   "source": []
  },
  {
   "cell_type": "code",
   "execution_count": null,
   "metadata": {},
   "outputs": [],
   "source": []
  },
  {
   "cell_type": "code",
   "execution_count": null,
   "metadata": {},
   "outputs": [],
   "source": []
  },
  {
   "cell_type": "code",
   "execution_count": null,
   "metadata": {},
   "outputs": [],
   "source": []
  },
  {
   "cell_type": "code",
   "execution_count": null,
   "metadata": {},
   "outputs": [],
   "source": []
  },
  {
   "cell_type": "code",
   "execution_count": null,
   "metadata": {},
   "outputs": [],
   "source": []
  },
  {
   "cell_type": "code",
   "execution_count": null,
   "metadata": {},
   "outputs": [],
   "source": []
  },
  {
   "cell_type": "code",
   "execution_count": 15,
   "metadata": {},
   "outputs": [],
   "source": [
    "from tabula import read_pdf\n",
    "table = read_pdf('paloma2.pdf',pages = 4,output_format='json')"
   ]
  },
  {
   "cell_type": "code",
   "execution_count": 16,
   "metadata": {},
   "outputs": [],
   "source": [
    "def get_vals(test_dict, key): \n",
    "    for i, j in test_dict.items(): \n",
    "        if i == key: \n",
    "            yield (j) \n",
    "        yield from [] if not isinstance(j, dict) else get_vals(j, key)\n"
   ]
  },
  {
   "cell_type": "code",
   "execution_count": 17,
   "metadata": {},
   "outputs": [],
   "source": [
    "data = []\n",
    "for i in table[0]['data']:\n",
    "    for j in i:\n",
    "        data.append(list(get_vals(j,'text')))\n",
    "data = list(filter(lambda a: a != [''],data))"
   ]
  },
  {
   "cell_type": "code",
   "execution_count": 18,
   "metadata": {},
   "outputs": [
    {
     "data": {
      "text/plain": [
       "[['Table 1. Patient Demographic and Clinical Characteristics.*'],\n",
       " ['Palbociclib–LetrozolePlacebo–Letrozole\\rCharacteristic(N = 444)(N = 222)'],\n",
       " ['Age'],\n",
       " ['Median (range) — yr'],\n",
       " ['62 (30–89)61 (28–88)'],\n",
       " ['<65 yr — no. (%)'],\n",
       " ['263 (59.2)'],\n",
       " ['141 (63.5)'],\n",
       " ['≥65 yr — no. (%)'],\n",
       " ['181 (40.8)81 (36.5)'],\n",
       " ['Race — no. (%)†'],\n",
       " ['White'],\n",
       " ['344 (77.5)172 (77.5)'],\n",
       " ['Asian'],\n",
       " ['65 (14.6)'],\n",
       " ['30 (13.5)'],\n",
       " ['Black'],\n",
       " ['8 (1.8)3 (1.4)'],\n",
       " ['Other'],\n",
       " ['27 (6.1)'],\n",
       " ['17 (7.7)'],\n",
       " ['ECOG performance status — no. (%)‡'],\n",
       " ['0'],\n",
       " ['257 (57.9)'],\n",
       " ['102 (45.9)'],\n",
       " ['1'],\n",
       " ['178 (40.1)117 (52.7)'],\n",
       " ['2'],\n",
       " ['9 (2.0)'],\n",
       " ['3 (1.4)'],\n",
       " ['Disease stage at initial diagnosis — no. (%)'],\n",
       " ['I'],\n",
       " ['51 (11.5)'],\n",
       " ['30 (13.5)'],\n",
       " ['II'],\n",
       " ['137 (30.9)68 (30.6)'],\n",
       " ['III'],\n",
       " ['72 (16.2)'],\n",
       " ['39 (17.6)'],\n",
       " ['IV'],\n",
       " ['138 (31.1)72 (32.4)'],\n",
       " ['Unknown'],\n",
       " ['36 (8.1)'],\n",
       " ['12 (5.4)'],\n",
       " ['Other or data missing§'],\n",
       " ['10 (2.3)1 (0.5)'],\n",
       " ['Recurrence type — no. (%)'],\n",
       " ['Locoregional'],\n",
       " ['2 (0.5)2 (0.9)'],\n",
       " ['Local'],\n",
       " ['6 (1.4)'],\n",
       " ['3 (1.4)'],\n",
       " ['Regional'],\n",
       " ['3 (0.7)1 (0.5)'],\n",
       " ['Distant'],\n",
       " ['294 (66.2)'],\n",
       " ['145 (65.3)'],\n",
       " ['Newly diagnosed'],\n",
       " ['139 (31.3)71 (32.0)'],\n",
       " ['Disease-free interval — no. (%)¶'],\n",
       " ['Newly metastatic disease'],\n",
       " ['167 (37.6)81 (36.5)'],\n",
       " ['≤12 mo'],\n",
       " ['99 (22.3)'],\n",
       " ['48 (21.6)'],\n",
       " ['>12 mo'],\n",
       " ['178 (40.1)93 (41.9)'],\n",
       " ['Disease site — no. (%)'],\n",
       " ['Visceral'],\n",
       " ['214 (48.2)110 (49.5)'],\n",
       " ['Nonvisceral'],\n",
       " ['230 (51.8)'],\n",
       " ['112 (50.5)'],\n",
       " ['Bone only'],\n",
       " ['103 (23.2)48 (21.6)'],\n",
       " ['No. of disease sites — no. (%)'],\n",
       " ['1'],\n",
       " ['138 (31.1)66 (29.7)'],\n",
       " ['2'],\n",
       " ['117 (26.4)'],\n",
       " ['52 (23.4)'],\n",
       " ['3'],\n",
       " ['112 (25.2)61 (27.5)'],\n",
       " ['≥4'],\n",
       " ['77 (17.3)'],\n",
       " ['43 (19.4)']]"
      ]
     },
     "execution_count": 18,
     "metadata": {},
     "output_type": "execute_result"
    }
   ],
   "source": [
    "data"
   ]
  },
  {
   "cell_type": "code",
   "execution_count": 19,
   "metadata": {},
   "outputs": [],
   "source": [
    "paloma2['data'] = data"
   ]
  },
  {
   "cell_type": "code",
   "execution_count": 20,
   "metadata": {},
   "outputs": [
    {
     "data": {
      "text/plain": [
       "{'StudyType': 'Interventional',\n",
       " 'InclusionCriteria': ['Adult women with locoregionally recurrent or metastatic disease not amenable to curative therapy.',\n",
       "  'Confirmed diagnosis of ER positive breast cancer',\n",
       "  'No prior systemic anti-cancer therapy for advanced ER+ disease.',\n",
       "  'Postmenopausal women',\n",
       "  'Measurable disease as per Response Evaluation Criterion in Solid Tumors [RECIST] or bone-only disease',\n",
       "  'Eastern Cooperative Oncology Group [ECOG] 0-2',\n",
       "  'Adequate organ and marrow function',\n",
       "  'Patient must agree to provide tumor tissue'],\n",
       " 'ExclusionCriteria': ['Confirmed diagnosis of HER2 positive disease',\n",
       "  'Patients with advanced, symptomatic, visceral spread that are at risk of life threatening complication in the short term',\n",
       "  'Known uncontrolled or symptomatic CNS metastases',\n",
       "  'Prior (neo)adjuvant treatment with letrozole or anastrozole with DFI ≤ 12-months from completion of treatment.',\n",
       "  'Prior treatment with any CDK 4/6 inhibitor.'],\n",
       " 'Drugs': {'PD-0332991': {'url': 'https://en.wikipedia.org/w/api.php?action=query&list=search&srsearch=PD-0332991&format=json',\n",
       "   'description': 'Kalous, O; Cohen, DJ; Desai, AJ; Ginther, C; Atefi, M; et al. (2009). &quot;<span class=\"searchmatch\">PD</span> <span class=\"searchmatch\">0332991</span>, a selective cyclin D kinase 4/6 inhibitor, preferentially inhibits proliferation'},\n",
       "  'Letrozole': {'url': 'https://en.wikipedia.org/w/api.php?action=query&list=search&srsearch=Letrozole&format=json',\n",
       "   'description': '<span class=\"searchmatch\">Letrozole</span>, sold under the brand name Femara among others, is an aromatase inhibitor which is used in the treatment of hormonally-responsive breast cancer'},\n",
       "  'Placebo': {'url': 'https://en.wikipedia.org/w/api.php?action=query&list=search&srsearch=Placebo&format=json',\n",
       "   'description': 'A <span class=\"searchmatch\">placebo</span> (/pləˈsiːboʊ/ plə-SEE-boh) is a substance or treatment which is designed to have no therapeutic value. Common <span class=\"searchmatch\">placebos</span> include inert tablets'}},\n",
       " 'data': [['Table 1. Patient Demographic and Clinical Characteristics.*'],\n",
       "  ['Palbociclib–LetrozolePlacebo–Letrozole\\rCharacteristic(N = 444)(N = 222)'],\n",
       "  ['Age'],\n",
       "  ['Median (range) — yr'],\n",
       "  ['62 (30–89)61 (28–88)'],\n",
       "  ['<65 yr — no. (%)'],\n",
       "  ['263 (59.2)'],\n",
       "  ['141 (63.5)'],\n",
       "  ['≥65 yr — no. (%)'],\n",
       "  ['181 (40.8)81 (36.5)'],\n",
       "  ['Race — no. (%)†'],\n",
       "  ['White'],\n",
       "  ['344 (77.5)172 (77.5)'],\n",
       "  ['Asian'],\n",
       "  ['65 (14.6)'],\n",
       "  ['30 (13.5)'],\n",
       "  ['Black'],\n",
       "  ['8 (1.8)3 (1.4)'],\n",
       "  ['Other'],\n",
       "  ['27 (6.1)'],\n",
       "  ['17 (7.7)'],\n",
       "  ['ECOG performance status — no. (%)‡'],\n",
       "  ['0'],\n",
       "  ['257 (57.9)'],\n",
       "  ['102 (45.9)'],\n",
       "  ['1'],\n",
       "  ['178 (40.1)117 (52.7)'],\n",
       "  ['2'],\n",
       "  ['9 (2.0)'],\n",
       "  ['3 (1.4)'],\n",
       "  ['Disease stage at initial diagnosis — no. (%)'],\n",
       "  ['I'],\n",
       "  ['51 (11.5)'],\n",
       "  ['30 (13.5)'],\n",
       "  ['II'],\n",
       "  ['137 (30.9)68 (30.6)'],\n",
       "  ['III'],\n",
       "  ['72 (16.2)'],\n",
       "  ['39 (17.6)'],\n",
       "  ['IV'],\n",
       "  ['138 (31.1)72 (32.4)'],\n",
       "  ['Unknown'],\n",
       "  ['36 (8.1)'],\n",
       "  ['12 (5.4)'],\n",
       "  ['Other or data missing§'],\n",
       "  ['10 (2.3)1 (0.5)'],\n",
       "  ['Recurrence type — no. (%)'],\n",
       "  ['Locoregional'],\n",
       "  ['2 (0.5)2 (0.9)'],\n",
       "  ['Local'],\n",
       "  ['6 (1.4)'],\n",
       "  ['3 (1.4)'],\n",
       "  ['Regional'],\n",
       "  ['3 (0.7)1 (0.5)'],\n",
       "  ['Distant'],\n",
       "  ['294 (66.2)'],\n",
       "  ['145 (65.3)'],\n",
       "  ['Newly diagnosed'],\n",
       "  ['139 (31.3)71 (32.0)'],\n",
       "  ['Disease-free interval — no. (%)¶'],\n",
       "  ['Newly metastatic disease'],\n",
       "  ['167 (37.6)81 (36.5)'],\n",
       "  ['≤12 mo'],\n",
       "  ['99 (22.3)'],\n",
       "  ['48 (21.6)'],\n",
       "  ['>12 mo'],\n",
       "  ['178 (40.1)93 (41.9)'],\n",
       "  ['Disease site — no. (%)'],\n",
       "  ['Visceral'],\n",
       "  ['214 (48.2)110 (49.5)'],\n",
       "  ['Nonvisceral'],\n",
       "  ['230 (51.8)'],\n",
       "  ['112 (50.5)'],\n",
       "  ['Bone only'],\n",
       "  ['103 (23.2)48 (21.6)'],\n",
       "  ['No. of disease sites — no. (%)'],\n",
       "  ['1'],\n",
       "  ['138 (31.1)66 (29.7)'],\n",
       "  ['2'],\n",
       "  ['117 (26.4)'],\n",
       "  ['52 (23.4)'],\n",
       "  ['3'],\n",
       "  ['112 (25.2)61 (27.5)'],\n",
       "  ['≥4'],\n",
       "  ['77 (17.3)'],\n",
       "  ['43 (19.4)']]}"
      ]
     },
     "execution_count": 20,
     "metadata": {},
     "output_type": "execute_result"
    }
   ],
   "source": [
    "paloma2"
   ]
  },
  {
   "cell_type": "code",
   "execution_count": 21,
   "metadata": {},
   "outputs": [],
   "source": [
    "from rdflib import Graph, URIRef, Literal, XSD, Namespace, RDF, RDFS\n",
    "import pandas as pd\n",
    "import json"
   ]
  },
  {
   "cell_type": "code",
   "execution_count": 22,
   "metadata": {},
   "outputs": [],
   "source": [
    "CT = Namespace('http://myclinicaltrials.org/CT#')\n",
    "SCHEMA = Namespace('http://schema.org/')"
   ]
  },
  {
   "cell_type": "code",
   "execution_count": 23,
   "metadata": {},
   "outputs": [],
   "source": [
    "kg = Graph()\n",
    "kg.bind('Clinical_Trials', CT)\n",
    "kg.bind('schema',SCHEMA)\n",
    "\n",
    "ct_uri = URIRef('https://clinicaltrials.gov/ct2/show/NCT04199078?term=paloma-2&draw=2&rank=1')\n",
    "kg.add((ct_uri, RDF.type, SCHEMA.MedicalTrial))\n",
    "# kg.add((ct_uri, RDF.type, CT['Clinical_Trial']))"
   ]
  },
  {
   "cell_type": "code",
   "execution_count": 24,
   "metadata": {},
   "outputs": [
    {
     "name": "stdout",
     "output_type": "stream",
     "text": [
      "PD-0332991\n",
      "Letrozole\n",
      "Placebo\n"
     ]
    }
   ],
   "source": [
    "for i in paloma2['Drugs']:\n",
    "    print(i)"
   ]
  },
  {
   "cell_type": "code",
   "execution_count": 25,
   "metadata": {
    "scrolled": true
   },
   "outputs": [],
   "source": [
    "for i in paloma2:\n",
    "    if i == 'InclusionCriteria':\n",
    "        for j in paloma2[i]:\n",
    "            kg.add((ct_uri, CT.hasInclusionCriteria, Literal(j)))\n",
    "    if i == 'ExclusionCriteria':\n",
    "        for j in paloma2[i]:\n",
    "            kg.add((ct_uri, CT.hasExclusionCriteria, Literal(j)))\n",
    "    if i == 'Drugs':\n",
    "        for j in paloma2[i]:\n",
    "            k = URIRef(paloma2[i][j]['url'])\n",
    "            kg.add((ct_uri, CT.hasDrug, k))\n",
    "            kg.add((k, SCHEMA.name, Literal(j)))\n",
    "            kg.add((k, SCHEMA.description, Literal(paloma2[i][j]['description'])))\n",
    "            \n"
   ]
  },
  {
   "cell_type": "code",
   "execution_count": 26,
   "metadata": {},
   "outputs": [],
   "source": [
    "# kg.add((CT[drug], SCHEMA.Drug, SCHEMA.MedicalTrial))"
   ]
  },
  {
   "cell_type": "code",
   "execution_count": 27,
   "metadata": {},
   "outputs": [],
   "source": [
    "kg.serialize('paloma-2.ttl', format=\"turtle\")"
   ]
  }
 ],
 "metadata": {
  "kernelspec": {
   "display_name": "Python 3",
   "language": "python",
   "name": "python3"
  },
  "language_info": {
   "codemirror_mode": {
    "name": "ipython",
    "version": 3
   },
   "file_extension": ".py",
   "mimetype": "text/x-python",
   "name": "python",
   "nbconvert_exporter": "python",
   "pygments_lexer": "ipython3",
   "version": "3.7.6"
  }
 },
 "nbformat": 4,
 "nbformat_minor": 4
}
