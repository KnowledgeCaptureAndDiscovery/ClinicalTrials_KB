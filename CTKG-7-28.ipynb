{
 "cells": [
  {
   "cell_type": "code",
   "execution_count": 54,
   "metadata": {},
   "outputs": [],
   "source": [
    "import json\n",
    "import requests\n",
    "from rdflib import Graph, URIRef, Literal, XSD, Namespace, RDF, RDFS\n",
    "import pandas as pd\n",
    "from bs4 import BeautifulSoup as BS\n",
    "from urllib.request import urlopen\n",
    "from lxml import etree\n",
    "import re\n",
    "CT = Namespace('http://myclinicaltrials.org/CT#')\n",
    "SCHEMA = Namespace('http://schema.org/')"
   ]
  },
  {
   "cell_type": "code",
   "execution_count": 238,
   "metadata": {},
   "outputs": [],
   "source": [
    "def crawling_data(ID,output):\n",
    "    url = 'https://clinicaltrials.gov/ct2/show/results/'+ID+'?view=results'\n",
    "    \n",
    "    response = urlopen(url)\n",
    "    soup = BS(response, 'html.parser')\n",
    "    baseline = soup.find_all(\"th\",class_=\"de-popFlowLabelCell\")\n",
    "    response = urlopen(url)\n",
    "    soup = BS(response, 'html.parser')\n",
    "    dom = etree.HTML(str(soup))\n",
    "    output['groups'] = []\n",
    "    output[\"treatment\"] = []\n",
    "    output[\"ageOfPatients\"] = []\n",
    "    output[\"outcome\"] = []\n",
    "    output[\"outcome_measurements\"] = []\n",
    "    output[\"age_measurements\"] = []\n",
    "    output[\"outcome_description\"] = []\n",
    "    output['hazardRatio'] = []\n",
    "    output['Drugs'] = []\n",
    "    output['InclusionCriteria'] = []\n",
    "    output['ExclusionCriteria'] = []\n",
    "    output['StudyType'] = []\n",
    "\n",
    "    if (len(baseline)>0):\n",
    "        groups = []\n",
    "        number_of_patients = []\n",
    "        for i in range(0,len(baseline)):\n",
    "            groups.append(baseline[i].text.strip(\"\\n\").strip(\"\\r\").strip())\n",
    "            number_of_patients.append(soup.find_all(\"td\",class_=\"de-numValue_baselineDataCell\")[i].text.strip(\"\\n\").strip(\"\\r\").strip())\n",
    "        \n",
    "        output['groups'] = groups\n",
    "        output[\"numberOfPatients\"] = []\n",
    "        if(len(soup.find_all(\"td\", class_=\"de-numValue_popFlowCell\"))>0):          \n",
    "            for i in range(0,len(baseline)):\n",
    "                output[\"numberOfPatients\"].append(soup.find_all(\"td\", class_=\"de-numValue_popFlowCell\")[i].text.strip(\"\\r\").strip(\"\\n\").strip())\n",
    "\n",
    " \n",
    "        treatment = dom.xpath('//*[@id=\"EXPAND-armGroupDescriptionRow-baseline\"]/td[2]/text()')\n",
    "        if(len(treatment)>0):\n",
    "#             print('1')\n",
    "            output[\"treatment\"].append(dom.xpath('//*[@id=\"EXPAND-armGroupDescriptionRow-baseline\"]/td[' + str(i+2)+ ']/text()')[0]\n",
    "                                       .strip('\\n').strip('\\r').strip().replace('\\n','').replace('\\xa0',''))\n",
    "        else:\n",
    "#             print('2')\n",
    "            treatment = dom.xpath('//*[@id=\"EXPAND-armGroupDescriptionRow-baseline\"]/td[2]/p[1]/text()')\n",
    "            if(len(treatment)>0):\n",
    "                print(treatment)\n",
    "                output[\"treatment\"].append(dom.xpath('//*[@id=\"EXPAND-armGroupDescriptionRow-baseline\"]/td['+str(i+2)+']/p[1]/text()')[0]\n",
    "                                           .strip('\\n').strip('\\r').strip().replace('\\n','').replace('\\xa0',''))\n",
    "          \n",
    "        output[\"age_measurements\"] = [dom.xpath('//*[@id=\"tab-body\"]/div[1]/div[3]/div[2]/table/tbody/tr[7]/th[1]/div/div[1]/text()'),\n",
    "                                     dom.xpath('//*[@id=\"tab-body\"]/div[1]/div[3]/div[2]/table/tbody/tr[7]/th[1]/div/div[2]/text()')]\n",
    "        if(len(output[\"age_measurements\"])>0):\n",
    "            am1 = dom.xpath('//*[@id=\"tab-body\"]/div[1]/div[3]/div[2]/table/tbody/tr[7]/th[1]/div/div[1]/text()')\n",
    "            am2 = dom.xpath('//*[@id=\"tab-body\"]/div[1]/div[3]/div[2]/table/tbody/tr[7]/th[1]/div/div[2]/text()')\n",
    "            if (len(am1)>0 and len(am2)>0):\n",
    "                output[\"age_measurements\"] = [am1[0].strip('\\n').strip('\\r').strip().replace('\\n','').replace('\\xa0',''),\n",
    "                                     am2[0].strip('\\n').strip('\\r').strip().replace('\\n','').replace('\\xa0','')]\n",
    "\n",
    "                if('count' in output[\"age_measurements\"][0].lower()):\n",
    "                    print(\"need to check count\")\n",
    "                else:\n",
    "\n",
    "                    age = dom.xpath('//*[@id=\"tab-body\"]/div[1]/div[3]/div[2]/table/tbody/tr[9]/td[2]/span/text()')\n",
    "            #         //*[@id=\"tab-body\"]/div[1]/div[3]/div[2]/table/tbody/tr[9]/td[2]/div[1]\n",
    "                    if(len(age)>0):\n",
    "                        for i in range(0,len(baseline)):\n",
    "                            output[\"ageOfPatients\"].append(dom.xpath('//*[@id=\"tab-body\"]/div[1]/div[3]/div[2]/table/tbody/tr[9]/td[' + str(i+2) + ']/span/text()')\n",
    "                                                           [0].strip('\\n').strip('\\r').strip().replace('\\n','').replace('\\xa0',''))\n",
    "                    else:\n",
    "                        age = dom.xpath('//*[@id=\"tab-body\"]/div[1]/div[3]/div[2]/table/tbody/tr[9]/td[2]/div[1]/text()') \n",
    "                        for i in range(0,len(baseline)):\n",
    "                            age = dom.xpath('//*[@id=\"tab-body\"]/div[1]/div[3]/div[2]/table/tbody/tr[9]/td['+str(i+2)+']/div[1]/text()')\n",
    "                            if len(age)>0:\n",
    "                                output[\"ageOfPatients\"].append(age[0].strip('\\n').strip('\\r').strip().replace('\\n','').replace('\\xa0',''))\n",
    "            # //*[@id=\"tab-body\"]/div[1]/div[3]/div[2]/table/tbody/tr[9]/td[2]/div[2]\n",
    "            # //*[@id=\"tab-body\"]/div[1]/div[3]/div[2]/table/tbody/tr[10]/td[2]/div[1]\n",
    "\n",
    "        outcome = dom.xpath('//*[@id=\"EXPAND-outcome-data-1\"]/table/tbody/tr[6]/td[1]/div[1]/text()')\n",
    "        \n",
    "        if(len(outcome) > 0):\n",
    "            for i in range(0,len(baseline)):\n",
    "                otc = dom.xpath('//*[@id=\"EXPAND-outcome-data-1\"]/table/tbody/tr[6]/td[' + str(i+1) + ']/div[1]/text()')\n",
    "                if len(otc)>0:                        \n",
    "                    output[\"outcome\"].append(otc[0].strip('\\n').strip('\\r').strip().replace('\\n','').replace('\\xa0',''))\n",
    "        else:\n",
    "            output[\"outcome\"] = []\n",
    "        output[\"outcome_measurements\"] = [dom.xpath('//*[@id=\"EXPAND-outcome-data-1\"]/table/tbody/tr[5]/th/text()'),\n",
    "                                     dom.xpath('//*[@id=\"EXPAND-outcome-data-1\"]/table/tbody/tr[5]/th/div/text()')]\n",
    "        if(len(output[\"outcome_measurements\"]) > 0):\n",
    "            m1 = dom.xpath('//*[@id=\"EXPAND-outcome-data-1\"]/table/tbody/tr[5]/th/text()')\n",
    "            m2 = dom.xpath('//*[@id=\"EXPAND-outcome-data-1\"]/table/tbody/tr[5]/th/div/text()')\n",
    "            if (len(m1)>0 and len(m2)>0):\n",
    "                output[\"outcome_measurements\"] = [m1[0].strip('\\n').strip('\\r').strip().replace('\\n','').replace('\\xa0',''),\n",
    "                                     m2[0].strip('\\n').strip('\\r').strip().replace('\\n','').replace('\\xa0','')]\n",
    "        outcome_description = dom.xpath('//*[@id=\"tab-body\"]/div[1]/div[4]/div[2]/fieldset[1]/div/table/tr[1]/td/text()')\n",
    "        if (len(outcome_description)>0):\n",
    "#             print('0')\n",
    "            output[\"outcome_description\"] =str(dom.xpath('//*[@id=\"tab-body\"]/div[1]/div[4]/div[2]/fieldset[1]/div/table/tr[1]/td/text()')\n",
    "            [0]).strip('\\n').strip('\\r').strip().replace('\\n','').replace('\\xa0','')\n",
    "\n",
    "        drug = dom.xpath('//*[@id=\"tab-body\"]/div[1]/div[1]/div/table/tr[4]/td/text()')\n",
    "        if (len(drug)>0):\n",
    "            drugs = []\n",
    "            for i in drug:\n",
    "                if ': ' in i:\n",
    "                    drugs.append(i.split(\": \",1)[1])\n",
    "#             output['drug'] = drugs\n",
    "        \n",
    "        API_ENDPOINT = 'https://en.wikipedia.org/w/api.php'\n",
    "        drugs_with_des = {}\n",
    "        for i in drugs:\n",
    "            drugs_with_des[i] = {}\n",
    "            query = i\n",
    "            params = {\n",
    "                'action':'query',\n",
    "                'list':'search',\n",
    "                'srsearch':query,\n",
    "                'format':'json',\n",
    "            }\n",
    "            drugs_with_des[i]['url'] = requests.get(API_ENDPOINT,params=params).url\n",
    "            temp = requests.get(API_ENDPOINT,params=params).json()['query']['search']\n",
    "            if(len(temp)>0):\n",
    "                des = temp[0]['snippet']\n",
    "                drugs_with_des[i]['description'] = re.sub(r\"<.+?>\", \"\", des)\n",
    "\n",
    "        output['Drugs'] = drugs_with_des\n",
    "        hr = dom.xpath('//*[@id=\"EXPAND-stat-analysis-1-1\"]/table/tbody/tr[12]/td/text()')\n",
    "        if (len(hr)>0):\n",
    "            hr2 = str(hr[0]).strip('\\n').strip()\n",
    "            output['hazardRatio'] = hr2\n",
    "    ## get materials from APIs\n",
    "    studytype_url = 'https://clinicaltrials.gov/api/query/study_fields?expr='+ID+'&fields=studytype&min_rnk=1&max_rnk=&fmt=json'\n",
    "    studytype = requests.get(studytype_url).json()['StudyFieldsResponse']['StudyFields'][0]['StudyType'][0]\n",
    "    output['StudyType'] = studytype\n",
    "#     criteria_url = 'https://clinicaltrials.gov/api/query/full_studies?expr='+ID+'&min_rnk=1&max_rnk=&fmt=json'\n",
    "    criteria_url = 'https://clinicaltrials.gov/api/query/study_fields?expr='+ID+'&fields=EligibilityCriteria&min_rnk=1&max_rnk=&fmt=json'\n",
    "    criteria = requests.get(criteria_url).json()['StudyFieldsResponse']['StudyFields'][0]['EligibilityCriteria']\n",
    "\n",
    "    b = criteria[0].split('\\n')\n",
    "    inclusion = []\n",
    "    exclusion = []\n",
    "    for i in range(0,len(b)):\n",
    "        if b[i].lower().startswith('inclusion criteria'):\n",
    "            for j in range(i+1,len(b)):\n",
    "                if b[j].lower().startswith('exclusion criteria'):\n",
    "                    break\n",
    "                if b[j] != '':\n",
    "                    inclusion.append(b[j])\n",
    "        if b[i].lower().startswith('exclusion criteria'):\n",
    "            for j in range(i+1,len(b)):\n",
    "                if b[j] != '':\n",
    "                    exclusion.append(b[j])\n",
    "    output['InclusionCriteria'] = inclusion\n",
    "    output['ExclusionCriteria'] = exclusion\n",
    "        \n",
    "    return output\n",
    "\n",
    "\n",
    "\n",
    "\n"
   ]
  },
  {
   "cell_type": "code",
   "execution_count": 239,
   "metadata": {},
   "outputs": [],
   "source": [
    "def generate_Graph(ID,output):\n",
    "    kg = Graph()\n",
    "    kg.bind('Clinical_Trials', CT)\n",
    "    kg.bind('schema',SCHEMA)\n",
    "    ct_uri = URIRef('https://clinicaltrials.gov/ct2/show/'+ID)\n",
    "    kg.add((ct_uri, RDF.type, SCHEMA.MedicalTrial))\n",
    "    kg.add((ct_uri, CT.hasID, Literal(ID)))\n",
    "\n",
    "    if (len(output[\"StudyType\"]) > 0):\n",
    "#         print(len(output[\"StudyType\"]))\n",
    "        kg.add((ct_uri, CT.hasStudyType, Literal(output['StudyType'])))\n",
    "    if (len(output['InclusionCriteria'])>0):\n",
    "#         print(len(output['InclusionCriteria']))\n",
    "        for j in output['InclusionCriteria']:\n",
    "            kg.add((ct_uri, CT.hasInclusionCriteria, Literal(j)))\n",
    "    if (len(output['ExclusionCriteria'])>0):\n",
    "#         print(len(output['ExclusionCriteria']))\n",
    "        for j in output['ExclusionCriteria']:\n",
    "            kg.add((ct_uri, CT.hasExclusionCriteria, Literal(j)))\n",
    "    if (len(output['Drugs'])>0):\n",
    "        for j in output['Drugs']:\n",
    "            k = URIRef(output['Drugs'][j]['url'])\n",
    "            kg.add((ct_uri, CT.hasDrug, k))\n",
    "            kg.add((k, SCHEMA.name, Literal(j)))\n",
    "            if('description' in output['Drugs'][j]):\n",
    "                kg.add((k, SCHEMA.description, Literal(output['Drugs'][j]['description'])))\n",
    "\n",
    "        l = len(output[\"groups\"])\n",
    "\n",
    "        out_field = ID+'_outcome'\n",
    "        kg.add((ct_uri, CT.hasOutcome,CT[out_field]))\n",
    "\n",
    "        treatment_field = ID+'_treamentDescription'\n",
    "        kg.add((ct_uri, CT.hasTreatmentPlan,CT[treatment_field]))\n",
    "\n",
    "        nofP_field = ID+'_numberofPatients'\n",
    "        kg.add((ct_uri, CT.hasNumberofPatients,CT[nofP_field]))\n",
    "\n",
    "        aofP_field = ID+'_ageOfPatients'\n",
    "        kg.add((ct_uri, CT.hasAgeOfPatients,CT[aofP_field]))\n",
    "\n",
    "        if l > 0:\n",
    "            for i in range(0,len(output[\"groups\"])):\n",
    "                g = output[\"groups\"][i].replace(' ',\"_\") + \"_Group\"\n",
    "                g0 = g + '_outcome'\n",
    "                kg.add((CT[out_field], CT.hasGroup, CT[g0]))\n",
    "                kg.add((CT[g0], CT.hasOutcomeDescription, Literal(output[\"outcome_description\"])))\n",
    "                if (len(output[\"outcome_measurements\"]) == 2):\n",
    "                    kg.add((CT[g0], CT.hasMeasurement, Literal(output[\"outcome_measurements\"][0])))\n",
    "                    kg.add((CT[g0], CT.hasUnit, Literal(output[\"outcome_measurements\"][1])))\n",
    "                if (len(output['outcome']) == l):\n",
    "                    kg.add((CT[g0],SCHEMA.number,Literal(output['outcome'][i])))\n",
    "\n",
    "                g1 = g + '_treatment'\n",
    "                kg.add((CT[treatment_field], CT.hasTreatment,CT[g1]))\n",
    "                if (len(output[\"treatment\"]) == l):\n",
    "                    kg.add((CT[g1], CT.hasGroup, Literal(g)))\n",
    "                    kg.add((CT[g1], CT.hasdescription, Literal(output[\"treatment\"][i])))\n",
    "\n",
    "                g2 = g + '_numberOfPatients'\n",
    "                kg.add((CT[nofP_field], CT.hasTreatment,CT[g2]))\n",
    "                if (len(output[\"numberOfPatients\"]) == l):\n",
    "                    kg.add((CT[g2], CT.hasGroup, Literal(g)))\n",
    "                    kg.add((CT[g2], SCHEMA.number, Literal(output[\"numberOfPatients\"][i])))\n",
    "                    kg.add((CT[g2], CT.hasUnit, Literal(\"person\")))\n",
    "\n",
    "                g3 = g + '_ageOfPatients'\n",
    "                kg.add((CT[aofP_field], CT.hasAge,CT[g3]))\n",
    "                if (len(output[\"ageOfPatients\"]) == l):\n",
    "                    kg.add((CT[g3], CT.hasGroup, Literal(g)))\n",
    "                    kg.add((CT[g3], SCHEMA.number, Literal(output[\"ageOfPatients\"][i])))\n",
    "                if (len(output[\"age_measurements\"]) == 2):\n",
    "                    kg.add((CT[g3], CT.hasType, Literal(output[\"age_measurements\"][0])))\n",
    "                    kg.add((CT[g3], CT.hasUnit, Literal(output[\"age_measurements\"][1])))\n",
    "\n",
    "\n",
    "            hazardRatio = ID + '_hazardRatio'\n",
    "            if(output[\"hazardRatio\"])!=[]:\n",
    "                kg.add((ct_uri, CT.hasHazardRatio, CT[hazardRatio]))\n",
    "                kg.add((CT[hazardRatio], SCHEMA.number, Literal(output[\"hazardRatio\"])))\n",
    "\n",
    "    kg.serialize('sample_graphs/'+ID+'.ttl', format=\"turtle\")"
   ]
  },
  {
   "cell_type": "code",
   "execution_count": 244,
   "metadata": {},
   "outputs": [],
   "source": [
    "ID = 'NCT04495244'\n",
    "output = {}\n",
    "res = crawling_data(ID,output)\n",
    "\n",
    "# print(res)\n",
    "generate_Graph(ID,res)"
   ]
  },
  {
   "cell_type": "code",
   "execution_count": 257,
   "metadata": {},
   "outputs": [
    {
     "data": {
      "text/plain": [
       "87"
      ]
     },
     "execution_count": 257,
     "metadata": {},
     "output_type": "execute_result"
    }
   ],
   "source": [
    "import os\n",
    "a = []\n",
    "directory = 'sample_graphs'\n",
    "for filename in os.listdir(directory):\n",
    "    file_size = os.path.getsize('sample_graphs/'+filename)\n",
    "    if file_size<=1000:\n",
    "\n",
    "        a.append(filename.strip('.ttl'))\n",
    "len(a)\n"
   ]
  },
  {
   "cell_type": "markdown",
   "metadata": {},
   "source": [
    "## Get 202 clinical trials of Brest Cancer"
   ]
  },
  {
   "cell_type": "code",
   "execution_count": 179,
   "metadata": {},
   "outputs": [],
   "source": [
    "hundred_url = 'https://clinicaltrials.gov/api/query/study_fields?expr=breast+cancer&fields=NCTId&min_rnk=1&max_rnk=200&fmt=json'\n",
    "ID = requests.get(hundred_url).json()['StudyFieldsResponse']['StudyFields']\n",
    "IDs = []\n",
    "for id in ID:\n",
    "    IDs.append(id['NCTId'][0])\n"
   ]
  },
  {
   "cell_type": "code",
   "execution_count": 254,
   "metadata": {},
   "outputs": [
    {
     "data": {
      "text/plain": [
       "89"
      ]
     },
     "execution_count": 254,
     "metadata": {},
     "output_type": "execute_result"
    }
   ],
   "source": [
    "len(a)"
   ]
  },
  {
   "cell_type": "code",
   "execution_count": 255,
   "metadata": {},
   "outputs": [
    {
     "name": "stdout",
     "output_type": "stream",
     "text": [
      "NCT03662633 1\n",
      "NCT02493569 2\n",
      "NCT03598660 3\n",
      "NCT04516330 4\n",
      "NCT04167605 5\n",
      "NCT04590560 6\n",
      "NCT01299623 7\n",
      "NCT04450264 8\n",
      "NCT01064349 9\n",
      "NCT01521741 10\n",
      "NCT03681418 11\n",
      "NCT01789684 12\n",
      "NCT04948983 13\n",
      "NCT01257932 14\n",
      "NCT01879189 15\n",
      "NCT00897962 16\n",
      "NCT00656604 17\n",
      "NCT02810093 18\n",
      "NCT03390608 19\n",
      "NCT01916837 20\n",
      "NCT04980989 21\n",
      "NCT02934126 22\n",
      "NCT00416975 23\n",
      "NCT02954900 24\n",
      "NCT02808598 25\n",
      "NCT01914614 26\n",
      "NCT01366248 27\n",
      "NCT01434420 28\n",
      "NCT04488614 29\n",
      "NCT04906330 30\n",
      "NCT01552655 31\n",
      "NCT03436069 32\n",
      "NCT04720508 33\n",
      "NCT01403779 34\n",
      "NCT04778202 35\n",
      "NCT03800355 36\n",
      "NCT01521676 37\n",
      "NCT04258085 38\n",
      "NCT03429504 39\n",
      "NCT01391806 40\n",
      "NCT03069742 41\n",
      "NCT03461172 42\n",
      "NCT03480659 43\n",
      "NCT04976556 44\n",
      "NCT02688725 45\n",
      "need to check count\n",
      "NCT04090164 46\n",
      "NCT00078832 47\n",
      "NCT03257917 48\n",
      "NCT00897468 49\n",
      "NCT04304404 50\n",
      "NCT01972048 51\n",
      "NCT01320488 52\n",
      "NCT04033965 53\n",
      "NCT03127332 54\n",
      "NCT00003906 55\n",
      "NCT02212834 56\n",
      "NCT02303145 57\n",
      "NCT00416403 58\n",
      "NCT02094495 59\n",
      "NCT00393341 60\n",
      "NCT00225927 61\n",
      "NCT02480933 62\n",
      "NCT01335152 63\n",
      "NCT02710058 64\n",
      "NCT03300349 65\n",
      "NCT04348955 66\n",
      "NCT03673306 67\n",
      "NCT01239251 68\n",
      "NCT00286117 69\n",
      "NCT02063906 70\n",
      "NCT01523132 71\n",
      "NCT03304002 72\n",
      "NCT00584142 73\n",
      "NCT04574063 74\n",
      "NCT04328194 75\n",
      "NCT00405782 76\n",
      "NCT02791581 77\n",
      "NCT04480814 78\n",
      "NCT02541188 79\n",
      "NCT00296010 80\n",
      "NCT00278837 81\n",
      "NCT00754312 82\n",
      "NCT01157026 83\n",
      "need to check count\n",
      "NCT01197456 84\n",
      "NCT01461070 85\n",
      "NCT00900133 86\n",
      "NCT01220960 87\n",
      "NCT01468246 88\n",
      "NCT04836156 89\n"
     ]
    }
   ],
   "source": [
    "count = 0\n",
    "for i in a:\n",
    "    output = {}\n",
    "    generate_Graph(i,crawling_data(i,output))\n",
    "    print(i,count+1)\n",
    "    count += 1"
   ]
  },
  {
   "cell_type": "code",
   "execution_count": 173,
   "metadata": {},
   "outputs": [
    {
     "name": "stdout",
     "output_type": "stream",
     "text": [
      "NCT00847171 196\n",
      "NCT02964234 197\n",
      "NCT01220960 198\n",
      "NCT01468246 199\n",
      "NCT00991653 200\n"
     ]
    }
   ],
   "source": [
    "\n",
    "for i in range(195,len(IDs)):\n",
    "    print(IDs[i],i+1)\n",
    "    output = {}\n",
    "    generate_Graph(IDs[i],crawling_data(IDs[i],output))\n",
    "    \n"
   ]
  },
  {
   "cell_type": "code",
   "execution_count": 182,
   "metadata": {},
   "outputs": [
    {
     "ename": "SyntaxError",
     "evalue": "invalid syntax (<ipython-input-182-8bc31adb950d>, line 59)",
     "output_type": "error",
     "traceback": [
      "\u001b[0;36m  File \u001b[0;32m\"<ipython-input-182-8bc31adb950d>\"\u001b[0;36m, line \u001b[0;32m59\u001b[0m\n\u001b[0;31m    kg.add((CT[g2], CT.hasUnit, Literal(\"person\")))\u001b[0m\n\u001b[0m     ^\u001b[0m\n\u001b[0;31mSyntaxError\u001b[0m\u001b[0;31m:\u001b[0m invalid syntax\n"
     ]
    }
   ],
   "source": [
    "kg = Graph()\n",
    "kg.bind('Clinical_Trials', CT)\n",
    "kg.bind('schema',SCHEMA)\n",
    "ct_uri = URIRef('https://clinicaltrials.gov/ct2/show/'+ID)\n",
    "kg.add((ct_uri, RDF.type, SCHEMA.MedicalTrial))\n",
    "kg.add((ct_uri, CT.hasID, Literal(ID)))\n",
    "for i in output:\n",
    "    if (len(out[\"StudyType\"]) > 0):\n",
    "        kg.add((ct_uri, CT.hasStudyType, Literal(output['StudyType'])))\n",
    "    if (i == 'InclusionCriteria' and len(output['InclusionCriteria'])>0):\n",
    "        for j in output[i]:\n",
    "            kg.add((ct_uri, CT.hasInclusionCriteria, Literal(j)))\n",
    "    if (i == 'ExclusionCriteria' and len(output['ExclusionCriteria'])>0):\n",
    "        for j in output[i]:\n",
    "            kg.add((ct_uri, CT.hasExclusionCriteria, Literal(j)))\n",
    "    if (i == 'Drugs' and len(output['Drugs'])>0):\n",
    "        for j in output[i]:\n",
    "            k = URIRef(output[i][j]['url'])\n",
    "            kg.add((ct_uri, CT.hasDrug, k))\n",
    "            kg.add((k, SCHEMA.name, Literal(j)))\n",
    "            kg.add((k, SCHEMA.description, Literal(output[i][j]['description'])))\n",
    "    \n",
    "    l = len(output[\"groups\"])\n",
    "\n",
    "    out_field = ID+'_outcome'\n",
    "    kg.add((ct_uri, CT.hasOutcome,CT[out_field]))\n",
    "    \n",
    "    treatment_field = ID+'_treamentDescription'\n",
    "    kg.add((ct_uri, CT.hasTreatmentPlan,CT[treatment_field]))\n",
    "\n",
    "    nofP_field = ID+'_numberofPatients'\n",
    "    kg.add((ct_uri, CT.hasNumberofPatients,CT[nofP_field]))\n",
    "    \n",
    "    aofP_field = 'NCT04199078_ageOfPatients'\n",
    "    kg.add((ct_uri, CT.hasAge,CT[aofP_field]))\n",
    "    \n",
    "    if l > 0:\n",
    "        for i in range(0,len(outcome[\"groups\"])):\n",
    "            g = outcome[\"groups\"][i].replace(' ',\"_\") + \"_Group\"\n",
    "            g0 = g + \"_outcome\"\n",
    "            kg.add((CT[out_field], CT.hasGroup, CT(g0)))\n",
    "            kg.add((CT[g0], CT.hasOutcomeDescription, Literal(output[\"outcome_description\"])))\n",
    "            if (len(output[\"outcome_measurements\"]) == 2):\n",
    "                kg.add((CT[g0], CT.hasMeasurement, Literal(output[\"outcome_measurements\"][0])))\n",
    "                kg.add((CT[g0], CT.hasUnit, Literal(output[\"outcome_measurements\"][1])))\n",
    "            kg.add((CT(g0),SCHEMA.number,Literal(output['outcome'][i])))\n",
    "\n",
    "            g1 = g + '_treatment'\n",
    "            kg.add((CT[treatment_field], CT.hasTreatment,CT[g1]))\n",
    "            if (len(output[\"treatment\"]) == l):\n",
    "                kg.add((CT[g1], CT.hasGroup, Literal(g)))\n",
    "                kg.add((CT[g1], CT.hasdescription, Literal(output[\"treatment\"][i])))\n",
    "\n",
    "            g2 = g + '_numberOfPatients'\n",
    "            kg.add((CT[nofP_field], CT.hasTreatment,CT[g2]))\n",
    "            if (len(output[\"numberOfPatients\"]) == l):\n",
    "                kg.add((CT[g2], CT.hasGroup, Literal(g)))\n",
    "                kg.add((CT[g2], SCHEMA.number, Literal(output[\"numberOfPatients\"][i])))\n",
    "                kg.add((CT[g2], CT.hasUnit, Literal(\"person\")))\n",
    "    \n",
    "            g3 = g + '_ageOfPatients'\n",
    "            kg.add((CT[aofP_field], CT.hasAgeofPatients,CT[g3]))\n",
    "            if (len(output[\"age_measurements\"]) == l):\n",
    "                kg.add((CT[g3], CT.hasGroup, Literal(g)))\n",
    "                kg.add((CT[g3], SCHEMA.number, Literal(output[\"ageOfPatients\"][i])))\n",
    "            if (len(output[\"age_measurements\"][0]) == 2):\n",
    "                kg.add((CT[g3], CT.hasType, Literal(output[\"age_measurements\"][0])))\n",
    "                kg.add((CT[g3], CT.hasUnit, Literal(output[\"age_measurements\"][1])))\n",
    "\n",
    "\n",
    "        hazardRatio = ID + '_hazardRatio'\n",
    "        kg.add((ct_uri, CT.hasHazardRatio, CT[hazardRatio]))\n",
    "        kg.add((CT[hazardRatio], SCHEMA.number, Literal(output[\"hazardRatio\"])))\n",
    "\n",
    "kg.serialize('100_graphs/'+ID'.ttl', format=\"turtle\")    "
   ]
  },
  {
   "cell_type": "code",
   "execution_count": null,
   "metadata": {},
   "outputs": [],
   "source": []
  },
  {
   "cell_type": "code",
   "execution_count": 84,
   "metadata": {},
   "outputs": [
    {
     "data": {
      "text/plain": [
       "'0.576'"
      ]
     },
     "execution_count": 84,
     "metadata": {},
     "output_type": "execute_result"
    }
   ],
   "source": [
    "url = 'https://clinicaltrials.gov/ct2/show/results/NCT01740427?view=results'\n",
    "    \n",
    "response = urlopen(url)\n",
    "soup = BS(response, 'html.parser')\n",
    "baseline = soup.find_all(\"th\",class_=\"de-popFlowLabelCell\")\n",
    "response = urlopen(url)\n",
    "soup = BS(response, 'html.parser')\n",
    "dom = etree.HTML(str(soup))\n",
    "\n",
    "hr = str(dom.xpath('//*[@id=\"EXPAND-stat-analysis-1-1\"]/table/tbody/tr[12]/td/text()')[0]).strip('\\n').strip()\n",
    "hr"
   ]
  },
  {
   "cell_type": "code",
   "execution_count": null,
   "metadata": {},
   "outputs": [],
   "source": [
    "NCT03093350 = dict()\n",
    "studytype_url = 'https://clinicaltrials.gov/api/query/study_fields?expr=NCT03093350&fields=studytype&min_rnk=1&max_rnk=&fmt=json'\n",
    "studytype = requests.get(studytype_url).json()['StudyFieldsResponse']['StudyFields'][0]['StudyType'][0]\n",
    "NCT03093350['StudyType'] = studytype\n",
    "criteria_url = 'https://clinicaltrials.gov/api/query/full_studies?expr=NCT04176354&min_rnk=1&max_rnk=&fmt=json'\n",
    "criteria = requests.get(criteria_url).json()['FullStudiesResponse']['FullStudies'][0]['Study']['ProtocolSection']['EligibilityModule']['EligibilityCriteria']\n",
    "\n",
    "b = criteria.split('\\n')\n",
    "inclusion = []\n",
    "exclusion = []\n",
    "for i in range(0,len(b)):\n",
    "    if b[i] == 'Inclusion Criteria:':\n",
    "        for j in range(i+1,len(b)):\n",
    "            if b[j] == 'Exclusion Criteria:':\n",
    "                break\n",
    "            if b[j] != '':\n",
    "                inclusion.append(b[j])\n",
    "    if b[i] == 'Exclusion Criteria:':\n",
    "        for j in range(i+1,len(b)):\n",
    "            if b[j] != '':\n",
    "                exclusion.append(b[j])\n",
    "NCT03093350['InclusionCriteria'] = inclusion\n",
    "NCT03093350['ExclusionCriteria'] = exclusion\n",
    "\n",
    "drug_url = 'https://clinicaltrials.gov/api/query/study_fields?expr=NCT04176354&fields=ArmGroupInterventionName&min_rnk=1&max_rnk=&fmt=json'\n",
    "drug = requests.get(drug_url).json()['StudyFieldsResponse']['StudyFields'][0]['ArmGroupInterventionName']\n",
    "drug\n",
    "drugs = [i.strip(\"Drug:\").strip(\"'\").strip() for i in drug] \n",
    "drugs2 = set()\n",
    "for i in drugs:\n",
    "    for j in i.split(\" \"):\n",
    "        drugs2.add(j)\n",
    "# drugs = list(dict.fromkeys(drugs))\n",
    "drugs2.remove('an')\n",
    "drugs2.remove('+')\n",
    "drugs2.remove('aromatase')\n",
    "drugs2.remove('inhibito')\n",
    "\n",
    "API_ENDPOINT = 'https://en.wikipedia.org/w/api.php'\n",
    "drugs_with_des = {}\n",
    "for i in drugs2:\n",
    "    drugs_with_des[i] = {}\n",
    "    query = i\n",
    "    params = {\n",
    "        'action':'query',\n",
    "        'list':'search',\n",
    "        'srsearch':query,\n",
    "        'format':'json',\n",
    "    }\n",
    "    drugs_with_des[i]['url'] = requests.get(API_ENDPOINT,params=params).url\n",
    "    drugs_with_des[i]['description'] = requests.get(API_ENDPOINT,params=params).json()\\\n",
    "    ['query']['search'][0]['snippet']\n",
    "drugs_with_des\n",
    "NCT03093350['Drugs'] = drugs_with_des\n",
    "\n",
    "\n",
    "\n",
    "url = \"https://clinicaltrials.gov/ct2/show/results/NCT03093350?view=results\"\n",
    "response = urlopen(url)\n",
    "soup = BS(response, 'html.parser')\n",
    "baseline = soup.find_all(\"th\",class_=\"de-popFlowLabelCell\")\n",
    "groups = []\n",
    "number_of_patients = []\n",
    "for i in range(0,len(baseline)):\n",
    "    groups.append(baseline[i].text.strip(\"\\n\").strip(\"\\r\").strip())\n",
    "    number_of_patients.append(soup.find_all(\"td\",class_=\"de-numValue_baselineDataCell\")[i].text.strip(\"\\n\").strip(\"\\r\").strip())\n",
    "\n",
    "response = urlopen(url)\n",
    "soup = BS(response, 'html.parser')\n",
    "dom = etree.HTML(str(soup))\n",
    "\n",
    "\n",
    "monaleesa2[\"numberOfPatients\"] = []\n",
    "monaleesa2[\"numberOfPatients\"].append(soup.find_all(\"td\", class_=\"de-numValue_popFlowCell\")[0].text.strip(\"\\r\").strip(\"\\n\").strip())\n",
    "monaleesa2[\"numberOfPatients\"].append(soup.find_all(\"td\", class_=\"de-numValue_popFlowCell\")[1].text.strip(\"\\r\").strip(\"\\n\").strip())\n",
    "monaleesa2[\"outcome\"] = []\n",
    "monaleesa2[\"outcome\"].append(soup.find_all(\"td\", class_=\"de-numValue_outcomeDataCell\")[2].text.strip('\\n').strip().split(\" \")[0])\n",
    "monaleesa2[\"outcome\"].append(soup.find_all(\"td\", class_=\"de-numValue_outcomeDataCell\")[3].text.strip('\\n').strip().split(\" \")[0])\n",
    "monaleesa2[\"treatment\"] = []\n",
    "monaleesa2[\"treatment\"].append(soup.find_all(\"td\",class_=\"de-outcomeLabelCell\")[7].text.strip('\\n').strip('\\r').strip())\n",
    "monaleesa2[\"treatment\"].append(soup.find_all(\"td\",class_=\"de-outcomeLabelCell\")[8].text.strip('\\n').strip('\\r').strip())\n",
    "monaleesa2[\"ageOfPatients\"] = []\n",
    "monaleesa2[\"ageOfPatients\"].append(soup.find_all(\"td\",class_=\"de-numValue_baselineDataCell\")[11].text.strip('\\n').strip('\\r').strip().split(\" \")[0])\n",
    "monaleesa2[\"ageOfPatients\"].append(soup.find_all(\"td\",class_=\"de-numValue_baselineDataCell\")[12].text.strip('\\n').strip('\\r').strip().split(\" \")[0])\n",
    "monaleesa2[\"hazardRatio\"] = soup.find_all(\"td\",class_=\"de-outcomeDataCell\")[15].text.strip('\\n').strip('\\r').strip()\n",
    "\n",
    "monaleesa2['PFS'] = [dom.xpath('//*[@id=\"EXPAND-outcome-data-1\"]/table/tbody/tr[6]/td[1]/div[1]/text()')[0]\n",
    "       .strip('\\n').strip('\\r').strip().replace('\\n','').replace('\\xa0',''),\n",
    "                  dom.xpath('//*[@id=\"EXPAND-outcome-data-1\"]/table/tbody/tr[6]/td[2]/div[1]/text()')[0].strip('\\n').strip().strip('\\n').strip()]\n",
    "monaleesa2[\"outcome_measurements\"] = [dom.xpath('//*[@id=\"EXPAND-outcome-data-1\"]/table/tbody/tr[5]/th/text()')[0]\n",
    "       .strip('\\n').strip('\\r').strip().replace('\\n','').replace('\\xa0',''),\n",
    "                             dom.xpath('//*[@id=\"EXPAND-outcome-data-1\"]/table/tbody/tr[5]/th/div/text()')[0]\n",
    "       .strip('\\n').strip('\\r').strip().replace('\\n','').replace('\\xa0','')]\n",
    "monaleesa2[\"age_measurements\"] = [dom.xpath('//*[@id=\"tab-body\"]/div[1]/div[3]/div[2]/table/tbody/tr[7]/th[1]/div/div[1]/text()')[0]\n",
    "       .strip('\\n').strip('\\r').strip().replace('\\n','').replace('\\xa0',''),\n",
    "                             dom.xpath('//*[@id=\"tab-body\"]/div[1]/div[3]/div[2]/table/tbody/tr[7]/th[1]/div/div[2]/text()')[0]\n",
    "       .strip('\\n').strip('\\r').strip().replace('\\n','').replace('\\xa0','')]\n",
    "\n",
    "\n",
    "\n",
    "\n",
    "\n",
    "NCT03093350[\"numberOfPatients\"] = str(dom.xpath('//*[@id=\"tab-body\"]/div[1]/div[3]/div[2]/table/tbody/tr[4]/td/text()')[0]).strip('\\n').strip('\\r').strip().replace('\\n','').replace('\\xa0','')\n",
    "    \n",
    "NCT03093350[\"groupTitle\"] = str(dom.xpath('//*[@id=\"tab-body\"]/div[1]/div[2]/div[2]/table[2]/tbody/tr[1]/th/text()')[0]).strip('\\n').strip('\\r').strip().replace('\\n','').replace('\\xa0','')\n",
    "\n",
    "NCT03093350[\"groupDescription\"] = str(dom.xpath('//*[@id=\"EXPAND-armGroupDescriptionRow-baseline\"]/td[2]//p/text()'))\n",
    "\n",
    "NCT03093350[\"ageOfPatients\"] = str(dom.xpath('//*[@id=\"tab-body\"]/div[1]/div[3]/div[2]/table/tbody/tr[9]/td[2]/span/text()')[0]).strip('\\n').strip('\\r').strip().replace('\\n','').replace('\\xa0','')\n",
    "\n",
    "NCT03093350[\"PFS\"] = str(dom.xpath('//*[@id=\"EXPAND-outcome-data-2\"]/table/tbody/tr[6]/td/div[1]/text()')[0]).strip('\\n').strip('\\r').strip().replace('\\n','').replace('\\xa0','')    \n",
    "\n",
    "NCT03093350[\"PFS_unit\"] = str(dom.xpath('//*[@id=\"EXPAND-outcome-data-2\"]/table/tbody/tr[5]/th/div/text()')[0]).strip('\\n').strip('\\r').strip().replace('\\n','').replace('\\xa0','') \n",
    "\n",
    "NCT03093350[\"OAS\"] = str(dom.xpath('//*[@id=\"EXPAND-outcome-data-3\"]/table/tbody/tr[6]/td/div[1]/text()')[0]).strip('\\n').strip('\\r').strip().replace('\\n','').replace('\\xa0','')    \n",
    "\n",
    "NCT03093350[\"OAS_unit\"] = str(dom.xpath('//*[@id=\"EXPAND-outcome-data-3\"]/table/tbody/tr[5]/th/div/text()')[0]).strip('\\n').strip('\\r').strip().replace('\\n','').replace('\\xa0','') \n",
    "\n",
    "kg_NCT03093350 = Graph()\n",
    "kg_NCT03093350.bind('Clinical_Trials', CT)\n",
    "kg_NCT03093350.bind('schema',SCHEMA)\n",
    "kg_NCT03093350.add((ct_uri, CT.hasID, Literal('NCT03093350')))\n",
    "            \n",
    "ct_uri = URIRef('https://clinicaltrials.gov/ct2/show/NCT03093350')\n",
    "kg_NCT03093350.add((ct_uri, RDF.type, SCHEMA.MedicalTrial))\n",
    "title = str(NCT03093350[\"groupTitle\"].replace(' ','_'))\n",
    "kg_NCT03093350.add((ct_uri, CT.hasGroup, CT[title]))\n",
    "kg_NCT03093350.add((CT[title], CT.hasDescription, Literal(NCT03093350[\"groupDescription\"])))\n",
    "\n",
    "kg_NCT03093350.add((ct_uri, CT.hasNumberofPatients, Literal(NCT03093350[\"numberOfPatients\"])))\n",
    "kg_NCT03093350.add((ct_uri, CT.hasMedianAge, Literal(NCT03093350[\"ageOfPatients\"])))\n",
    "kg_NCT03093350.add((ct_uri, CT.hasPFS, CT['NCT03093350_PFS']))\n",
    "kg_NCT03093350.add((CT['NCT03093350_PFS'], CT.hasUnit, Literal(NCT03093350[\"PFS_unit\"])))\n",
    "kg_NCT03093350.add((CT['NCT03093350_PFS'], SCHEMA.number, Literal(NCT03093350[\"PFS\"])))\n",
    "kg_NCT03093350.add((ct_uri, CT.hasOAS, CT['NCT03093350_OAS']))\n",
    "kg_NCT03093350.add((CT['NCT03093350_OAS'], CT.hasUnit, Literal(NCT03093350[\"OAS_unit\"])))\n",
    "kg_NCT03093350.add((CT['NCT03093350_OAS'], SCHEMA.number, Literal(NCT03093350[\"OAS\"])))  \n",
    "\n",
    "for i in NCT03093350:\n",
    "    kg_NCT03093350.add((ct_uri, CT.hasStudyType, Literal(NCT03093350['StudyType'])))\n",
    "    if i == 'InclusionCriteria':\n",
    "        for j in NCT03093350[i]:\n",
    "            kg_NCT03093350.add((ct_uri, CT.hasInclusionCriteria, Literal(j)))\n",
    "    if i == 'ExclusionCriteria':\n",
    "        for j in NCT03093350[i]:\n",
    "            kg_NCT03093350.add((ct_uri, CT.hasExclusionCriteria, Literal(j)))\n",
    "    if i == 'Drugs':\n",
    "        for j in NCT03093350[i]:\n",
    "            k = URIRef(NCT03093350[i][j]['url'])\n",
    "            kg_NCT03093350.add((ct_uri, CT.hasDrug, k))\n",
    "            kg_NCT03093350.add((k, SCHEMA.name, Literal(j)))\n",
    "            kg_NCT03093350.add((k, SCHEMA.description, Literal(NCT03093350[i][j]['description'])))\n",
    "            \n",
    "kg_NCT03093350.serialize('new_graphs/NCT03093350.ttl',format=\"turtle\")\n",
    "\n"
   ]
  },
  {
   "cell_type": "markdown",
   "metadata": {},
   "source": [
    "## Extract all critera"
   ]
  },
  {
   "cell_type": "code",
   "execution_count": 127,
   "metadata": {},
   "outputs": [
    {
     "data": {
      "text/plain": [
       "'Inclusion Criteria:\\n\\nWoman between the ages of 30 and 65 (both inclusive).\\nAble to read and understand the Patient Information Sheet and the Informed Consent form.\\nAcceptance in the participation of the essay and signature of the Informed Consent form.\\nASC-US or LSIL or AG-US cytological result (maximum 3 months prior to inclusion) with concordant colposcopic image (performed at the screening visit).\\nHigh risk HPV positive by PCR performed at screening visit.\\nIs able, at the discretion of the researcher, to comply with the requirements of the trial and without hindrance to follow the instructions and assessments throughout it.\\n\\nExclusion Criteria:\\n\\nClinically relevant immune system alterations, or any other autoimmune disease or in treatment with immunosuppressants.\\nNon-diagnosed abnormal genital hemorrhage (during the 6 months prior to the screening visit).\\nTo had been vaccinated against HPV.\\nOther symptomatic vulvovaginal infections.\\nSurgical cervical excision in the last year or total hysterectomy.\\nPrevious history of gynecological cancer.\\nParticipation in any other clinical trial at present or in the 4 weeks prior to the inclusion of the trial.\\nAny planned surgery that prevents the correct compliance with the guidelines.\\nUse of vaginal contraceptives or other vaginal hormonal treatments.\\nContraindications for the use of Papilocare® gel or known allergies to any of its components.\\nWomen of childbearing age who do not use effective contraceptive methods, pregnant women, with suspicion of pregnancy or woman who are breastfeeding.'"
      ]
     },
     "execution_count": 127,
     "metadata": {},
     "output_type": "execute_result"
    }
   ],
   "source": [
    "paloma2 = dict()\n",
    "studytype_url = 'https://clinicaltrials.gov/api/query/field_values?expr=paloma2&field=StudyType&fmt=json'\n",
    "studytype = requests.get(studytype_url).json()['FieldValuesResponse']['FieldValues'][0]['FieldValue']\n",
    "paloma2['StudyType'] = studytype\n",
    "criteria_url = 'https://clinicaltrials.gov/api/query/full_studies?expr=paloma2&min_rnk=1&max_rnk=&fmt=json'\n",
    "criteria = requests.get(criteria_url).json()['FullStudiesResponse']['FullStudies'][0]['Study']['ProtocolSection']['EligibilityModule']['EligibilityCriteria']\n",
    "criteria"
   ]
  },
  {
   "cell_type": "code",
   "execution_count": 128,
   "metadata": {},
   "outputs": [
    {
     "data": {
      "text/plain": [
       "{'StudyType': 'Interventional',\n",
       " 'InclusionCriteria': ['Woman between the ages of 30 and 65 (both inclusive).',\n",
       "  'Able to read and understand the Patient Information Sheet and the Informed Consent form.',\n",
       "  'Acceptance in the participation of the essay and signature of the Informed Consent form.',\n",
       "  'ASC-US or LSIL or AG-US cytological result (maximum 3 months prior to inclusion) with concordant colposcopic image (performed at the screening visit).',\n",
       "  'High risk HPV positive by PCR performed at screening visit.',\n",
       "  'Is able, at the discretion of the researcher, to comply with the requirements of the trial and without hindrance to follow the instructions and assessments throughout it.'],\n",
       " 'ExclusionCriteria': ['Clinically relevant immune system alterations, or any other autoimmune disease or in treatment with immunosuppressants.',\n",
       "  'Non-diagnosed abnormal genital hemorrhage (during the 6 months prior to the screening visit).',\n",
       "  'To had been vaccinated against HPV.',\n",
       "  'Other symptomatic vulvovaginal infections.',\n",
       "  'Surgical cervical excision in the last year or total hysterectomy.',\n",
       "  'Previous history of gynecological cancer.',\n",
       "  'Participation in any other clinical trial at present or in the 4 weeks prior to the inclusion of the trial.',\n",
       "  'Any planned surgery that prevents the correct compliance with the guidelines.',\n",
       "  'Use of vaginal contraceptives or other vaginal hormonal treatments.',\n",
       "  'Contraindications for the use of Papilocare® gel or known allergies to any of its components.',\n",
       "  'Women of childbearing age who do not use effective contraceptive methods, pregnant women, with suspicion of pregnancy or woman who are breastfeeding.']}"
      ]
     },
     "execution_count": 128,
     "metadata": {},
     "output_type": "execute_result"
    }
   ],
   "source": [
    "a = criteria.split('\\n')\n",
    "inclusion = []\n",
    "exclusion = []\n",
    "for i in range(0,len(a)):\n",
    "    if a[i] == 'Inclusion Criteria:':\n",
    "        for j in range(i+1,len(a)):\n",
    "            if a[j] == 'Exclusion Criteria:':\n",
    "                break\n",
    "            if a[j] != '':\n",
    "                inclusion.append(a[j])\n",
    "    if a[i] == 'Exclusion Criteria:':\n",
    "        for j in range(i+1,len(a)):\n",
    "            if a[j] != '':\n",
    "                exclusion.append(a[j])\n",
    "paloma2['InclusionCriteria'] = inclusion\n",
    "paloma2['ExclusionCriteria'] = exclusion\n",
    "paloma2"
   ]
  },
  {
   "cell_type": "code",
   "execution_count": 129,
   "metadata": {},
   "outputs": [
    {
     "data": {
      "text/plain": [
       "['PD-0332991', 'Letrozole', 'Placebo']"
      ]
     },
     "execution_count": 129,
     "metadata": {},
     "output_type": "execute_result"
    }
   ],
   "source": [
    "drug_url = 'https://clinicaltrials.gov/api/query/study_fields?expr=paloma-2&fields=ArmGroupInterventionName&min_rnk=2&max_rnk=2&fmt=json'\n",
    "drug = requests.get(drug_url).json()['StudyFieldsResponse']['StudyFields'][0]['ArmGroupInterventionName']\n",
    "drug\n",
    "drugs = [i.strip(\"Drug:\").strip(\"'\").strip() for i in drug] \n",
    "drugs = list(dict.fromkeys(drugs))\n",
    "drugs"
   ]
  },
  {
   "cell_type": "code",
   "execution_count": 130,
   "metadata": {},
   "outputs": [],
   "source": [
    "API_ENDPOINT = 'https://www.wikidata.org/w/api.php'\n",
    "drugs_with_des = {}\n",
    "for i in drugs:\n",
    "    query = i\n",
    "    params = {\n",
    "        'action':'wbsearchentities',\n",
    "        'format':'json',\n",
    "        'language':'en',\n",
    "        'search':query,\n",
    "    }\n",
    "    drugs_with_des[i] = requests.get(API_ENDPOINT,params=params).json()['search'][0]['description']"
   ]
  },
  {
   "cell_type": "code",
   "execution_count": 131,
   "metadata": {},
   "outputs": [
    {
     "data": {
      "text/plain": [
       "'A <span class=\"searchmatch\">placebo</span> (/pləˈsiːboʊ/ plə-SEE-boh) is a substance or treatment which is designed to have no therapeutic value. Common <span class=\"searchmatch\">placebos</span> include inert tablets'"
      ]
     },
     "execution_count": 131,
     "metadata": {},
     "output_type": "execute_result"
    }
   ],
   "source": [
    "drugs\n",
    "API_ENDPOINT = 'https://en.wikipedia.org/w/api.php'\n",
    "query = 'Placebo'\n",
    "params = {\n",
    "    'action':'query',\n",
    "    'list':'search',\n",
    "    'srsearch':query,\n",
    "    'format':'json',\n",
    "}\n",
    "a = requests.get(API_ENDPOINT,params=params).json()['query']['search'][0]['snippet']\n",
    "a"
   ]
  },
  {
   "cell_type": "code",
   "execution_count": 132,
   "metadata": {},
   "outputs": [
    {
     "data": {
      "text/plain": [
       "{'PD-0332991': {'url': 'https://en.wikipedia.org/w/api.php?action=query&list=search&srsearch=PD-0332991&format=json',\n",
       "  'description': 'Kalous, O; Cohen, DJ; Desai, AJ; Ginther, C; Atefi, M; et\\xa0al. (2009). &quot;<span class=\"searchmatch\">PD</span> <span class=\"searchmatch\">0332991</span>, a selective cyclin D kinase 4/6 inhibitor, preferentially inhibits proliferation'},\n",
       " 'Letrozole': {'url': 'https://en.wikipedia.org/w/api.php?action=query&list=search&srsearch=Letrozole&format=json',\n",
       "  'description': '<span class=\"searchmatch\">Letrozole</span>, sold under the brand name Femara among others, is an aromatase inhibitor which is used in the treatment of hormonally-responsive breast cancer'},\n",
       " 'Placebo': {'url': 'https://en.wikipedia.org/w/api.php?action=query&list=search&srsearch=Placebo&format=json',\n",
       "  'description': 'A <span class=\"searchmatch\">placebo</span> (/pləˈsiːboʊ/ plə-SEE-boh) is a substance or treatment which is designed to have no therapeutic value. Common <span class=\"searchmatch\">placebos</span> include inert tablets'}}"
      ]
     },
     "execution_count": 132,
     "metadata": {},
     "output_type": "execute_result"
    }
   ],
   "source": [
    "API_ENDPOINT = 'https://en.wikipedia.org/w/api.php'\n",
    "drugs_with_des = {}\n",
    "for i in drugs:\n",
    "    drugs_with_des[i] = {}\n",
    "    query = i\n",
    "    params = {\n",
    "        'action':'query',\n",
    "        'list':'search',\n",
    "        'srsearch':query,\n",
    "        'format':'json',\n",
    "    }\n",
    "    drugs_with_des[i]['url'] = requests.get(API_ENDPOINT,params=params).url\n",
    "    drugs_with_des[i]['description'] = requests.get(API_ENDPOINT,params=params).json()\\\n",
    "    ['query']['search'][0]['snippet']\n",
    "drugs_with_des"
   ]
  },
  {
   "cell_type": "code",
   "execution_count": 133,
   "metadata": {},
   "outputs": [
    {
     "data": {
      "text/plain": [
       "'https://en.wikipedia.org/w/api.php?action=query&list=search&srsearch=Letrozole&format=json'"
      ]
     },
     "execution_count": 133,
     "metadata": {},
     "output_type": "execute_result"
    }
   ],
   "source": [
    "API_ENDPOINT = 'https://en.wikipedia.org/w/api.php'\n",
    "query = 'Letrozole'\n",
    "params = {\n",
    "        'action':'query',\n",
    "        'list':'search',\n",
    "        'srsearch':query,\n",
    "        'format':'json',\n",
    "    }\n",
    "res = requests.get(API_ENDPOINT,params=params).url\n",
    "res"
   ]
  },
  {
   "cell_type": "code",
   "execution_count": 134,
   "metadata": {},
   "outputs": [
    {
     "data": {
      "text/plain": [
       "{'StudyType': 'Interventional',\n",
       " 'InclusionCriteria': ['Woman between the ages of 30 and 65 (both inclusive).',\n",
       "  'Able to read and understand the Patient Information Sheet and the Informed Consent form.',\n",
       "  'Acceptance in the participation of the essay and signature of the Informed Consent form.',\n",
       "  'ASC-US or LSIL or AG-US cytological result (maximum 3 months prior to inclusion) with concordant colposcopic image (performed at the screening visit).',\n",
       "  'High risk HPV positive by PCR performed at screening visit.',\n",
       "  'Is able, at the discretion of the researcher, to comply with the requirements of the trial and without hindrance to follow the instructions and assessments throughout it.'],\n",
       " 'ExclusionCriteria': ['Clinically relevant immune system alterations, or any other autoimmune disease or in treatment with immunosuppressants.',\n",
       "  'Non-diagnosed abnormal genital hemorrhage (during the 6 months prior to the screening visit).',\n",
       "  'To had been vaccinated against HPV.',\n",
       "  'Other symptomatic vulvovaginal infections.',\n",
       "  'Surgical cervical excision in the last year or total hysterectomy.',\n",
       "  'Previous history of gynecological cancer.',\n",
       "  'Participation in any other clinical trial at present or in the 4 weeks prior to the inclusion of the trial.',\n",
       "  'Any planned surgery that prevents the correct compliance with the guidelines.',\n",
       "  'Use of vaginal contraceptives or other vaginal hormonal treatments.',\n",
       "  'Contraindications for the use of Papilocare® gel or known allergies to any of its components.',\n",
       "  'Women of childbearing age who do not use effective contraceptive methods, pregnant women, with suspicion of pregnancy or woman who are breastfeeding.'],\n",
       " 'Drugs': {'PD-0332991': {'url': 'https://en.wikipedia.org/w/api.php?action=query&list=search&srsearch=PD-0332991&format=json',\n",
       "   'description': 'Kalous, O; Cohen, DJ; Desai, AJ; Ginther, C; Atefi, M; et\\xa0al. (2009). &quot;<span class=\"searchmatch\">PD</span> <span class=\"searchmatch\">0332991</span>, a selective cyclin D kinase 4/6 inhibitor, preferentially inhibits proliferation'},\n",
       "  'Letrozole': {'url': 'https://en.wikipedia.org/w/api.php?action=query&list=search&srsearch=Letrozole&format=json',\n",
       "   'description': '<span class=\"searchmatch\">Letrozole</span>, sold under the brand name Femara among others, is an aromatase inhibitor which is used in the treatment of hormonally-responsive breast cancer'},\n",
       "  'Placebo': {'url': 'https://en.wikipedia.org/w/api.php?action=query&list=search&srsearch=Placebo&format=json',\n",
       "   'description': 'A <span class=\"searchmatch\">placebo</span> (/pləˈsiːboʊ/ plə-SEE-boh) is a substance or treatment which is designed to have no therapeutic value. Common <span class=\"searchmatch\">placebos</span> include inert tablets'}}}"
      ]
     },
     "execution_count": 134,
     "metadata": {},
     "output_type": "execute_result"
    }
   ],
   "source": [
    "paloma2['Drugs'] = drugs_with_des\n",
    "paloma2"
   ]
  },
  {
   "cell_type": "code",
   "execution_count": 135,
   "metadata": {},
   "outputs": [],
   "source": [
    "# from tabula import read_pdf\n",
    "# table = read_pdf('paloma2.pdf',pages = 4,output_format='json')"
   ]
  },
  {
   "cell_type": "code",
   "execution_count": 136,
   "metadata": {},
   "outputs": [],
   "source": [
    "def get_vals(test_dict, key): \n",
    "    for i, j in test_dict.items(): \n",
    "        if i == key: \n",
    "            yield (j) \n",
    "        yield from [] if not isinstance(j, dict) else get_vals(j, key)\n"
   ]
  },
  {
   "cell_type": "code",
   "execution_count": 137,
   "metadata": {},
   "outputs": [],
   "source": [
    "# data = []\n",
    "# for i in table[0]['data']:\n",
    "#     for j in i:\n",
    "#         data.append(list(get_vals(j,'text')))\n",
    "# data = list(filter(lambda a: a != [''],data))"
   ]
  },
  {
   "cell_type": "code",
   "execution_count": 138,
   "metadata": {},
   "outputs": [],
   "source": [
    "# paloma2['data'] = data"
   ]
  },
  {
   "cell_type": "code",
   "execution_count": 139,
   "metadata": {},
   "outputs": [],
   "source": [
    "# outcome_url = \"https://clinicaltrials.gov/api/query/study_fields?expr=paloma2&fields=OutcomeMeasurementValue&min_rnk=1&max_rnk=&fmt=json\"\n",
    "# outcome = requests.get(outcome_url).json()[\"StudyFieldsResponse\"][\"StudyFields\"][1][\"OutcomeMeasurementValue\"][:2]\n",
    "\n",
    "# treatment_url = \"https://clinicaltrials.gov/api/query/study_fields?expr=paloma2&fields=ArmGroupDescription&min_rnk=1&max_rnk=&fmt=json\"\n",
    "# treatment = requests.get(treatment_url).json()[\"StudyFieldsResponse\"][\"StudyFields\"][1][\"ArmGroupDescription\"]\n",
    "\n",
    "# numberOfPatients_url = \"https://clinicaltrials.gov/api/query/study_fields?expr=paloma2&fields=BaselineDenomCountValue&min_rnk=1&max_rnk=&fmt=json\"\n",
    "# numberOfPatients = requests.get(numberOfPatients_url).json()[\"StudyFieldsResponse\"][\"StudyFields\"][1][\"BaselineDenomCountValue\"]\n",
    "\n",
    "# ageOfPatients_url = \"https://clinicaltrials.gov/api/query/study_fields?expr=paloma2&fields=BaselineMeasurementValue&min_rnk=1&max_rnk=&fmt=json\"\n",
    "# ageOfPatients = requests.get(ageOfPatients_url).json()[\"StudyFieldsResponse\"][\"StudyFields\"][1][\"BaselineMeasurementValue\"][:3]\n",
    "# ageOfPatients\n",
    "\n",
    "# hazardRatio_url = \"https://clinicaltrials.gov/api/query/study_fields?expr=paloma2&fields=OutcomeAnalysisParamValue&min_rnk=1&max_rnk=&fmt=json\"\n",
    "# hazardRatio = requests.get(hazardRatio_url).json()[\"StudyFieldsResponse\"][\"StudyFields\"][1][\"OutcomeAnalysisParamValue\"][0]\n",
    "# hazardRatio"
   ]
  },
  {
   "cell_type": "code",
   "execution_count": 140,
   "metadata": {},
   "outputs": [],
   "source": [
    "outcome_url = \"https://clinicaltrials.gov/api/query/study_fields?expr=paloma2&fields=OutcomeMeasurementValue&min_rnk=1&max_rnk=&fmt=json\"\n",
    "outcome = requests.get(outcome_url).json()[\"StudyFieldsResponse\"][\"StudyFields\"][1][\"OutcomeMeasurementValue\"][:2]\n"
   ]
  },
  {
   "cell_type": "code",
   "execution_count": 141,
   "metadata": {},
   "outputs": [
    {
     "data": {
      "text/plain": [
       "['PD-0332991, 125mg, orally once daily on Day 1 to Day 21 of every 28-day cycle followed by 7 days off treatment in combination with Letrozole, 2.5mg, orally once daily (continuously).',\n",
       " 'Placebo, 125mg, orally once daily on Day 1 to Day 21 of every 28-day cycle followed by 7 days off treatment in combination with Letrozole, 2.5mg, orally once daily (continuously).']"
      ]
     },
     "execution_count": 141,
     "metadata": {},
     "output_type": "execute_result"
    }
   ],
   "source": [
    "treatment_url = \"https://clinicaltrials.gov/api/query/study_fields?expr=paloma2&fields=ArmGroupDescription&min_rnk=1&max_rnk=&fmt=json\"\n",
    "treatment = requests.get(treatment_url).json()[\"StudyFieldsResponse\"][\"StudyFields\"][1][\"ArmGroupDescription\"]\n",
    "treatment"
   ]
  },
  {
   "cell_type": "code",
   "execution_count": 142,
   "metadata": {},
   "outputs": [
    {
     "data": {
      "text/plain": [
       "['444', '222', '666']"
      ]
     },
     "execution_count": 142,
     "metadata": {},
     "output_type": "execute_result"
    }
   ],
   "source": [
    "numberOfPatients_url = \"https://clinicaltrials.gov/api/query/study_fields?expr=paloma2&fields=BaselineDenomCountValue&min_rnk=1&max_rnk=&fmt=json\"\n",
    "numberOfPatients = requests.get(numberOfPatients_url).json()[\"StudyFieldsResponse\"][\"StudyFields\"][1][\"BaselineDenomCountValue\"]\n",
    "numberOfPatients"
   ]
  },
  {
   "cell_type": "code",
   "execution_count": 143,
   "metadata": {},
   "outputs": [
    {
     "data": {
      "text/plain": [
       "['61.7', '60.6', '61.3']"
      ]
     },
     "execution_count": 143,
     "metadata": {},
     "output_type": "execute_result"
    }
   ],
   "source": [
    "ageOfPatients_url = \"https://clinicaltrials.gov/api/query/study_fields?expr=paloma2&fields=BaselineMeasurementValue&min_rnk=1&max_rnk=&fmt=json\"\n",
    "ageOfPatients = requests.get(ageOfPatients_url).json()[\"StudyFieldsResponse\"][\"StudyFields\"][1][\"BaselineMeasurementValue\"][:3]\n",
    "ageOfPatients"
   ]
  },
  {
   "cell_type": "code",
   "execution_count": 144,
   "metadata": {},
   "outputs": [
    {
     "data": {
      "text/plain": [
       "'0.576'"
      ]
     },
     "execution_count": 144,
     "metadata": {},
     "output_type": "execute_result"
    }
   ],
   "source": [
    "hazardRatio_url = \"https://clinicaltrials.gov/api/query/study_fields?expr=paloma2&fields=OutcomeAnalysisParamValue&min_rnk=1&max_rnk=&fmt=json\"\n",
    "hazardRatio = requests.get(hazardRatio_url).json()[\"StudyFieldsResponse\"][\"StudyFields\"][1][\"OutcomeAnalysisParamValue\"][0]\n",
    "hazardRatio"
   ]
  },
  {
   "cell_type": "code",
   "execution_count": 145,
   "metadata": {},
   "outputs": [
    {
     "data": {
      "text/plain": [
       "{'StudyType': 'Interventional',\n",
       " 'InclusionCriteria': ['Woman between the ages of 30 and 65 (both inclusive).',\n",
       "  'Able to read and understand the Patient Information Sheet and the Informed Consent form.',\n",
       "  'Acceptance in the participation of the essay and signature of the Informed Consent form.',\n",
       "  'ASC-US or LSIL or AG-US cytological result (maximum 3 months prior to inclusion) with concordant colposcopic image (performed at the screening visit).',\n",
       "  'High risk HPV positive by PCR performed at screening visit.',\n",
       "  'Is able, at the discretion of the researcher, to comply with the requirements of the trial and without hindrance to follow the instructions and assessments throughout it.'],\n",
       " 'ExclusionCriteria': ['Clinically relevant immune system alterations, or any other autoimmune disease or in treatment with immunosuppressants.',\n",
       "  'Non-diagnosed abnormal genital hemorrhage (during the 6 months prior to the screening visit).',\n",
       "  'To had been vaccinated against HPV.',\n",
       "  'Other symptomatic vulvovaginal infections.',\n",
       "  'Surgical cervical excision in the last year or total hysterectomy.',\n",
       "  'Previous history of gynecological cancer.',\n",
       "  'Participation in any other clinical trial at present or in the 4 weeks prior to the inclusion of the trial.',\n",
       "  'Any planned surgery that prevents the correct compliance with the guidelines.',\n",
       "  'Use of vaginal contraceptives or other vaginal hormonal treatments.',\n",
       "  'Contraindications for the use of Papilocare® gel or known allergies to any of its components.',\n",
       "  'Women of childbearing age who do not use effective contraceptive methods, pregnant women, with suspicion of pregnancy or woman who are breastfeeding.'],\n",
       " 'Drugs': {'PD-0332991': {'url': 'https://en.wikipedia.org/w/api.php?action=query&list=search&srsearch=PD-0332991&format=json',\n",
       "   'description': 'Kalous, O; Cohen, DJ; Desai, AJ; Ginther, C; Atefi, M; et\\xa0al. (2009). &quot;<span class=\"searchmatch\">PD</span> <span class=\"searchmatch\">0332991</span>, a selective cyclin D kinase 4/6 inhibitor, preferentially inhibits proliferation'},\n",
       "  'Letrozole': {'url': 'https://en.wikipedia.org/w/api.php?action=query&list=search&srsearch=Letrozole&format=json',\n",
       "   'description': '<span class=\"searchmatch\">Letrozole</span>, sold under the brand name Femara among others, is an aromatase inhibitor which is used in the treatment of hormonally-responsive breast cancer'},\n",
       "  'Placebo': {'url': 'https://en.wikipedia.org/w/api.php?action=query&list=search&srsearch=Placebo&format=json',\n",
       "   'description': 'A <span class=\"searchmatch\">placebo</span> (/pləˈsiːboʊ/ plə-SEE-boh) is a substance or treatment which is designed to have no therapeutic value. Common <span class=\"searchmatch\">placebos</span> include inert tablets'}},\n",
       " 'hasPercentageOfWhite': [77.5, 77.5],\n",
       " 'hasPercentageOfPatientsWithVisceralDisease': [48.2, 49.5],\n",
       " 'hasPercentageOfPatientsHadReceivedPriorAdjuvantChemotherapy': [48, 49.1],\n",
       " 'hasPercentageOfPatientsWithNewlyDiagonosedAdavancedDisease': 37.2}"
      ]
     },
     "execution_count": 145,
     "metadata": {},
     "output_type": "execute_result"
    }
   ],
   "source": [
    "# paloma2[\"outcome\"] = outcome\n",
    "# paloma2[\"treatment\"] = treatment\n",
    "# paloma2[\"numberOfPatients\"] = numberOfPatients\n",
    "# paloma2[\"ageOfPatients\"] = ageOfPatients\n",
    "# paloma2[\"hazardRatio\"] = hazardRatio\n",
    "paloma2[\"hasPercentageOfWhite\"] = [77.5,77.5]\n",
    "paloma2[\"hasPercentageOfPatientsWithVisceralDisease\"] = [48.2,49.5]\n",
    "paloma2[\"hasPercentageOfPatientsHadReceivedPriorAdjuvantChemotherapy\"] = [48,49.1]\n",
    "paloma2[\"hasPercentageOfPatientsWithNewlyDiagonosedAdavancedDisease\"] = 37.2\n",
    "paloma2"
   ]
  },
  {
   "cell_type": "code",
   "execution_count": 146,
   "metadata": {},
   "outputs": [],
   "source": [
    "from rdflib import Graph, URIRef, Literal, XSD, Namespace, RDF, RDFS\n",
    "import pandas as pd\n",
    "import json"
   ]
  },
  {
   "cell_type": "code",
   "execution_count": 147,
   "metadata": {},
   "outputs": [],
   "source": [
    "CT = Namespace('http://myclinicaltrials.org/CT#')\n",
    "SCHEMA = Namespace('http://schema.org/')"
   ]
  },
  {
   "cell_type": "code",
   "execution_count": 148,
   "metadata": {},
   "outputs": [],
   "source": [
    "# kg = Graph()\n",
    "# kg.bind('Clinical_Trials', CT)\n",
    "# kg.bind('schema',SCHEMA)"
   ]
  },
  {
   "cell_type": "markdown",
   "metadata": {},
   "source": [
    "## crawling outcome from html page"
   ]
  },
  {
   "cell_type": "code",
   "execution_count": 149,
   "metadata": {},
   "outputs": [],
   "source": [
    "\n",
    "from bs4 import BeautifulSoup as BS\n",
    "from urllib.request import urlopen"
   ]
  },
  {
   "cell_type": "code",
   "execution_count": 150,
   "metadata": {},
   "outputs": [],
   "source": [
    "# url = \"https://clinicaltrials.gov/ct2/show/results/NCT01740427?cond=paloma2&draw=2&rank=1&view=results\"\n",
    "# html = urlopen(url)\n",
    "# soup = BS(html, 'lxml')\n",
    "# title = soup.title\n",
    "# print(title)"
   ]
  },
  {
   "cell_type": "code",
   "execution_count": 163,
   "metadata": {},
   "outputs": [
    {
     "data": {
      "text/plain": [
       "{'StudyType': 'Interventional',\n",
       " 'InclusionCriteria': ['Woman between the ages of 30 and 65 (both inclusive).',\n",
       "  'Able to read and understand the Patient Information Sheet and the Informed Consent form.',\n",
       "  'Acceptance in the participation of the essay and signature of the Informed Consent form.',\n",
       "  'ASC-US or LSIL or AG-US cytological result (maximum 3 months prior to inclusion) with concordant colposcopic image (performed at the screening visit).',\n",
       "  'High risk HPV positive by PCR performed at screening visit.',\n",
       "  'Is able, at the discretion of the researcher, to comply with the requirements of the trial and without hindrance to follow the instructions and assessments throughout it.'],\n",
       " 'ExclusionCriteria': ['Clinically relevant immune system alterations, or any other autoimmune disease or in treatment with immunosuppressants.',\n",
       "  'Non-diagnosed abnormal genital hemorrhage (during the 6 months prior to the screening visit).',\n",
       "  'To had been vaccinated against HPV.',\n",
       "  'Other symptomatic vulvovaginal infections.',\n",
       "  'Surgical cervical excision in the last year or total hysterectomy.',\n",
       "  'Previous history of gynecological cancer.',\n",
       "  'Participation in any other clinical trial at present or in the 4 weeks prior to the inclusion of the trial.',\n",
       "  'Any planned surgery that prevents the correct compliance with the guidelines.',\n",
       "  'Use of vaginal contraceptives or other vaginal hormonal treatments.',\n",
       "  'Contraindications for the use of Papilocare® gel or known allergies to any of its components.',\n",
       "  'Women of childbearing age who do not use effective contraceptive methods, pregnant women, with suspicion of pregnancy or woman who are breastfeeding.'],\n",
       " 'Drugs': {'PD-0332991': {'url': 'https://en.wikipedia.org/w/api.php?action=query&list=search&srsearch=PD-0332991&format=json',\n",
       "   'description': 'Kalous, O; Cohen, DJ; Desai, AJ; Ginther, C; Atefi, M; et\\xa0al. (2009). &quot;<span class=\"searchmatch\">PD</span> <span class=\"searchmatch\">0332991</span>, a selective cyclin D kinase 4/6 inhibitor, preferentially inhibits proliferation'},\n",
       "  'Letrozole': {'url': 'https://en.wikipedia.org/w/api.php?action=query&list=search&srsearch=Letrozole&format=json',\n",
       "   'description': '<span class=\"searchmatch\">Letrozole</span>, sold under the brand name Femara among others, is an aromatase inhibitor which is used in the treatment of hormonally-responsive breast cancer'},\n",
       "  'Placebo': {'url': 'https://en.wikipedia.org/w/api.php?action=query&list=search&srsearch=Placebo&format=json',\n",
       "   'description': 'A <span class=\"searchmatch\">placebo</span> (/pləˈsiːboʊ/ plə-SEE-boh) is a substance or treatment which is designed to have no therapeutic value. Common <span class=\"searchmatch\">placebos</span> include inert tablets'}},\n",
       " 'hasPercentageOfWhite': [77.5, 77.5],\n",
       " 'hasPercentageOfPatientsWithVisceralDisease': [48.2, 49.5],\n",
       " 'hasPercentageOfPatientsHadReceivedPriorAdjuvantChemotherapy': [48, 49.1],\n",
       " 'hasPercentageOfPatientsWithNewlyDiagonosedAdavancedDisease': 37.2,\n",
       " 'groups': ['Palbociclib Plus Letrozole', 'Placebo Plus Letrozole'],\n",
       " 'numberOfPatients': ['444', '222'],\n",
       " 'ageOfPatients': ['61.7        (10.6)', '60.6        (11.2)'],\n",
       " 'PFS': ['24.8', '14.5'],\n",
       " 'outcome_measurements': ['Median (95% Confidence Interval)',\n",
       "  'Unit of Measure: Months'],\n",
       " 'age_measurements': ['Mean (Standard Deviation)', 'Unit of measure: Years'],\n",
       " 'outcome': ['24.8', '14.5'],\n",
       " 'treatment': ['Participants received letrozole 2.5 milligram (mg) orally QD (once daily) combined with palbociclib 125 mg QD for 21 days of every-28-day cycle, followed by 7 days off treatment.',\n",
       "  'Participants received letrozole 2.5 mg orally QD combined with placebo QD for 21 days of every-28-day cycle, followed by 7 days off treatment.'],\n",
       " 'hazardRatio': '0.576'}"
      ]
     },
     "execution_count": 163,
     "metadata": {},
     "output_type": "execute_result"
    }
   ],
   "source": [
    "url = \"https://clinicaltrials.gov/ct2/show/results/NCT01740427?view=results\"\n",
    "response = urlopen(url)\n",
    "soup = BS(response, 'html.parser')\n",
    "dom = etree.HTML(str(soup))\n",
    "baseline = soup.find_all(\"th\",class_=\"de-popFlowLabelCell\")\n",
    "groups = []\n",
    "number_of_patients = []\n",
    "for i in range(0,len(baseline)):\n",
    "    groups.append(baseline[i].text.strip(\"\\n\").strip(\"\\r\").strip())\n",
    "    number_of_patients.append(soup.find_all(\"td\",class_=\"de-numValue_baselineDataCell\")[i].text.strip(\"\\n\").strip(\"\\r\").strip())\n",
    "paloma2[\"groups\"] = groups\n",
    "paloma2[\"numberOfPatients\"] = number_of_patients\n",
    "paloma2[\"ageOfPatients\"] = [dom.xpath('//*[@id=\"tab-body\"]/div[1]/div[3]/div[2]/table/tbody/tr[9]/td[2]/span/text()')[0]\n",
    "       .strip('\\n').strip('\\r').strip().replace('\\n','').replace('\\xa0',''),\n",
    "                               dom.xpath('//*[@id=\"tab-body\"]/div[1]/div[3]/div[2]/table/tbody/tr[9]/td[3]/span/text()')[0]\n",
    "       .strip('\\n').strip('\\r').strip().replace('\\n','').replace('\\xa0','')]\n",
    "\n",
    "\n",
    "paloma2"
   ]
  },
  {
   "cell_type": "code",
   "execution_count": 152,
   "metadata": {
    "scrolled": true
   },
   "outputs": [],
   "source": [
    "from lxml import etree"
   ]
  },
  {
   "cell_type": "code",
   "execution_count": 153,
   "metadata": {},
   "outputs": [],
   "source": [
    "\n",
    "\n",
    "paloma2[\"ageOfPatients\"] = [str(dom.xpath('//*[@id=\"tab-body\"]/div[1]/div[3]/div[2]/table/tbody/tr[9]/td[2]/span/text()')[0])\n",
    "       .strip('\\n').strip('\\r').strip().replace('\\n','').replace('\\xa0',''),\n",
    "                           str(dom.xpath('//*[@id=\"tab-body\"]/div[1]/div[3]/div[2]/table/tbody/tr[9]/td[3]/span/text()')[0])\n",
    "       .strip('\\n').strip('\\r').strip().replace('\\n','').replace('\\xa0','')]\n",
    "paloma2[\"PFS\"] = [dom.xpath('//*[@id=\"EXPAND-outcome-data-1\"]/table/tbody/tr[6]/td[1]/div[1]/text()')[0]\n",
    "       .strip('\\n').strip('\\r').strip().replace('\\n','').replace('\\xa0',''),\n",
    "                  dom.xpath('//*[@id=\"EXPAND-outcome-data-1\"]/table/tbody/tr[6]/td[2]/div[1]/text()')[0].strip('\\n').strip().strip('\\n').strip()]\n",
    "\n",
    "paloma2[\"outcome_measurements\"] = [dom.xpath('//*[@id=\"EXPAND-outcome-data-1\"]/table/tbody/tr[5]/th/text()')[0]\n",
    "       .strip('\\n').strip('\\r').strip().replace('\\n','').replace('\\xa0',''),\n",
    "                             dom.xpath('//*[@id=\"EXPAND-outcome-data-1\"]/table/tbody/tr[5]/th/div/text()')[0]\n",
    "       .strip('\\n').strip('\\r').strip().replace('\\n','').replace('\\xa0','')]\n",
    "paloma2[\"age_measurements\"] = [dom.xpath('//*[@id=\"tab-body\"]/div[1]/div[3]/div[2]/table/tbody/tr[7]/th[1]/div/div[1]/text()')[0]\n",
    "       .strip('\\n').strip('\\r').strip().replace('\\n','').replace('\\xa0',''),\n",
    "                             dom.xpath('//*[@id=\"tab-body\"]/div[1]/div[3]/div[2]/table/tbody/tr[7]/th[1]/div/div[2]/text()')[0]\n",
    "       .strip('\\n').strip('\\r').strip().replace('\\n','').replace('\\xa0','')]"
   ]
  },
  {
   "cell_type": "code",
   "execution_count": 154,
   "metadata": {},
   "outputs": [
    {
     "data": {
      "text/plain": [
       "'24.8'"
      ]
     },
     "execution_count": 154,
     "metadata": {},
     "output_type": "execute_result"
    }
   ],
   "source": [
    "a = dom.xpath('//*[@id=\"EXPAND-outcome-data-1\"]/table/tbody/tr[6]/td[2]/div[1]/text()')[0].strip('\\n').strip().strip('\\n').strip()\n",
    "b = dom.xpath('//*[@id=\"EXPAND-outcome-data-1\"]/table/tbody/tr[6]/td[1]/div[1]/text()')[0].strip('\\n').strip().strip('\\n').strip()\n",
    "b"
   ]
  },
  {
   "cell_type": "code",
   "execution_count": 155,
   "metadata": {},
   "outputs": [
    {
     "data": {
      "text/plain": [
       "{'StudyType': 'Interventional',\n",
       " 'InclusionCriteria': ['Woman between the ages of 30 and 65 (both inclusive).',\n",
       "  'Able to read and understand the Patient Information Sheet and the Informed Consent form.',\n",
       "  'Acceptance in the participation of the essay and signature of the Informed Consent form.',\n",
       "  'ASC-US or LSIL or AG-US cytological result (maximum 3 months prior to inclusion) with concordant colposcopic image (performed at the screening visit).',\n",
       "  'High risk HPV positive by PCR performed at screening visit.',\n",
       "  'Is able, at the discretion of the researcher, to comply with the requirements of the trial and without hindrance to follow the instructions and assessments throughout it.'],\n",
       " 'ExclusionCriteria': ['Clinically relevant immune system alterations, or any other autoimmune disease or in treatment with immunosuppressants.',\n",
       "  'Non-diagnosed abnormal genital hemorrhage (during the 6 months prior to the screening visit).',\n",
       "  'To had been vaccinated against HPV.',\n",
       "  'Other symptomatic vulvovaginal infections.',\n",
       "  'Surgical cervical excision in the last year or total hysterectomy.',\n",
       "  'Previous history of gynecological cancer.',\n",
       "  'Participation in any other clinical trial at present or in the 4 weeks prior to the inclusion of the trial.',\n",
       "  'Any planned surgery that prevents the correct compliance with the guidelines.',\n",
       "  'Use of vaginal contraceptives or other vaginal hormonal treatments.',\n",
       "  'Contraindications for the use of Papilocare® gel or known allergies to any of its components.',\n",
       "  'Women of childbearing age who do not use effective contraceptive methods, pregnant women, with suspicion of pregnancy or woman who are breastfeeding.'],\n",
       " 'Drugs': {'PD-0332991': {'url': 'https://en.wikipedia.org/w/api.php?action=query&list=search&srsearch=PD-0332991&format=json',\n",
       "   'description': 'Kalous, O; Cohen, DJ; Desai, AJ; Ginther, C; Atefi, M; et\\xa0al. (2009). &quot;<span class=\"searchmatch\">PD</span> <span class=\"searchmatch\">0332991</span>, a selective cyclin D kinase 4/6 inhibitor, preferentially inhibits proliferation'},\n",
       "  'Letrozole': {'url': 'https://en.wikipedia.org/w/api.php?action=query&list=search&srsearch=Letrozole&format=json',\n",
       "   'description': '<span class=\"searchmatch\">Letrozole</span>, sold under the brand name Femara among others, is an aromatase inhibitor which is used in the treatment of hormonally-responsive breast cancer'},\n",
       "  'Placebo': {'url': 'https://en.wikipedia.org/w/api.php?action=query&list=search&srsearch=Placebo&format=json',\n",
       "   'description': 'A <span class=\"searchmatch\">placebo</span> (/pləˈsiːboʊ/ plə-SEE-boh) is a substance or treatment which is designed to have no therapeutic value. Common <span class=\"searchmatch\">placebos</span> include inert tablets'}},\n",
       " 'hasPercentageOfWhite': [77.5, 77.5],\n",
       " 'hasPercentageOfPatientsWithVisceralDisease': [48.2, 49.5],\n",
       " 'hasPercentageOfPatientsHadReceivedPriorAdjuvantChemotherapy': [48, 49.1],\n",
       " 'hasPercentageOfPatientsWithNewlyDiagonosedAdavancedDisease': 37.2,\n",
       " 'groups': ['Palbociclib Plus Letrozole', 'Placebo Plus Letrozole'],\n",
       " 'numberOfPatients': ['444', '222'],\n",
       " 'ageOfPatients': ['61.7        (10.6)', '60.6        (11.2)'],\n",
       " 'PFS': ['24.8', '14.5'],\n",
       " 'outcome_measurements': ['Median (95% Confidence Interval)',\n",
       "  'Unit of Measure: Months'],\n",
       " 'age_measurements': ['Mean (Standard Deviation)', 'Unit of measure: Years']}"
      ]
     },
     "execution_count": 155,
     "metadata": {},
     "output_type": "execute_result"
    }
   ],
   "source": [
    "paloma2"
   ]
  },
  {
   "cell_type": "code",
   "execution_count": 156,
   "metadata": {},
   "outputs": [],
   "source": [
    "url = \"https://clinicaltrials.gov/ct2/show/results/NCT01740427?view=results\"\n",
    "html = urlopen(url)\n",
    "soup1 = BS(html, 'html.parser')\n",
    "treatment_number = soup1.find_all(\"td\", class_=\"de-numValue_popFlowCell\")[0].text.strip(\"\\r\").strip(\"\\n\").strip()\n",
    "control_number = soup1.find_all(\"td\", class_=\"de-numValue_popFlowCell\")[1].text.strip(\"\\r\").strip(\"\\n\").strip()\n",
    "treatment_pfs = soup1.find_all(\"td\", class_=\"de-numValue_outcomeDataCell\")[2].text.strip('\\n').strip().split(\" \")[0]\n",
    "control_pfs = soup1.find_all(\"td\", class_=\"de-numValue_outcomeDataCell\")[3].text.strip('\\n').strip().split(\" \")[0]\n",
    "treatment_plan = soup1.find_all(\"td\",class_=\"de-outcomeLabelCell\")[7].text.strip('\\n').strip('\\r').strip()\n",
    "control_plan = soup1.find_all(\"td\",class_=\"de-outcomeLabelCell\")[8].text.strip('\\n').strip('\\r').strip()\n",
    "treatment_age = soup1.find_all(\"td\",class_=\"de-numValue_baselineDataCell\")[11].text.strip('\\n').strip('\\r').strip().split(\" \")[0]\n",
    "control_age = soup1.find_all(\"td\",class_=\"de-numValue_baselineDataCell\")[12].text.strip('\\n').strip('\\r').strip().split(\" \")[0]\n",
    "hazard = soup1.find_all(\"td\",class_=\"de-outcomeDataCell\")[15].text.strip('\\n').strip('\\r').strip()"
   ]
  },
  {
   "cell_type": "code",
   "execution_count": 157,
   "metadata": {},
   "outputs": [],
   "source": [
    "paloma2[\"numberOfPatients\"] = [treatment_number,control_number]\n",
    "paloma2[\"outcome\"] = [treatment_pfs,control_pfs]\n",
    "paloma2[\"treatment\"] = [treatment_plan,control_plan]\n",
    "paloma2[\"ageOfPatients\"] = [treatment_age, control_age]\n",
    "paloma2['hazardRatio'] = hazard"
   ]
  },
  {
   "cell_type": "code",
   "execution_count": 158,
   "metadata": {
    "scrolled": true
   },
   "outputs": [],
   "source": [
    "kg = Graph()\n",
    "kg.bind('Clinical_Trials', CT)\n",
    "kg.bind('schema',SCHEMA)\n",
    "ct_uri = URIRef('https://clinicaltrials.gov/ct2/show/NCT01740427')\n",
    "kg.add((ct_uri, RDF.type, SCHEMA.MedicalTrial))\n",
    "kg.add((ct_uri, CT.hasID, Literal('NCT01740427')))\n",
    "for i in paloma2:\n",
    "    kg.add((ct_uri, CT.hasStudyType, Literal(paloma2['StudyType'])))\n",
    "    if i == 'InclusionCriteria':\n",
    "        for j in paloma2[i]:\n",
    "            kg.add((ct_uri, CT.hasInclusionCriteria, Literal(j)))\n",
    "    if i == 'ExclusionCriteria':\n",
    "        for j in paloma2[i]:\n",
    "            kg.add((ct_uri, CT.hasExclusionCriteria, Literal(j)))\n",
    "    if i == 'Drugs':\n",
    "        for j in paloma2[i]:\n",
    "            k = URIRef(paloma2[i][j]['url'])\n",
    "            kg.add((ct_uri, CT.hasDrug, k))\n",
    "            kg.add((k, SCHEMA.name, Literal(j)))\n",
    "            kg.add((k, SCHEMA.description, Literal(paloma2[i][j]['description'])))\n",
    "    \n",
    "    \n",
    "    Group0 = paloma2[\"groups\"][0].replace(' ',\"_\") + \"_Group\"\n",
    "    Group1 = paloma2[\"groups\"][1].replace(' ',\"_\") + \"_Group\"\n",
    "    \n",
    "    PFS_field = 'NCT04199078_PFS'\n",
    "    kg.add((ct_uri, CT.hasPFS,CT[PFS_field]))\n",
    "    kg.add((CT[PFS_field], CT.hasPFS,CT[PFS]))\n",
    "    kg.add((CT[PFS], CT.hasGroup, Literal(Group0)))\n",
    "    kg.add((CT[PFS], CT.hasType, Literal(paloma2[\"outcome_measurements\"][0])))\n",
    "    kg.add((CT[PFS], CT.hasUnit, Literal(paloma2[\"outcome_measurements\"][1])))\n",
    "    kg.add((CT[PFS], SCHEMA.number, Literal(paloma2['PFS'][0])))\n",
    "    kg.add((CT[PFS_field], CT.hasPFS,CT[PFS1]))\n",
    "    kg.add((CT[PFS1], CT.hasGroup, Literal(PFS1)))\n",
    "    kg.add((CT[PFS1], CT.hasType, Literal(paloma2[\"outcome_measurements\"][0])))\n",
    "    kg.add((CT[PFS1], CT.hasUnit, Literal(paloma2[\"outcome_measurements\"][1])))\n",
    "    kg.add((CT[PFS1], SCHEMA.number, Literal(paloma2['PFS'][1])))\n",
    "    \n",
    "    treatment_field = 'NCT04199078_treamentDescription'\n",
    "    treatment = Group0+\"_Description\"\n",
    "    treatment1 = Group1+\"_Description\"\n",
    "    kg.add((ct_uri, CT.hasTreatmentPlan,CT[treatment_field]))\n",
    "    kg.add((CT[treatment_field], CT.hasTreatment,CT[treatment]))\n",
    "    kg.add((CT[treatment], CT.hasGroup, Literal(Group0)))\n",
    "    kg.add((CT[treatment], CT.hasdescription, Literal(paloma2[\"treatment\"][0])))\n",
    "    kg.add((CT[treatment_field], CT.hasTreatment,CT[treatment1]))\n",
    "    kg.add((CT[treatment1], CT.hasGroup, Literal(Group1)))\n",
    "    kg.add((CT[treatment1], CT.hasdescription, Literal(paloma2[\"treatment\"][1])))\n",
    "    \n",
    "    nofP_field = 'NCT04199078_numberofPatients'\n",
    "    numberofPatients = 'NCT04199078_numberofPatients_'+Group0\n",
    "    numberofPatients1 = 'NCT04199078_numberofPatients_'+Group1\n",
    "    kg.add((ct_uri, CT.hasNumberofPatients,CT[nofP_field]))\n",
    "    kg.add((CT[nofP_field], CT.hasNumberofPatients,CT[numberofPatients]))\n",
    "    kg.add((CT[numberofPatients], CT.hasGroup, Literal(Group0)))\n",
    "    kg.add((CT[numberofPatients], SCHEMA.number, Literal(paloma2[\"numberOfPatients\"][0])))\n",
    "    kg.add((CT[numberofPatients], CT.hasUnit, Literal(\"person\")))\n",
    "    kg.add((CT[nofP_field], CT.hasNumberofPatients,CT[numberofPatients1]))\n",
    "    kg.add((CT[numberofPatients1], CT.hasGroup, Literal(Group1)))\n",
    "    kg.add((CT[numberofPatients1], SCHEMA.number, Literal(paloma2[\"numberOfPatients\"][1])))\n",
    "    kg.add((CT[numberofPatients1], CT.hasUnit, Literal(\"person\")))\n",
    "    \n",
    "    aofP_field = 'NCT04199078_ageOfPatients'\n",
    "    ageOfPatients = 'NCT04199078_ageOfPatients_'+Group0\n",
    "    ageOfPatients1 = 'NCT04199078_ageOfPatients_'+Group1\n",
    "    kg.add((ct_uri, CT.hasAge,CT[aofP_field]))\n",
    "    kg.add((CT[aofP_field], CT.hasAgeofPatients,CT[ageOfPatients]))\n",
    "    kg.add((CT[ageOfPatients], CT.hasGroup, Literal(Group0)))\n",
    "    kg.add((CT[ageOfPatients], CT.hasType, Literal(paloma2[\"age_measurements\"][0])))\n",
    "    kg.add((CT[ageOfPatients], SCHEMA.number, Literal(paloma2[\"ageOfPatients\"][0])))\n",
    "    kg.add((CT[ageOfPatients], CT.hasUnit, Literal(paloma2[\"age_measurements\"][1])))\n",
    "    kg.add((CT[aofP_field], CT.hasAgeofPatients,CT[ageOfPatients1]))\n",
    "    kg.add((CT[ageOfPatients1], CT.hasGroup, Literal(Group1)))\n",
    "    kg.add((CT[ageOfPatients1], CT.hasType, Literal(paloma2[\"age_measurements\"][0])))\n",
    "    kg.add((CT[ageOfPatients1], SCHEMA.number, Literal(paloma2[\"ageOfPatients\"][1])))\n",
    "    kg.add((CT[ageOfPatients1], CT.hasUnit, Literal(paloma2[\"age_measurements\"][1])))\n",
    "\n",
    "#      'hazardRatio': '0.576',\n",
    "#  'hasPercentageOfPatientsWithVisceralDisease': [48.2, 49.5],\n",
    "#  'hasPercentageOfPatientsHadReceivedPriorAdjuvantChemotherapy': [48, 49.1],\n",
    "#  'hasPercentageOfPatientsWithNewlyDiagonosedAdavancedDisease': 37.2}\n",
    "    PVD_field = 'NCT04199078_percentageofPatientWithVisceraDisease'\n",
    "    PVD = 'NCT04199078_percentageofPatientWithVisceraDisease_'+Group0\n",
    "    PVD1 = 'NCT04199078_percentageofPatientWithVisceraDisease_'+Group1\n",
    "    kg.add((ct_uri, CT.hasPercentageOfPatientsWithVisceralDisease,CT[PVD_field]))\n",
    "    kg.add((CT[PVD_field], CT.hasPercentageOfPatientsWithVisceralDisease,CT[PVD]))\n",
    "    kg.add((CT[PVD], CT.hasGroup, Literal(Group0)))\n",
    "    kg.add((CT[PVD], SCHEMA.number, Literal(paloma2[\"hasPercentageOfPatientsWithVisceralDisease\"][0])))\n",
    "    kg.add((CT[PVD], CT.hasUnit, Literal(\"percentage\")))\n",
    "    kg.add((CT[PVD_field], CT.hasPercentageOfPatientsWithVisceralDisease,CT[PVD1]))\n",
    "    kg.add((CT[PVD1], CT.hasGroup, Literal(Group1)))\n",
    "    kg.add((CT[PVD1], SCHEMA.number, Literal(paloma2[\"hasPercentageOfPatientsWithVisceralDisease\"][1])))\n",
    "    kg.add((CT[PVD1], CT.hasUnit, Literal(\"percentage\")))\n",
    "    \n",
    "    PriorChemo_field = 'NCT04199078_percentageofPatientsHadReceivedPriorAdjuvantChemotherapy'\n",
    "    PercentageOfPatientsHadReceivedPriorAdjuvantChemotherapy = 'NCT04199078_percentageofPatientsHadReceivedPriorAdjuvantChemotherapy_'+Group0\n",
    "    PercentageOfPatientsHadReceivedPriorAdjuvantChemotherapy1 = 'NCT04199078_percentageofPatientsHadReceivedPriorAdjuvantChemotherapy_'+Group1\n",
    "    kg.add((ct_uri, CT.hasPercentageOfPatientsHadReceivedPriorAdjuvantChemotherapy,CT[PriorChemo_field]))\n",
    "    kg.add((CT[PriorChemo_field], CT.hasPercentageOfPatientsHadReceivedPriorAdjuvantChemotherapy,\n",
    "            CT[PercentageOfPatientsHadReceivedPriorAdjuvantChemotherapy]))\n",
    "    kg.add((CT[PercentageOfPatientsHadReceivedPriorAdjuvantChemotherapy], CT.hasGroup, Literal(Group0)))\n",
    "    kg.add((CT[PercentageOfPatientsHadReceivedPriorAdjuvantChemotherapy], SCHEMA.number, Literal(paloma2[\"hasPercentageOfPatientsHadReceivedPriorAdjuvantChemotherapy\"][0])))\n",
    "    kg.add((CT[PercentageOfPatientsHadReceivedPriorAdjuvantChemotherapy], CT.hasUnit, Literal(\"percentage\")))\n",
    "    kg.add((CT[PriorChemo_field], CT.hasPercentageOfPatientsHadReceivedPriorAdjuvantChemotherapy,\n",
    "            CT[PercentageOfPatientsHadReceivedPriorAdjuvantChemotherapy1]))\n",
    "    kg.add((CT[PercentageOfPatientsHadReceivedPriorAdjuvantChemotherapy1], CT.hasGroup, Literal(Group1)))\n",
    "    kg.add((CT[PercentageOfPatientsHadReceivedPriorAdjuvantChemotherapy1], SCHEMA.number, Literal(paloma2[\"hasPercentageOfPatientsHadReceivedPriorAdjuvantChemotherapy\"][1])))\n",
    "    kg.add((CT[PercentageOfPatientsHadReceivedPriorAdjuvantChemotherapy1], CT.hasUnit, Literal(\"percentage\")))    \n",
    "    \n",
    "    hazardRatio = paloma2[\"hazardRatio\"]\n",
    "    kg.add((ct_uri, CT.hasHazardRatio, CT['NCT04199078_hazardRatio']))\n",
    "    kg.add((CT['NCT04199078_hazardRatio'], SCHEMA.number, Literal(paloma2[\"hazardRatio\"])))\n",
    "    kg.add((CT['NCT04199078_hazardRatio'], CT.hasConfidenceInterval, Literal(\"(2 sided)95% 0.463 to 0.718\")))\n",
    "    \n",
    "    PercentageOfPatientsWithNewlyDiagonosedAdavancedDisease = str(paloma2[\"hasPercentageOfPatientsWithNewlyDiagonosedAdavancedDisease\"])\n",
    "    kg.add((ct_uri, CT.hasPercentageOfPatientsWithNewlyDiagonosedAdavancedDisease, CT['NCT04199078_PercentageOfPatientsWithNewlyDiagonosedAdavancedDisease']))\n",
    "    kg.add((CT['NCT04199078_PercentageOfPatientsWithNewlyDiagonosedAdavancedDisease'], SCHEMA.number, Literal(paloma2[\"hasPercentageOfPatientsWithNewlyDiagonosedAdavancedDisease\"])))\n",
    "    kg.add((CT['NCT04199078_PercentageOfPatientsWithNewlyDiagonosedAdavancedDisease'], CT.hasUnit, Literal(\"percentage\")))\n",
    "    \n",
    "kg.serialize('paloma-2.ttl', format=\"turtle\")    "
   ]
  },
  {
   "cell_type": "code",
   "execution_count": 77,
   "metadata": {},
   "outputs": [
    {
     "data": {
      "text/plain": [
       "'14.7'"
      ]
     },
     "execution_count": 77,
     "metadata": {},
     "output_type": "execute_result"
    }
   ],
   "source": [
    "a"
   ]
  },
  {
   "cell_type": "code",
   "execution_count": 26,
   "metadata": {},
   "outputs": [],
   "source": [
    "# kg.add((CT[drug], SCHEMA.Drug, SCHEMA.MedicalTrial))"
   ]
  },
  {
   "cell_type": "markdown",
   "metadata": {},
   "source": [
    "## Generate knowledge graph"
   ]
  },
  {
   "cell_type": "code",
   "execution_count": 27,
   "metadata": {},
   "outputs": [],
   "source": []
  },
  {
   "cell_type": "code",
   "execution_count": 28,
   "metadata": {},
   "outputs": [
    {
     "ename": "FileNotFoundError",
     "evalue": "[Errno 2] No such file or directory: '/Volumes/GoogleDrive/.shortcut-targets-by-id/1O3L9NCuwRqD_wt3LT7Bcx3KjrrPL8CHI/AI Methods for Clinical Trial Comparison 2020/clinical_trials_data-structure/Knowledge_Graph_update_6:30/CT_model.ttl'",
     "output_type": "error",
     "traceback": [
      "\u001b[0;31m---------------------------------------------------------------------------\u001b[0m",
      "\u001b[0;31mFileNotFoundError\u001b[0m                         Traceback (most recent call last)",
      "\u001b[0;32m<ipython-input-28-22e3195a69a2>\u001b[0m in \u001b[0;36m<module>\u001b[0;34m\u001b[0m\n\u001b[1;32m      1\u001b[0m \u001b[0mg1\u001b[0m \u001b[0;34m=\u001b[0m \u001b[0mGraph\u001b[0m\u001b[0;34m(\u001b[0m\u001b[0;34m)\u001b[0m\u001b[0;34m\u001b[0m\u001b[0;34m\u001b[0m\u001b[0m\n\u001b[0;32m----> 2\u001b[0;31m \u001b[0mg1\u001b[0m\u001b[0;34m.\u001b[0m\u001b[0mparse\u001b[0m\u001b[0;34m(\u001b[0m\u001b[0;34m\"CT_model.ttl\"\u001b[0m\u001b[0;34m,\u001b[0m \u001b[0mformat\u001b[0m\u001b[0;34m=\u001b[0m\u001b[0;34m\"turtle\"\u001b[0m\u001b[0;34m)\u001b[0m\u001b[0;34m\u001b[0m\u001b[0;34m\u001b[0m\u001b[0m\n\u001b[0m\u001b[1;32m      3\u001b[0m \u001b[0;34m\u001b[0m\u001b[0m\n\u001b[1;32m      4\u001b[0m \u001b[0mg2\u001b[0m \u001b[0;34m=\u001b[0m \u001b[0mGraph\u001b[0m\u001b[0;34m(\u001b[0m\u001b[0;34m)\u001b[0m\u001b[0;34m\u001b[0m\u001b[0;34m\u001b[0m\u001b[0m\n\u001b[1;32m      5\u001b[0m \u001b[0mg2\u001b[0m\u001b[0;34m.\u001b[0m\u001b[0mparse\u001b[0m\u001b[0;34m(\u001b[0m\u001b[0;34m\"paloma-2.ttl\"\u001b[0m\u001b[0;34m,\u001b[0m \u001b[0mformat\u001b[0m\u001b[0;34m=\u001b[0m\u001b[0;34m\"turtle\"\u001b[0m\u001b[0;34m)\u001b[0m\u001b[0;34m\u001b[0m\u001b[0;34m\u001b[0m\u001b[0m\n",
      "\u001b[0;32m~/opt/anaconda3/lib/python3.7/site-packages/rdflib/graph.py\u001b[0m in \u001b[0;36mparse\u001b[0;34m(self, source, publicID, format, location, file, data, **args)\u001b[0m\n\u001b[1;32m   1066\u001b[0m             \u001b[0mfile\u001b[0m\u001b[0;34m=\u001b[0m\u001b[0mfile\u001b[0m\u001b[0;34m,\u001b[0m\u001b[0;34m\u001b[0m\u001b[0;34m\u001b[0m\u001b[0m\n\u001b[1;32m   1067\u001b[0m             \u001b[0mdata\u001b[0m\u001b[0;34m=\u001b[0m\u001b[0mdata\u001b[0m\u001b[0;34m,\u001b[0m\u001b[0;34m\u001b[0m\u001b[0;34m\u001b[0m\u001b[0m\n\u001b[0;32m-> 1068\u001b[0;31m             \u001b[0mformat\u001b[0m\u001b[0;34m=\u001b[0m\u001b[0mformat\u001b[0m\u001b[0;34m,\u001b[0m\u001b[0;34m\u001b[0m\u001b[0;34m\u001b[0m\u001b[0m\n\u001b[0m\u001b[1;32m   1069\u001b[0m         )\n\u001b[1;32m   1070\u001b[0m         \u001b[0;32mif\u001b[0m \u001b[0mformat\u001b[0m \u001b[0;32mis\u001b[0m \u001b[0;32mNone\u001b[0m\u001b[0;34m:\u001b[0m\u001b[0;34m\u001b[0m\u001b[0;34m\u001b[0m\u001b[0m\n",
      "\u001b[0;32m~/opt/anaconda3/lib/python3.7/site-packages/rdflib/parser.py\u001b[0m in \u001b[0;36mcreate_input_source\u001b[0;34m(source, publicID, location, file, data, format)\u001b[0m\n\u001b[1;32m    189\u001b[0m         \u001b[0;32mif\u001b[0m \u001b[0mabsolute_location\u001b[0m\u001b[0;34m.\u001b[0m\u001b[0mstartswith\u001b[0m\u001b[0;34m(\u001b[0m\u001b[0;34m\"file:///\"\u001b[0m\u001b[0;34m)\u001b[0m\u001b[0;34m:\u001b[0m\u001b[0;34m\u001b[0m\u001b[0;34m\u001b[0m\u001b[0m\n\u001b[1;32m    190\u001b[0m             \u001b[0mfilename\u001b[0m \u001b[0;34m=\u001b[0m \u001b[0murl2pathname\u001b[0m\u001b[0;34m(\u001b[0m\u001b[0mabsolute_location\u001b[0m\u001b[0;34m.\u001b[0m\u001b[0mreplace\u001b[0m\u001b[0;34m(\u001b[0m\u001b[0;34m\"file:///\"\u001b[0m\u001b[0;34m,\u001b[0m \u001b[0;34m\"/\"\u001b[0m\u001b[0;34m)\u001b[0m\u001b[0;34m)\u001b[0m\u001b[0;34m\u001b[0m\u001b[0;34m\u001b[0m\u001b[0m\n\u001b[0;32m--> 191\u001b[0;31m             \u001b[0mfile\u001b[0m \u001b[0;34m=\u001b[0m \u001b[0mopen\u001b[0m\u001b[0;34m(\u001b[0m\u001b[0mfilename\u001b[0m\u001b[0;34m,\u001b[0m \u001b[0;34m\"rb\"\u001b[0m\u001b[0;34m)\u001b[0m\u001b[0;34m\u001b[0m\u001b[0;34m\u001b[0m\u001b[0m\n\u001b[0m\u001b[1;32m    192\u001b[0m         \u001b[0;32melse\u001b[0m\u001b[0;34m:\u001b[0m\u001b[0;34m\u001b[0m\u001b[0;34m\u001b[0m\u001b[0m\n\u001b[1;32m    193\u001b[0m             \u001b[0minput_source\u001b[0m \u001b[0;34m=\u001b[0m \u001b[0mURLInputSource\u001b[0m\u001b[0;34m(\u001b[0m\u001b[0mabsolute_location\u001b[0m\u001b[0;34m,\u001b[0m \u001b[0mformat\u001b[0m\u001b[0;34m)\u001b[0m\u001b[0;34m\u001b[0m\u001b[0;34m\u001b[0m\u001b[0m\n",
      "\u001b[0;31mFileNotFoundError\u001b[0m: [Errno 2] No such file or directory: '/Volumes/GoogleDrive/.shortcut-targets-by-id/1O3L9NCuwRqD_wt3LT7Bcx3KjrrPL8CHI/AI Methods for Clinical Trial Comparison 2020/clinical_trials_data-structure/Knowledge_Graph_update_6:30/CT_model.ttl'"
     ]
    }
   ],
   "source": [
    "g1 = Graph()\n",
    "g1.parse(\"CT_model.ttl\", format=\"turtle\")\n",
    "\n",
    "g2 = Graph()\n",
    "g2.parse(\"paloma-2.ttl\", format=\"turtle\")\n",
    "\n",
    "final_graph = g1 + g2\n",
    "\n",
    "final_graph.serialize(\"CT_paloma2.ttl\", format=\"turtle\")"
   ]
  },
  {
   "cell_type": "markdown",
   "metadata": {},
   "source": [
    "## Monaleesa2"
   ]
  },
  {
   "cell_type": "code",
   "execution_count": 80,
   "metadata": {},
   "outputs": [],
   "source": [
    "monaleesa2 = dict()\n",
    "studytype_url = 'https://clinicaltrials.gov/api/query/field_values?expr=monaleesa2&field=StudyType&fmt=json'\n",
    "studytype = requests.get(studytype_url).json()['FieldValuesResponse']['FieldValues'][0]['FieldValue']\n",
    "monaleesa2['StudyType'] = studytype\n",
    "criteria_url = 'https://clinicaltrials.gov/api/query/full_studies?expr=monaleesa2&min_rnk=1&max_rnk=&fmt=json'\n",
    "criteria = requests.get(criteria_url).json()['FullStudiesResponse']['FullStudies'][0]['Study']['ProtocolSection']['EligibilityModule']['EligibilityCriteria']\n"
   ]
  },
  {
   "cell_type": "code",
   "execution_count": 81,
   "metadata": {},
   "outputs": [],
   "source": [
    "b = criteria.split('\\n')\n",
    "inclusion = []\n",
    "exclusion = []\n",
    "for i in range(0,len(b)):\n",
    "    if b[i] == 'Inclusion Criteria:':\n",
    "        for j in range(i+1,len(b)):\n",
    "            if b[j] == 'Exclusion Criteria:':\n",
    "                break\n",
    "            if b[j] != '':\n",
    "                inclusion.append(b[j])\n",
    "    if b[i] == 'Exclusion Criteria:':\n",
    "        for j in range(i+1,len(b)):\n",
    "            if b[j] != '':\n",
    "                exclusion.append(b[j])\n",
    "monaleesa2['InclusionCriteria'] = inclusion\n",
    "monaleesa2['ExclusionCriteria'] = exclusion\n"
   ]
  },
  {
   "cell_type": "code",
   "execution_count": 82,
   "metadata": {},
   "outputs": [
    {
     "data": {
      "text/plain": [
       "{'LEE011', 'Letrozole', 'Placebo'}"
      ]
     },
     "execution_count": 82,
     "metadata": {},
     "output_type": "execute_result"
    }
   ],
   "source": [
    "drug_url = 'https://clinicaltrials.gov/api/query/study_fields?expr=monaleesa-2&fields=ArmGroupInterventionName&min_rnk=1&max_rnk=&fmt=json'\n",
    "drug = requests.get(drug_url).json()['StudyFieldsResponse']['StudyFields'][0]['ArmGroupInterventionName']\n",
    "drug\n",
    "drugs = [i.strip(\"Drug:\").strip(\"'\").strip() for i in drug] \n",
    "drugs2 = set()\n",
    "for i in drugs:\n",
    "    for j in i.split(\" \"):\n",
    "        drugs2.add(j)\n",
    "# drugs = list(dict.fromkeys(drugs))\n",
    "drugs2"
   ]
  },
  {
   "cell_type": "code",
   "execution_count": 84,
   "metadata": {},
   "outputs": [
    {
     "data": {
      "text/plain": [
       "{'Placebo': {'url': 'https://en.wikipedia.org/w/api.php?action=query&list=search&srsearch=Placebo&format=json',\n",
       "  'description': 'A <span class=\"searchmatch\">placebo</span> (/pləˈsiːboʊ/ plə-SEE-boh) is a substance or treatment which is designed to have no therapeutic value. Common <span class=\"searchmatch\">placebos</span> include inert tablets'},\n",
       " 'LEE011': {'url': 'https://en.wikipedia.org/w/api.php?action=query&list=search&srsearch=LEE011&format=json',\n",
       "  'description': 'Epithelioid sarcoma is a rare soft tissue sarcoma arising from mesenchymal tissue and characterized by epithelioid-like features. It accounts for less'},\n",
       " 'Letrozole': {'url': 'https://en.wikipedia.org/w/api.php?action=query&list=search&srsearch=Letrozole&format=json',\n",
       "  'description': '<span class=\"searchmatch\">Letrozole</span>, sold under the brand name Femara among others, is an aromatase inhibitor which is used in the treatment of hormonally-responsive breast cancer'}}"
      ]
     },
     "execution_count": 84,
     "metadata": {},
     "output_type": "execute_result"
    }
   ],
   "source": [
    "API_ENDPOINT = 'https://en.wikipedia.org/w/api.php'\n",
    "drugs_with_des = {}\n",
    "for i in drugs2:\n",
    "    drugs_with_des[i] = {}\n",
    "    query = i\n",
    "    params = {\n",
    "        'action':'query',\n",
    "        'list':'search',\n",
    "        'srsearch':query,\n",
    "        'format':'json',\n",
    "    }\n",
    "    drugs_with_des[i]['url'] = requests.get(API_ENDPOINT,params=params).url\n",
    "    drugs_with_des[i]['description'] = requests.get(API_ENDPOINT,params=params).json()\\\n",
    "    ['query']['search'][0]['snippet']\n",
    "drugs_with_des"
   ]
  },
  {
   "cell_type": "code",
   "execution_count": 85,
   "metadata": {},
   "outputs": [],
   "source": [
    "monaleesa2['Drugs'] = drugs_with_des"
   ]
  },
  {
   "cell_type": "code",
   "execution_count": 86,
   "metadata": {},
   "outputs": [
    {
     "data": {
      "text/plain": [
       "'0.556'"
      ]
     },
     "execution_count": 86,
     "metadata": {},
     "output_type": "execute_result"
    }
   ],
   "source": [
    "outcome_url = \"https://clinicaltrials.gov/api/query/study_fields?expr=monaleesa2&fields=OutcomeMeasurementValue&min_rnk=1&max_rnk=&fmt=json\"\n",
    "outcome = requests.get(outcome_url).json()[\"StudyFieldsResponse\"][\"StudyFields\"][0][\"OutcomeMeasurementValue\"][:2]\n",
    "\n",
    "treatment_url = \"https://clinicaltrials.gov/api/query/study_fields?expr=monaleesa2&fields=ArmGroupDescription&min_rnk=1&max_rnk=&fmt=json\"\n",
    "treatment = requests.get(treatment_url).json()[\"StudyFieldsResponse\"][\"StudyFields\"][0][\"ArmGroupDescription\"]\n",
    "\n",
    "numberOfPatients_url = \"https://clinicaltrials.gov/api/query/study_fields?expr=monaleesa2&fields=BaselineDenomCountValue&min_rnk=1&max_rnk=&fmt=json\"\n",
    "numberOfPatients = requests.get(numberOfPatients_url).json()[\"StudyFieldsResponse\"][\"StudyFields\"][0][\"BaselineDenomCountValue\"]\n",
    "\n",
    "ageOfPatients_url = \"https://clinicaltrials.gov/api/query/study_fields?expr=monaleesa2&fields=BaselineMeasurementValue&min_rnk=1&max_rnk=&fmt=json\"\n",
    "ageOfPatients = requests.get(ageOfPatients_url).json()[\"StudyFieldsResponse\"][\"StudyFields\"][0][\"BaselineMeasurementValue\"][:3]\n",
    "ageOfPatients\n",
    "\n",
    "hazardRatio_url = \"https://clinicaltrials.gov/api/query/study_fields?expr=monaleesa2&fields=OutcomeAnalysisParamValue&min_rnk=1&max_rnk=&fmt=json\"\n",
    "hazardRatio = requests.get(hazardRatio_url).json()[\"StudyFieldsResponse\"][\"StudyFields\"][0][\"OutcomeAnalysisParamValue\"][0]\n",
    "hazardRatio"
   ]
  },
  {
   "cell_type": "code",
   "execution_count": 162,
   "metadata": {},
   "outputs": [
    {
     "data": {
      "text/plain": [
       "{'StudyType': 'Interventional',\n",
       " 'InclusionCriteria': ['Women with advanced (locoregionally recurrent or metastatic) breast cancer not amenable to curative therapy.',\n",
       "  'Patient is postmenopausal. Postmenopausal status is defined either by:',\n",
       "  'Prior bilateral oophorectomy',\n",
       "  'Age ≥60',\n",
       "  'Age <60 and amenorrhea for 12 or more months (in the absence of chemotherapy, tamoxifen, toremifen, or ovarian suppression) and FSH and estradiol in the postmenopausal range per local normal range Note: For women with therapy-induced amenorrhea, serial measurements of FSH and/or estradiol are needed to ensure postmenopausal status. Ovarian radiation or treatment with a luteinizing hormone-releasing hormone agonist (LH-RHa) (goserelin acetate or leuprolide acetate) is not permitted for induction of ovarian suppression in this trial.',\n",
       "  'No prior systemic anti-cancer therapy for advanced disease.',\n",
       "  'Patient has a histologically and/or cytologically confirmed diagnosis of estrogen-receptor positive and/or progesterone receptor positive breast cancer by local laboratory.',\n",
       "  'Patient has HER2-negative breast cancer defined as a negative in situ hybridization test or an IHC status of 0, 1+ or 2+. If IHC is 2+, a negative in situ hybridization (FISH, CISH, or SISH) test is required by local laboratory testing.',\n",
       "  'Patient must have either:',\n",
       "  '• Measurable disease, i.e., at least one measurable lesion as per RECIST 1.1 criteria (Tumor lesions previously irradiated or subjected to other locoregional therapy will only be considered measurable if disease progression at the treated site after completion of therapy is clearly documented).',\n",
       "  'OR',\n",
       "  '• If no measurable disease is present, then at least one predominantly lytic bone lesion must be present (Patients with no measurable disease and only one predominantly lytic bone lesion that has been previously irradiated are eligible if there is documented evidence of disease progression of the bone lesion after irradiation).',\n",
       "  'Patient has an Eastern Cooperative Oncology Group (ECOG) performance status 0 or 1'],\n",
       " 'ExclusionCriteria': ['Patient who received any CDK4/6 inhibitor.',\n",
       "  'Patient who received any prior systemic anti-cancer therapy (including hormonal therapy and chemotherapy) for advanced breast cancer',\n",
       "  'Note:',\n",
       "  'Patients who received (neo) adjuvant therapy for breast cancer are eligible. If the prior neo (adjuvant) therapy included letrozole or anastrozole the disease free interval must be greater than 12 months from the completion of treatment until randomization.',\n",
       "  'Patients who received ≤ 14 days of letrozole or anastrozole for advanced disease prior to randomization are eligible.',\n",
       "  'Any prior (neo) adjuvant anti-cancer therapy must be stopped at least 5 half-lives or 7 days, whichever is longer, before randomization',\n",
       "  'Patient is concurrently using other anti-cancer therapy.',\n",
       "  'Patient has a concurrent malignancy or malignancy within 3 years of randomization, with the exception of adequately treated, basal or squamous cell carcinoma, non-melanomatous skin cancer or curatively resected cervical cancer.',\n",
       "  'Patient has active cardiac disease or a history of cardiac dysfunction including any of the following:',\n",
       "  'History of angina pectoris, symptomatic pericarditis, or myocardial infarction within 12 months prior to study entry',\n",
       "  'History of documented congestive heart failure (New York Heart Association functional classification III-IV)',\n",
       "  'Documented cardiomyopathy',\n",
       "  'Patient has a Left Ventricular Ejection Fraction (LVEF) < 50% as determined by Multiple Gated acquisition (MUGA) scan or echocardiogram (ECHO)',\n",
       "  'History of any cardiac arrhythmias, e.g., ventricular, supraventricular, nodal arrhythmias, or conduction abnormality in the previous 12 months.',\n",
       "  'On screening, any of the following cardiac parameters:',\n",
       "  'bradycardia (heart rate < 50 at rest), tachycardia (heart rate > 90 at rest), PR interval > 220 msec, QRS interval >109 msec, or QTcF >450 msec.',\n",
       "  'Systolic blood pressure >160 or <90 mmHg',\n",
       "  '6. Patient is currently receiving any of the following medications and cannot be discontinued 7 days prior start if the treatment:',\n",
       "  'That are known strong inducers or inhibitors of CYP3A4.',\n",
       "  'That have a known risk to prolong the QT interval or induce Torsades de Pointes.',\n",
       "  'That have a narrow therapeutic window and are predominantly metabolized through CYP3A4.',\n",
       "  'Herbal preparations/medications'],\n",
       " 'Drugs': {'Placebo': {'url': 'https://en.wikipedia.org/w/api.php?action=query&list=search&srsearch=Placebo&format=json',\n",
       "   'description': 'A <span class=\"searchmatch\">placebo</span> (/pləˈsiːboʊ/ plə-SEE-boh) is a substance or treatment which is designed to have no therapeutic value. Common <span class=\"searchmatch\">placebos</span> include inert tablets'},\n",
       "  'LEE011': {'url': 'https://en.wikipedia.org/w/api.php?action=query&list=search&srsearch=LEE011&format=json',\n",
       "   'description': 'Epithelioid sarcoma is a rare soft tissue sarcoma arising from mesenchymal tissue and characterized by epithelioid-like features. It accounts for less'},\n",
       "  'Letrozole': {'url': 'https://en.wikipedia.org/w/api.php?action=query&list=search&srsearch=Letrozole&format=json',\n",
       "   'description': '<span class=\"searchmatch\">Letrozole</span>, sold under the brand name Femara among others, is an aromatase inhibitor which is used in the treatment of hormonally-responsive breast cancer'}},\n",
       " 'numberOfPatients': ['334', '334'],\n",
       " 'outcome': ['NA', '14.7'],\n",
       " 'treatment': ['LEE011 (ribociclib) oral (3 weeks on/ 1 week off) in combination with oral once daily letrozole. 600mg LEE011 QD + 2.5 mg letrozole QD',\n",
       "  'Matching ribociclib placebo, control drug administered orally (3 weeks on/ 1 week off) in combination with oral once daily letrozole. 600mg LEE011 placebo QD + 2.5 mg letrozole'],\n",
       " 'ageOfPatients': ['61.4        (10.98)', '61.9        (10.52)'],\n",
       " 'hazardRatio': '0.556',\n",
       " 'hasPercentageOfPatientsWithVisceralDisease': [48.2, 49.5],\n",
       " 'hasPercentageOfPatientsHadReceivedPriorAdjuvantChemotherapy': [48, 49.1],\n",
       " 'hasPercentageOfPatientsWithNewlyDiagonosedAdavancedDisease': 37.2,\n",
       " 'groups': ['LEE011 + Letrozole', 'Placebo + Letrozole'],\n",
       " 'PFS': ['NA', '14.7'],\n",
       " 'measurements': ['Median (95% Confidence Interval)',\n",
       "  'Unit of Measure: months'],\n",
       " 'outcome_measurements': ['Median (95% Confidence Interval)',\n",
       "  'Unit of Measure: months'],\n",
       " 'age_measurements': ['Mean (Standard Deviation)', 'Unit of measure: Years']}"
      ]
     },
     "execution_count": 162,
     "metadata": {},
     "output_type": "execute_result"
    }
   ],
   "source": [
    "# monaleesa2[\"outcome\"] = outcome\n",
    "# monaleesa2[\"treatment\"] = treatment\n",
    "# monaleesa2[\"numberOfPatients\"] = numberOfPatients\n",
    "# monaleesa2[\"ageOfPatients\"] = ageOfPatients\n",
    "# monaleesa2[\"hazardRatio\"] = hazardRatio\n",
    "url = \"https://clinicaltrials.gov/ct2/show/results/NCT01958021?view=results\"\n",
    "html = urlopen(url)\n",
    "soup = BS(html, 'html.parser')\n",
    "\n",
    "monaleesa2[\"numberOfPatients\"] = []\n",
    "monaleesa2[\"numberOfPatients\"].append(soup.find_all(\"td\", class_=\"de-numValue_popFlowCell\")[0].text.strip(\"\\r\").strip(\"\\n\").strip())\n",
    "monaleesa2[\"numberOfPatients\"].append(soup.find_all(\"td\", class_=\"de-numValue_popFlowCell\")[1].text.strip(\"\\r\").strip(\"\\n\").strip())\n",
    "monaleesa2[\"outcome\"] = []\n",
    "monaleesa2[\"outcome\"].append(soup.find_all(\"td\", class_=\"de-numValue_outcomeDataCell\")[2].text.strip('\\n').strip().split(\" \")[0])\n",
    "monaleesa2[\"outcome\"].append(soup.find_all(\"td\", class_=\"de-numValue_outcomeDataCell\")[3].text.strip('\\n').strip().split(\" \")[0])\n",
    "monaleesa2[\"treatment\"] = []\n",
    "monaleesa2[\"treatment\"].append(soup.find_all(\"td\",class_=\"de-outcomeLabelCell\")[7].text.strip('\\n').strip('\\r').strip())\n",
    "monaleesa2[\"treatment\"].append(soup.find_all(\"td\",class_=\"de-outcomeLabelCell\")[8].text.strip('\\n').strip('\\r').strip())\n",
    "\n",
    "monaleesa2[\"hazardRatio\"] = soup.find_all(\"td\",class_=\"de-outcomeDataCell\")[15].text.strip('\\n').strip('\\r').strip()\n",
    "monaleesa2[\"hasPercentageOfPatientsWithVisceralDisease\"] = 77.5\n",
    "monaleesa2[\"hasPercentageOfPatientsWithVisceralDisease\"] = [48.2,49.5]\n",
    "monaleesa2[\"hasPercentageOfPatientsHadReceivedPriorAdjuvantChemotherapy\"] = [48,49.1]\n",
    "monaleesa2[\"hasPercentageOfPatientsWithNewlyDiagonosedAdavancedDisease\"] = 37.2\n",
    "url = \"https://clinicaltrials.gov/ct2/show/results/NCT01958021?view=results\"\n",
    "response = urlopen(url)\n",
    "soup = BS(response, 'html.parser')\n",
    "baseline = soup.find_all(\"th\",class_=\"de-popFlowLabelCell\")\n",
    "groups = []\n",
    "for i in range(0,len(baseline)):\n",
    "    groups.append(baseline[i].text.strip(\"\\n\").strip(\"\\r\").strip())\n",
    "    number_of_patients.append(soup.find_all(\"td\",class_=\"de-numValue_baselineDataCell\")[i].text.strip(\"\\n\").strip(\"\\r\").strip())\n",
    "monaleesa2[\"groups\"] = groups\n",
    "dom = etree.HTML(str(soup))\n",
    "monaleesa2['PFS'] = [dom.xpath('//*[@id=\"EXPAND-outcome-data-1\"]/table/tbody/tr[6]/td[1]/div[1]/text()')[0]\n",
    "       .strip('\\n').strip('\\r').strip().replace('\\n','').replace('\\xa0',''),\n",
    "                  dom.xpath('//*[@id=\"EXPAND-outcome-data-1\"]/table/tbody/tr[6]/td[2]/div[1]/text()')[0].strip('\\n').strip().strip('\\n').strip()]\n",
    "monaleesa2[\"outcome_measurements\"] = [dom.xpath('//*[@id=\"EXPAND-outcome-data-1\"]/table/tbody/tr[5]/th/text()')[0]\n",
    "       .strip('\\n').strip('\\r').strip().replace('\\n','').replace('\\xa0',''),\n",
    "                             dom.xpath('//*[@id=\"EXPAND-outcome-data-1\"]/table/tbody/tr[5]/th/div/text()')[0]\n",
    "       .strip('\\n').strip('\\r').strip().replace('\\n','').replace('\\xa0','')]\n",
    "monaleesa2[\"age_measurements\"] = [dom.xpath('//*[@id=\"tab-body\"]/div[1]/div[3]/div[2]/table/tbody/tr[7]/th[1]/div/div[1]/text()')[0]\n",
    "       .strip('\\n').strip('\\r').strip().replace('\\n','').replace('\\xa0',''),\n",
    "                             dom.xpath('//*[@id=\"tab-body\"]/div[1]/div[3]/div[2]/table/tbody/tr[7]/th[1]/div/div[2]/text()')[0]\n",
    "       .strip('\\n').strip('\\r').strip().replace('\\n','').replace('\\xa0','')]\n",
    "monaleesa2[\"ageOfPatients\"] = [dom.xpath('//*[@id=\"tab-body\"]/div[1]/div[3]/div[2]/table/tbody/tr[9]/td[2]/span/text()')[0]\n",
    "       .strip('\\n').strip('\\r').strip().replace('\\n','').replace('\\xa0',''),\n",
    "                               dom.xpath('//*[@id=\"tab-body\"]/div[1]/div[3]/div[2]/table/tbody/tr[9]/td[3]/span/text()')[0]\n",
    "       .strip('\\n').strip('\\r').strip().replace('\\n','').replace('\\xa0','')]\n",
    "\n",
    "monaleesa2"
   ]
  },
  {
   "cell_type": "code",
   "execution_count": 120,
   "metadata": {},
   "outputs": [],
   "source": [
    "\n",
    "kg = Graph()\n",
    "kg.bind('Clinical_Trials', CT)\n",
    "kg.bind('schema',SCHEMA)\n",
    "ct_uri = URIRef('https://clinicaltrials.gov/ct2/show/NCT01958021')\n",
    "kg.add((ct_uri, RDF.type, SCHEMA.MedicalTrial))\n",
    "kg.add((ct_uri, CT.hasID, Literal('NCT01958021')))\n",
    "for i in monaleesa2:\n",
    "    kg.add((ct_uri, CT.hasStudyType, Literal(monaleesa2['StudyType'])))\n",
    "    if i == 'InclusionCriteria':\n",
    "        for j in monaleesa2[i]:\n",
    "            kg.add((ct_uri, CT.hasInclusionCriteria, Literal(j)))\n",
    "    if i == 'ExclusionCriteria':\n",
    "        for j in monaleesa2[i]:\n",
    "            kg.add((ct_uri, CT.hasExclusionCriteria, Literal(j)))\n",
    "    if i == 'Drugs':\n",
    "        for j in monaleesa2[i]:\n",
    "            k = URIRef(monaleesa2[i][j]['url'])\n",
    "            kg.add((ct_uri, CT.hasDrug, k))\n",
    "            kg.add((k, SCHEMA.name, Literal(j)))\n",
    "            kg.add((k, SCHEMA.description, Literal(monaleesa2[i][j]['description'])))\n",
    "    \n",
    "    \n",
    "    Group = monaleesa2[\"groups\"][0].replace(' ',\"_\") + \"_Group\"\n",
    "    Group1 = monaleesa2[\"groups\"][1].replace(' ',\"_\") + \"_Group\"\n",
    "    \n",
    "    PFS_field = 'NCT01958021_PFS'\n",
    "    kg.add((ct_uri, CT.hasPFS,CT[PFS_field]))\n",
    "    kg.add((CT[PFS_field], CT.hasPFS,CT[PFS]))\n",
    "    kg.add((CT[PFS], CT.hasGroup, Literal(Group)))\n",
    "    kg.add((CT[PFS], CT.hasType, Literal(monaleesa2[\"outcome_measurements\"][0])))\n",
    "    kg.add((CT[PFS], CT.hasUnit, Literal(monaleesa2[\"outcome_measurements\"][1])))\n",
    "    kg.add((CT[PFS], SCHEMA.number, Literal(monaleesa2['PFS'][0])))\n",
    "    kg.add((CT[PFS_field], CT.hasPFS,CT[PFS1]))\n",
    "    kg.add((CT[PFS1], CT.hasGroup, Literal(Group1)))\n",
    "    kg.add((CT[PFS1], CT.hasType, Literal(monaleesa2[\"outcome_measurements\"][0])))\n",
    "    kg.add((CT[PFS1], CT.hasUnit, Literal(monaleesa2[\"outcome_measurements\"][1])))\n",
    "    kg.add((CT[PFS1], SCHEMA.number, Literal(monaleesa2['PFS'][1])))\n",
    "    \n",
    "    treatment_field = 'NCT01958021_treamentDescription'\n",
    "    treatment = Group+\"_Description\"\n",
    "    treatment1 = Group1+\"_Description\"\n",
    "    kg.add((ct_uri, CT.hasTreatmentPlan,CT[treatment_field]))\n",
    "    kg.add((CT[treatment_field], CT.hasTreatment,CT[treatment]))\n",
    "    kg.add((CT[treatment], CT.hasGroup, Literal(Group)))\n",
    "    kg.add((CT[treatment], CT.hasdescription, Literal(monaleesa2[\"treatment\"][0])))\n",
    "    kg.add((CT[treatment_field], CT.hasTreatment,CT[treatment1]))\n",
    "    kg.add((CT[treatment1], CT.hasGroup, Literal(Group1)))\n",
    "    kg.add((CT[treatment1], CT.hasdescription, Literal(monaleesa2[\"treatment\"][1])))\n",
    "    \n",
    "    nofP_field = 'NCT01958021_numberofPatients'\n",
    "    numberofPatients = 'NCT01958021_numberofPatients_'+Group\n",
    "    numberofPatients1 = 'NCT01958021_numberofPatients_'+Group1\n",
    "    kg.add((ct_uri, CT.hasNumberofPatients,CT[nofP_field]))\n",
    "    kg.add((CT[nofP_field], CT.hasNumberofPatients,CT[numberofPatients]))\n",
    "    kg.add((CT[numberofPatients], CT.hasGroup, Literal(Group)))\n",
    "    kg.add((CT[numberofPatients], SCHEMA.number, Literal(monaleesa2[\"numberOfPatients\"][0])))\n",
    "    kg.add((CT[numberofPatients], CT.hasUnit, Literal(\"person\")))\n",
    "    kg.add((CT[nofP_field], CT.hasNumberofPatients,CT[numberofPatients1]))\n",
    "    kg.add((CT[numberofPatients1], CT.hasGroup, Literal(Group1)))\n",
    "    kg.add((CT[numberofPatients1], SCHEMA.number, Literal(monaleesa2[\"numberOfPatients\"][1])))\n",
    "    kg.add((CT[numberofPatients1], CT.hasUnit, Literal(\"person\")))\n",
    "    \n",
    "    aofP_field = 'NCT01958021_ageOfPatients'\n",
    "    ageOfPatients = 'NCT01958021_ageOfPatients_'+Group\n",
    "    ageOfPatients1 = 'NCT01958021_ageOfPatients_'+Group1\n",
    "    kg.add((ct_uri, CT.hasAge,CT[aofP_field]))\n",
    "    kg.add((CT[aofP_field], CT.hasAgeofPatients,CT[ageOfPatients]))\n",
    "    kg.add((CT[ageOfPatients], CT.hasGroup, Literal(Group)))\n",
    "    kg.add((CT[ageOfPatients], CT.hasType, Literal(monaleesa2[\"age_measurements\"][0])))\n",
    "    kg.add((CT[ageOfPatients], SCHEMA.number, Literal(monaleesa2[\"ageOfPatients\"][0])))\n",
    "    kg.add((CT[ageOfPatients], CT.hasUnit, Literal(monaleesa2[\"age_measurements\"][1])))\n",
    "    kg.add((CT[aofP_field], CT.hasAgeofPatients,CT[ageOfPatients1]))\n",
    "    kg.add((CT[ageOfPatients1], CT.hasGroup, Literal(Group1)))\n",
    "    kg.add((CT[ageOfPatients1], CT.hasType, Literal(monaleesa2[\"age_measurements\"][0])))\n",
    "    kg.add((CT[ageOfPatients1], SCHEMA.number, Literal(monaleesa2[\"ageOfPatients\"][1])))\n",
    "    kg.add((CT[ageOfPatients1], CT.hasUnit, Literal(monaleesa2[\"age_measurements\"][1])))\n",
    "\n",
    "#      'hazardRatio': '0.576',\n",
    "#  'hasPercentageOfPatientsWithVisceralDisease': [48.2, 49.5],\n",
    "#  'hasPercentageOfPatientsHadReceivedPriorAdjuvantChemotherapy': [48, 49.1],\n",
    "#  'hasPercentageOfPatientsWithNewlyDiagonosedAdavancedDisease': 37.2}\n",
    "    PVD_field = 'NCT01958021_percentageofPatientWithVisceraDisease'\n",
    "    PVD = 'NCT01958021_percentageofPatientWithVisceraDisease_'+Group\n",
    "    PVD1 = 'NCT01958021_percentageofPatientWithVisceraDisease_'+Group1\n",
    "    kg.add((ct_uri, CT.hasPercentageOfPatientsWithVisceralDisease,CT[PVD_field]))\n",
    "    kg.add((CT[PVD_field], CT.hasPercentageOfPatientsWithVisceralDisease,CT[PVD]))\n",
    "    kg.add((CT[PVD], CT.hasGroup, Literal(Group)))\n",
    "    kg.add((CT[PVD], SCHEMA.number, Literal(monaleesa2[\"hasPercentageOfPatientsWithVisceralDisease\"][0])))\n",
    "    kg.add((CT[PVD], CT.hasUnit, Literal(\"percentage\")))\n",
    "    kg.add((CT[PVD_field], CT.hasPercentageOfPatientsWithVisceralDisease,CT[PVD1]))\n",
    "    kg.add((CT[PVD1], CT.hasGroup, Literal(Group1)))\n",
    "    kg.add((CT[PVD1], SCHEMA.number, Literal(monaleesa2[\"hasPercentageOfPatientsWithVisceralDisease\"][1])))\n",
    "    kg.add((CT[PVD1], CT.hasUnit, Literal(\"percentage\")))\n",
    "    \n",
    "    PriorChemo_field = 'NCT01958021_percentageofPatientsHadReceivedPriorAdjuvantChemotherapy'\n",
    "    PercentageOfPatientsHadReceivedPriorAdjuvantChemotherapy = 'NCT01958021_percentageofPatientsHadReceivedPriorAdjuvantChemotherapy_'+Group\n",
    "    PercentageOfPatientsHadReceivedPriorAdjuvantChemotherapy1 = 'NCT01958021_percentageofPatientsHadReceivedPriorAdjuvantChemotherapy_'+Group1\n",
    "    kg.add((ct_uri, CT.hasPercentageOfPatientsHadReceivedPriorAdjuvantChemotherapy,CT[PriorChemo_field]))\n",
    "    kg.add((CT[PriorChemo_field], CT.hasPercentageOfPatientsHadReceivedPriorAdjuvantChemotherapy,\n",
    "            CT[PercentageOfPatientsHadReceivedPriorAdjuvantChemotherapy]))\n",
    "    kg.add((CT[PercentageOfPatientsHadReceivedPriorAdjuvantChemotherapy], CT.hasGroup, Literal(Group)))\n",
    "    kg.add((CT[PercentageOfPatientsHadReceivedPriorAdjuvantChemotherapy], SCHEMA.number, Literal(monaleesa2[\"hasPercentageOfPatientsHadReceivedPriorAdjuvantChemotherapy\"][0])))\n",
    "    kg.add((CT[PercentageOfPatientsHadReceivedPriorAdjuvantChemotherapy], CT.hasUnit, Literal(\"percentage\")))\n",
    "    kg.add((CT[PriorChemo_field], CT.hasPercentageOfPatientsHadReceivedPriorAdjuvantChemotherapy,\n",
    "            CT[PercentageOfPatientsHadReceivedPriorAdjuvantChemotherapy1]))\n",
    "    kg.add((CT[PercentageOfPatientsHadReceivedPriorAdjuvantChemotherapy1], CT.hasGroup, Literal(Group1)))\n",
    "    kg.add((CT[PercentageOfPatientsHadReceivedPriorAdjuvantChemotherapy1], SCHEMA.number, Literal(monaleesa2[\"hasPercentageOfPatientsHadReceivedPriorAdjuvantChemotherapy\"][1])))\n",
    "    kg.add((CT[PercentageOfPatientsHadReceivedPriorAdjuvantChemotherapy1], CT.hasUnit, Literal(\"percentage\")))    \n",
    "    \n",
    "    hazardRatio = monaleesa2[\"hazardRatio\"]\n",
    "    kg.add((ct_uri, CT.hasHazardRatio, CT['NCT01958021_hazardRatio']))\n",
    "    kg.add((CT['NCT01958021_hazardRatio'], SCHEMA.number, Literal(monaleesa2[\"hazardRatio\"])))\n",
    "    kg.add((CT['NCT01958021_hazardRatio'], CT.hasConfidenceInterval, Literal(\"(2 sided)95% 0.463 to 0.718\")))\n",
    "    \n",
    "    PercentageOfPatientsWithNewlyDiagonosedAdavancedDisease = str(monaleesa2[\"hasPercentageOfPatientsWithNewlyDiagonosedAdavancedDisease\"])\n",
    "    kg.add((ct_uri, CT.hasPercentageOfPatientsWithNewlyDiagonosedAdavancedDisease, CT['NCT01958021_PercentageOfPatientsWithNewlyDiagonosedAdavancedDisease']))\n",
    "    kg.add((CT['NCT01958021_PercentageOfPatientsWithNewlyDiagonosedAdavancedDisease'], SCHEMA.number, Literal(monaleesa2[\"hasPercentageOfPatientsWithNewlyDiagonosedAdavancedDisease\"])))\n",
    "    kg.add((CT['NCT01958021_PercentageOfPatientsWithNewlyDiagonosedAdavancedDisease'], CT.hasUnit, Literal(\"percentage\")))\n",
    "    \n",
    "kg.serialize('monaleesa-2.ttl', format=\"turtle\")     \n",
    "    "
   ]
  },
  {
   "cell_type": "code",
   "execution_count": 74,
   "metadata": {},
   "outputs": [],
   "source": [
    "kg = Graph()\n",
    "kg.bind('Clinical_Trials', CT)\n",
    "kg.bind('schema',SCHEMA)\n",
    "ct_uri = URIRef('https://clinicaltrials.gov/ct2/show/NCT00984399')\n",
    "kg.add((ct_uri, CT['hasNoResults'], Literal(\"No Results\")))\n",
    "kg.serialize('new.ttl', format=\"turtle\")  \n",
    "g1 = Graph()\n",
    "g1.parse(\"NCT00984399.ttl\", format=\"turtle\")\n",
    "\n",
    "g2 = Graph()\n",
    "g2.parse(\"new.ttl\", format=\"turtle\")\n",
    "\n",
    "final_graph = g1 + g2\n",
    "\n",
    "final_graph.serialize(\"new_NCT00984399.ttl\", format=\"turtle\")\n"
   ]
  },
  {
   "cell_type": "code",
   "execution_count": 75,
   "metadata": {},
   "outputs": [],
   "source": [
    "kg = Graph()\n",
    "kg.bind('Clinical_Trials', CT)\n",
    "kg.bind('schema',SCHEMA)\n",
    "ct_uri = URIRef('https://clinicaltrials.gov/ct2/show/NCT01478477')\n",
    "kg.add((ct_uri, CT['hasNoResults'], Literal(\"No Results\")))\n",
    "kg.serialize('new.ttl', format=\"turtle\")  \n",
    "g1 = Graph()\n",
    "g1.parse(\"NCT01478477.ttl\", format=\"turtle\")\n",
    "\n",
    "g2 = Graph()\n",
    "g2.parse(\"new.ttl\", format=\"turtle\")\n",
    "\n",
    "final_graph = g1 + g2\n",
    "\n",
    "final_graph.serialize(\"new_NCT01478477.ttl\", format=\"turtle\")"
   ]
  },
  {
   "cell_type": "code",
   "execution_count": 76,
   "metadata": {},
   "outputs": [],
   "source": [
    "kg = Graph()\n",
    "kg.bind('Clinical_Trials', CT)\n",
    "kg.bind('schema',SCHEMA)\n",
    "ct_uri = URIRef('https://clinicaltrials.gov/ct2/show/NCT01676753')\n",
    "kg.add((ct_uri, CT['hasNoResults'], Literal(\"No Results\")))\n",
    "kg.serialize('new.ttl', format=\"turtle\")  \n",
    "g1 = Graph()\n",
    "g1.parse(\"NCT01676753.ttl\", format=\"turtle\")\n",
    "\n",
    "g2 = Graph()\n",
    "g2.parse(\"new.ttl\", format=\"turtle\")\n",
    "\n",
    "final_graph = g1 + g2\n",
    "\n",
    "final_graph.serialize(\"new_graphs/new_NCT01676753.ttl\", format=\"turtle\")"
   ]
  },
  {
   "cell_type": "code",
   "execution_count": 77,
   "metadata": {},
   "outputs": [],
   "source": [
    "kg = Graph()\n",
    "kg.bind('Clinical_Trials', CT)\n",
    "kg.bind('schema',SCHEMA)\n",
    "ct_uri = URIRef('https://clinicaltrials.gov/ct2/show/NCT01791478')\n",
    "kg.add((ct_uri, CT['hasNoResults'], Literal(\"No Results\")))\n",
    "kg.serialize('new.ttl', format=\"turtle\")  \n",
    "g1 = Graph()\n",
    "g1.parse(\"NCT01791478.ttl\", format=\"turtle\")\n",
    "\n",
    "g2 = Graph()\n",
    "g2.parse(\"new.ttl\", format=\"turtle\")\n",
    "\n",
    "final_graph = g1 + g2\n",
    "\n",
    "final_graph.serialize(\"new_graphs/new_NCT01791478.ttl\", format=\"turtle\")"
   ]
  },
  {
   "cell_type": "code",
   "execution_count": 78,
   "metadata": {},
   "outputs": [],
   "source": [
    "kg = Graph()\n",
    "kg.bind('Clinical_Trials', CT)\n",
    "kg.bind('schema',SCHEMA)\n",
    "ct_uri = URIRef('https://clinicaltrials.gov/ct2/show/NCT01824836')\n",
    "kg.add((ct_uri, CT['hasNoResults'], Literal(\"No Results\")))\n",
    "kg.serialize('new.ttl', format=\"turtle\")  \n",
    "g1 = Graph()\n",
    "g1.parse(\"NCT01824836.ttl\", format=\"turtle\")\n",
    "\n",
    "g2 = Graph()\n",
    "g2.parse(\"new.ttl\", format=\"turtle\")\n",
    "\n",
    "final_graph = g1 + g2\n",
    "\n",
    "final_graph.serialize(\"new_graphs/new_NCT01824836.ttl\", format=\"turtle\")"
   ]
  },
  {
   "cell_type": "code",
   "execution_count": 81,
   "metadata": {},
   "outputs": [],
   "source": [
    "kg = Graph()\n",
    "kg.bind('Clinical_Trials', CT)\n",
    "kg.bind('schema',SCHEMA)\n",
    "ct_uri = URIRef('https://clinicaltrials.gov/ct2/show/NCT02203513')\n",
    "kg.add((ct_uri, CT['hasNoResults'], Literal(\"No Results\")))\n",
    "kg.serialize('new.ttl', format=\"turtle\")  \n",
    "g1 = Graph()\n",
    "g1.parse(\"NCT02203513.ttl\", format=\"turtle\")\n",
    "\n",
    "g2 = Graph()\n",
    "g2.parse(\"new.ttl\", format=\"turtle\")\n",
    "\n",
    "final_graph = g1 + g2\n",
    "\n",
    "final_graph.serialize(\"new_graphs/new_NCT02203513.ttl\", format=\"turtle\")"
   ]
  },
  {
   "cell_type": "code",
   "execution_count": 82,
   "metadata": {},
   "outputs": [],
   "source": [
    "kg = Graph()\n",
    "kg.bind('Clinical_Trials', CT)\n",
    "kg.bind('schema',SCHEMA)\n",
    "ct_uri = URIRef('https://clinicaltrials.gov/ct2/show/NCT02379247')\n",
    "kg.add((ct_uri, CT['hasNoResults'], Literal(\"Results not posted on ClinicalTrials.gov\")))\n",
    "kg.serialize('new.ttl', format=\"turtle\")  \n",
    "g1 = Graph()\n",
    "g1.parse(\"NCT02379247.ttl\", format=\"turtle\")\n",
    "\n",
    "g2 = Graph()\n",
    "g2.parse(\"new.ttl\", format=\"turtle\")\n",
    "\n",
    "final_graph = g1 + g2\n",
    "\n",
    "final_graph.serialize(\"new_graphs/new_NCT02379247.ttl\", format=\"turtle\")"
   ]
  },
  {
   "cell_type": "code",
   "execution_count": 83,
   "metadata": {},
   "outputs": [],
   "source": [
    "kg = Graph()\n",
    "kg.bind('Clinical_Trials', CT)\n",
    "kg.bind('schema',SCHEMA)\n",
    "ct_uri = URIRef('https://clinicaltrials.gov/ct2/show/NCT02530489')\n",
    "kg.add((ct_uri, CT['hasNoResults'], Literal(\"No Results\")))\n",
    "kg.serialize('new.ttl', format=\"turtle\")  \n",
    "g1 = Graph()\n",
    "g1.parse(\"NCT02530489.ttl\", format=\"turtle\")\n",
    "\n",
    "g2 = Graph()\n",
    "g2.parse(\"new.ttl\", format=\"turtle\")\n",
    "\n",
    "final_graph = g1 + g2\n",
    "\n",
    "final_graph.serialize(\"new_graphs/new_NCT02530489.ttl\", format=\"turtle\")"
   ]
  },
  {
   "cell_type": "code",
   "execution_count": 84,
   "metadata": {},
   "outputs": [],
   "source": [
    "kg = Graph()\n",
    "kg.bind('Clinical_Trials', CT)\n",
    "kg.bind('schema',SCHEMA)\n",
    "ct_uri = URIRef('https://clinicaltrials.gov/ct2/show/NCT02657343')\n",
    "kg.add((ct_uri, CT['hasNoResults'], Literal(\"No Results\")))\n",
    "kg.serialize('new.ttl', format=\"turtle\")  \n",
    "g1 = Graph()\n",
    "g1.parse(\"NCT02657343.ttl\", format=\"turtle\")\n",
    "\n",
    "g2 = Graph()\n",
    "g2.parse(\"new.ttl\", format=\"turtle\")\n",
    "\n",
    "final_graph = g1 + g2\n",
    "\n",
    "final_graph.serialize(\"new_graphs/new_NCT02657343.ttl\", format=\"turtle\")"
   ]
  },
  {
   "cell_type": "code",
   "execution_count": 85,
   "metadata": {},
   "outputs": [],
   "source": [
    "kg = Graph()\n",
    "kg.bind('Clinical_Trials', CT)\n",
    "kg.bind('schema',SCHEMA)\n",
    "ct_uri = URIRef('https://clinicaltrials.gov/ct2/show/NCT02672475')\n",
    "kg.add((ct_uri, CT['hasNoResults'], Literal(\"No Results\")))\n",
    "kg.serialize('new.ttl', format=\"turtle\")  \n",
    "g1 = Graph()\n",
    "g1.parse(\"NCT02672475.ttl\", format=\"turtle\")\n",
    "\n",
    "g2 = Graph()\n",
    "g2.parse(\"new.ttl\", format=\"turtle\")\n",
    "\n",
    "final_graph = g1 + g2\n",
    "\n",
    "final_graph.serialize(\"new_graphs/new_NCT02672475.ttl\", format=\"turtle\")"
   ]
  },
  {
   "cell_type": "code",
   "execution_count": 86,
   "metadata": {},
   "outputs": [],
   "source": [
    "kg = Graph()\n",
    "kg.bind('Clinical_Trials', CT)\n",
    "kg.bind('schema',SCHEMA)\n",
    "ct_uri = URIRef('https://clinicaltrials.gov/ct2/show/NCT02719691')\n",
    "kg.add((ct_uri, CT['hasNoResults'], Literal(\"No Results\")))\n",
    "kg.serialize('new.ttl', format=\"turtle\")  \n",
    "g1 = Graph()\n",
    "g1.parse(\"NCT02719691.ttl\", format=\"turtle\")\n",
    "\n",
    "g2 = Graph()\n",
    "g2.parse(\"new.ttl\", format=\"turtle\")\n",
    "\n",
    "final_graph = g1 + g2\n",
    "\n",
    "final_graph.serialize(\"new_graphs/new_NCT02719691.ttl\", format=\"turtle\")"
   ]
  },
  {
   "cell_type": "code",
   "execution_count": 87,
   "metadata": {},
   "outputs": [],
   "source": [
    "kg = Graph()\n",
    "kg.bind('Clinical_Trials', CT)\n",
    "kg.bind('schema',SCHEMA)\n",
    "ct_uri = URIRef('https://clinicaltrials.gov/ct2/show/NCT03219476')\n",
    "kg.add((ct_uri, CT['hasNoResults'], Literal(\"No Results\")))\n",
    "kg.serialize('new.ttl', format=\"turtle\")  \n",
    "g1 = Graph()\n",
    "g1.parse(\"NCT03219476.ttl\", format=\"turtle\")\n",
    "\n",
    "g2 = Graph()\n",
    "g2.parse(\"new.ttl\", format=\"turtle\")\n",
    "\n",
    "final_graph = g1 + g2\n",
    "\n",
    "final_graph.serialize(\"new_graphs/new_NCT03219476.ttl\", format=\"turtle\")"
   ]
  },
  {
   "cell_type": "code",
   "execution_count": 88,
   "metadata": {},
   "outputs": [],
   "source": [
    "kg = Graph()\n",
    "kg.bind('Clinical_Trials', CT)\n",
    "kg.bind('schema',SCHEMA)\n",
    "ct_uri = URIRef('https://clinicaltrials.gov/ct2/show/NCT03874325')\n",
    "kg.add((ct_uri, CT['hasNoResults'], Literal(\"No Results\")))\n",
    "kg.serialize('new.ttl', format=\"turtle\")  \n",
    "g1 = Graph()\n",
    "g1.parse(\"NCT03874325.ttl\", format=\"turtle\")\n",
    "\n",
    "g2 = Graph()\n",
    "g2.parse(\"new.ttl\", format=\"turtle\")\n",
    "\n",
    "final_graph = g1 + g2\n",
    "\n",
    "final_graph.serialize(\"new_graphs/new_NCT03874325.ttl\", format=\"turtle\")"
   ]
  },
  {
   "cell_type": "code",
   "execution_count": 94,
   "metadata": {},
   "outputs": [
    {
     "data": {
      "text/plain": [
       "['1']"
      ]
     },
     "execution_count": 94,
     "metadata": {},
     "output_type": "execute_result"
    }
   ],
   "source": [
    "url = \"https://clinicaltrials.gov/ct2/show/results/NCT03093350?view=results\"\n",
    "response = urlopen(url)\n",
    "soup = BS(response, 'html.parser')\n",
    "dom = etree.HTML(str(soup))\n",
    "## age: td[2]\n",
    "a = [str(dom.xpath('//*[@id=\"tab-body\"]/div[1]/div[3]/div[2]/table/tbody/tr[9]/td[2]/span/text()')[0])\n",
    "       .strip('\\n').strip('\\r').strip().replace('\\n','').replace('\\xa0','')]\n",
    "## outcome: td[1]\n",
    "b = [dom.xpath('//*[@id=\"EXPAND-outcome-data-1\"]/table/tbody/tr[6]/td[1]/div[1]/text()')[0]\n",
    "       .strip('\\n').strip('\\r').strip().replace('\\n','').replace('\\xa0','')]\n",
    "b"
   ]
  },
  {
   "cell_type": "code",
   "execution_count": 167,
   "metadata": {},
   "outputs": [
    {
     "data": {
      "text/plain": [
       "{'numberOfPatients': ['12', '10'],\n",
       " 'treatment': ['\\n', '\\n', '\\n', '\\n', '\\n', '\\n', '\\n'],\n",
       " 'ageOfPatients': ['58.80        (11.91)'],\n",
       " 'outcome': ['1'],\n",
       " 'outcome_measurements': ['Measure Type:Count of Participants',\n",
       "  'Unit of Measure: Participants'],\n",
       " 'age_measurements': ['Mean (Standard Deviation)', 'Unit of measure: Years']}"
      ]
     },
     "execution_count": 167,
     "metadata": {},
     "output_type": "execute_result"
    }
   ],
   "source": [
    "url = \"https://clinicaltrials.gov/ct2/show/results/NCT03093350?view=results\"\n",
    "response = urlopen(url)\n",
    "soup = BS(response, 'html.parser')\n",
    "baseline = soup.find_all(\"th\",class_=\"de-popFlowLabelCell\")\n",
    "groups = []\n",
    "number_of_patients = []\n",
    "for i in range(0,len(baseline)):\n",
    "    groups.append(baseline[i].text.strip(\"\\n\").strip(\"\\r\").strip())\n",
    "    number_of_patients.append(soup.find_all(\"td\",class_=\"de-numValue_baselineDataCell\")[i].text.strip(\"\\n\").strip(\"\\r\").strip())\n",
    "\n",
    "response = urlopen(url)\n",
    "soup = BS(response, 'html.parser')\n",
    "dom = etree.HTML(str(soup))\n",
    "\n",
    "NCT03093350 = dict()\n",
    "NCT03093350[\"numberOfPatients\"] = []\n",
    "NCT03093350[\"numberOfPatients\"].append(soup.find_all(\"td\", class_=\"de-numValue_popFlowCell\")[0].text.strip(\"\\r\").strip(\"\\n\").strip())\n",
    "NCT03093350[\"numberOfPatients\"].append(soup.find_all(\"td\", class_=\"de-numValue_popFlowCell\")[1].text.strip(\"\\r\").strip(\"\\n\").strip())\n",
    "NCT03093350[\"treatment\"] = dom.xpath('//*[@id=\"EXPAND-armGroupDescriptionRow-baseline\"]/td[2]/text()')\n",
    "NCT03093350[\"ageOfPatients\"] = [dom.xpath('//*[@id=\"tab-body\"]/div[1]/div[3]/div[2]/table/tbody/tr[9]/td[2]/span/text()')[0]\n",
    "       .strip('\\n').strip('\\r').strip().replace('\\n','').replace('\\xa0','')]\n",
    "# NCT03093350[\"hazardRatio\"] = soup.find_all(\"td\",class_=\"de-outcomeDataCell\")[15].text.strip('\\n').strip('\\r').strip()\n",
    "\n",
    "NCT03093350['outcome'] = [dom.xpath('//*[@id=\"EXPAND-outcome-data-1\"]/table/tbody/tr[6]/td[1]/div[1]/text()')[0]\n",
    "       .strip('\\n').strip('\\r').strip().replace('\\n','').replace('\\xa0','')]\n",
    "NCT03093350[\"outcome_measurements\"] = [dom.xpath('//*[@id=\"EXPAND-outcome-data-1\"]/table/tbody/tr[5]/th/text()')[0]\n",
    "       .strip('\\n').strip('\\r').strip().replace('\\n','').replace('\\xa0',''),\n",
    "                             dom.xpath('//*[@id=\"EXPAND-outcome-data-1\"]/table/tbody/tr[5]/th/div/text()')[0]\n",
    "       .strip('\\n').strip('\\r').strip().replace('\\n','').replace('\\xa0','')]\n",
    "NCT03093350[\"age_measurements\"] = [dom.xpath('//*[@id=\"tab-body\"]/div[1]/div[3]/div[2]/table/tbody/tr[7]/th[1]/div/div[1]/text()')[0]\n",
    "       .strip('\\n').strip('\\r').strip().replace('\\n','').replace('\\xa0',''),\n",
    "                             dom.xpath('//*[@id=\"tab-body\"]/div[1]/div[3]/div[2]/table/tbody/tr[7]/th[1]/div/div[2]/text()')[0]\n",
    "       .strip('\\n').strip('\\r').strip().replace('\\n','').replace('\\xa0','')]\n",
    "NCT03093350\n",
    "\n"
   ]
  },
  {
   "cell_type": "code",
   "execution_count": 297,
   "metadata": {},
   "outputs": [],
   "source": [
    "def crawling_data(ID):\n",
    "    url = 'https://clinicaltrials.gov/ct2/show/results/'+ID+'?view=results'\n",
    "    \n",
    "    response = urlopen(url)\n",
    "    soup = BS(response, 'html.parser')\n",
    "    baseline = soup.find_all(\"th\",class_=\"de-popFlowLabelCell\")\n",
    "    response = urlopen(url)\n",
    "    soup = BS(response, 'html.parser')\n",
    "    dom = etree.HTML(str(soup))\n",
    "    output = dict()\n",
    "    output['groups'] = []\n",
    "    output[\"treatment\"] = []\n",
    "    output[\"ageOfPatients\"] = []\n",
    "    output[\"outcome\"] = []\n",
    "    output[\"outcome_measurements\"] = []\n",
    "    output[\"age_measurements\"] = []\n",
    "    output[\"outcome_description\"] = []\n",
    "\n",
    "    if (len(baseline)>0):\n",
    "        groups = []\n",
    "        for i in range(0,len(baseline)):\n",
    "            groups.append(baseline[i].text.strip(\"\\n\").strip(\"\\r\").strip())\n",
    "            number_of_patients.append(soup.find_all(\"td\",class_=\"de-numValue_baselineDataCell\")[i].text.strip(\"\\n\").strip(\"\\r\").strip())\n",
    "        \n",
    "        output['groups'] = groups\n",
    "        output[\"numberOfPatients\"] = []\n",
    "        if(len(soup.find_all(\"td\", class_=\"de-numValue_popFlowCell\"))>0):          \n",
    "            for i in range(0,len(baseline)):\n",
    "                output[\"numberOfPatients\"].append(soup.find_all(\"td\", class_=\"de-numValue_popFlowCell\")[i].text.strip(\"\\r\").strip(\"\\n\").strip())\n",
    "\n",
    " \n",
    "        treatment = dom.xpath('//*[@id=\"EXPAND-armGroupDescriptionRow-baseline\"]/td[2]/text()')\n",
    "        if(len(treatment)>0):\n",
    "            print('1')\n",
    "            output[\"treatment\"].append(dom.xpath('//*[@id=\"EXPAND-armGroupDescriptionRow-baseline\"]/td[' + str(i+2)+ ']/text()')[0]\n",
    "                                       .strip('\\n').strip('\\r').strip().replace('\\n','').replace('\\xa0',''))\n",
    "        else:\n",
    "            print('2')\n",
    "            treatment = dom.xpath('//*[@id=\"EXPAND-armGroupDescriptionRow-baseline\"]/td[2]/p[1]/text()')\n",
    "            if(len(treatment)>0):\n",
    "                print(treatment)\n",
    "                output[\"treatment\"].append(dom.xpath('//*[@id=\"EXPAND-armGroupDescriptionRow-baseline\"]/td['+str(i+2)+']/p[1]/text()')[0]\n",
    "                                           .strip('\\n').strip('\\r').strip().replace('\\n','').replace('\\xa0',''))\n",
    "          \n",
    "        output[\"age_measurements\"] = [dom.xpath('//*[@id=\"tab-body\"]/div[1]/div[3]/div[2]/table/tbody/tr[7]/th[1]/div/div[1]/text()'),\n",
    "                                     dom.xpath('//*[@id=\"tab-body\"]/div[1]/div[3]/div[2]/table/tbody/tr[7]/th[1]/div/div[2]/text()')]\n",
    "        if(len(output[\"age_measurements\"])>0):\n",
    "            output[\"age_measurements\"] = [dom.xpath('//*[@id=\"tab-body\"]/div[1]/div[3]/div[2]/table/tbody/tr[7]/th[1]/div/div[1]/text()')\n",
    "                                          [0].strip('\\n').strip('\\r').strip().replace('\\n','').replace('\\xa0',''),\n",
    "                                     dom.xpath('//*[@id=\"tab-body\"]/div[1]/div[3]/div[2]/table/tbody/tr[7]/th[1]/div/div[2]/text()')\n",
    "                                         [0].strip('\\n').strip('\\r').strip().replace('\\n','').replace('\\xa0','')]\n",
    "\n",
    "        if('count' in output[\"age_measurements\"][0].lower()):\n",
    "            print(\"need to check count\")\n",
    "        else:\n",
    "            \n",
    "            age = dom.xpath('//*[@id=\"tab-body\"]/div[1]/div[3]/div[2]/table/tbody/tr[9]/td[2]/span/text()')\n",
    "    #         //*[@id=\"tab-body\"]/div[1]/div[3]/div[2]/table/tbody/tr[9]/td[2]/div[1]\n",
    "            if(len(age)>0):\n",
    "                for i in range(0,len(baseline)):\n",
    "                    output[\"ageOfPatients\"].append(dom.xpath('//*[@id=\"tab-body\"]/div[1]/div[3]/div[2]/table/tbody/tr[9]/td[' + str(i+2) + ']/span/text()')\n",
    "                                                   [0].strip('\\n').strip('\\r').strip().replace('\\n','').replace('\\xa0',''))\n",
    "            else:\n",
    "                age = dom.xpath('//*[@id=\"tab-body\"]/div[1]/div[3]/div[2]/table/tbody/tr[9]/td[2]/div[1]/text()') \n",
    "                for i in range(0,len(baseline)):\n",
    "                    output[\"ageOfPatients\"].append(dom.xpath('//*[@id=\"tab-body\"]/div[1]/div[3]/div[2]/table/tbody/tr[9]/td['+str(i+2)+']/div[1]/text()')\n",
    "                                                   [0].strip('\\n').strip('\\r').strip().replace('\\n','').replace('\\xa0',''))\n",
    "    # //*[@id=\"tab-body\"]/div[1]/div[3]/div[2]/table/tbody/tr[9]/td[2]/div[2]\n",
    "    # //*[@id=\"tab-body\"]/div[1]/div[3]/div[2]/table/tbody/tr[10]/td[2]/div[1]\n",
    "\n",
    "        outcome = dom.xpath('//*[@id=\"EXPAND-outcome-data-1\"]/table/tbody/tr[6]/td[1]/div[1]/text()')\n",
    "        \n",
    "        if(len(outcome) > 0):\n",
    "            for i in range(0,len(baseline)):\n",
    "                output[\"outcome\"].append(dom.xpath('//*[@id=\"EXPAND-outcome-data-1\"]/table/tbody/tr[6]/td[' + str(i+1) + ']/div[1]/text()')\n",
    "                                         [0].strip('\\n').strip('\\r').strip().replace('\\n','').replace('\\xa0',''))\n",
    "        else:\n",
    "            output[\"outcome\"] = len(outcome)\n",
    "        output[\"outcome_measurements\"] = [dom.xpath('//*[@id=\"EXPAND-outcome-data-1\"]/table/tbody/tr[5]/th/text()'),\n",
    "                                     dom.xpath('//*[@id=\"EXPAND-outcome-data-1\"]/table/tbody/tr[5]/th/div/text()')]\n",
    "        if(len(output[\"outcome_measurements\"]) > 0):\n",
    "            output[\"outcome_measurements\"] = [dom.xpath('//*[@id=\"EXPAND-outcome-data-1\"]/table/tbody/tr[5]/th/text()')\n",
    "                                              [0].strip('\\n').strip('\\r').strip().replace('\\n','').replace('\\xa0',''),\n",
    "                                     dom.xpath('//*[@id=\"EXPAND-outcome-data-1\"]/table/tbody/tr[5]/th/div/text()')\n",
    "                                             [0].strip('\\n').strip('\\r').strip().replace('\\n','').replace('\\xa0','')]\n",
    "        outcome_description = dom.xpath('//*[@id=\"tab-body\"]/div[1]/div[4]/div[2]/fieldset[1]/div/table/tbody/tr[1]/td/text()')\n",
    "        if (len(outcome_description)>0):\n",
    "            print('0')\n",
    "            output[\"outcome_description\"] = dom.xpath('//*[@id=\"tab-body\"]/div[1]/div[4]/div[2]/fieldset[1]/div/table/tbody/tr[1]/td/text()')\n",
    "            [0].strip('\\n').strip('\\r').strip().replace('\\n','').replace('\\xa0','')\n",
    "    return output\n",
    "\n",
    "\n",
    "\n"
   ]
  },
  {
   "cell_type": "code",
   "execution_count": 312,
   "metadata": {},
   "outputs": [
    {
     "data": {
      "text/plain": [
       "[]"
      ]
     },
     "execution_count": 312,
     "metadata": {},
     "output_type": "execute_result"
    }
   ],
   "source": [
    "url = 'https://clinicaltrials.gov/ct2/show/results/NCT03093350?view=results'\n",
    "    \n",
    "response = urlopen(url)\n",
    "soup = BS(response, 'html.parser')\n",
    "baseline = soup.find_all(\"th\",class_=\"de-popFlowLabelCell\")\n",
    "response = urlopen(url)\n",
    "soup = BS(response, 'html.parser')\n",
    "dom = etree.HTML(str(soup))\n",
    "treatment = dom.xpath('//*[@id=\"EXPAND-armGroupDescriptionRow-baseline\"]/td[2]//text()')\n",
    "description = dom.xpath('//*[@id=\"tab-body\"]/div[1]/div[4]/div[2]/fieldset[1]/div/table/tbody/tr[1]/td/text()')\n",
    "description\n",
    "\n"
   ]
  },
  {
   "cell_type": "code",
   "execution_count": 299,
   "metadata": {
    "scrolled": true
   },
   "outputs": [
    {
     "name": "stdout",
     "output_type": "stream",
     "text": [
      "1\n",
      "{'groups': ['Placebo', 'Metformin'], 'treatment': [''], 'ageOfPatients': ['39.2        (8.6)', '39.9        (7.9)'], 'outcome': 0, 'outcome_measurements': ['Mean (Standard Deviation)', 'Unit of Measure: cm^3'], 'age_measurements': ['Mean (Standard Deviation)', 'Unit of measure: Years'], 'outcome_description': [], 'numberOfPatients': ['75', '76']}\n"
     ]
    }
   ],
   "source": [
    "print(crawling_data('NCT02028221'))\n"
   ]
  },
  {
   "cell_type": "code",
   "execution_count": 300,
   "metadata": {},
   "outputs": [
    {
     "name": "stdout",
     "output_type": "stream",
     "text": [
      "1\n",
      "{'groups': ['Neoadjuvant Chemo Followed by Surgery & High-dose Chemo With PSC Rescue', 'High-dose Chemo With Rescue'], 'treatment': [''], 'ageOfPatients': ['49', '50'], 'outcome': ['61.5', '77.8'], 'outcome_measurements': ['Measure Type:Number', 'Unit of Measure: percentage of participants'], 'age_measurements': ['Median (Full Range)', 'Unit of measure: Years'], 'outcome_description': [], 'numberOfPatients': ['14', '27']}\n"
     ]
    }
   ],
   "source": [
    "print(crawling_data('NCT00003042'))"
   ]
  },
  {
   "cell_type": "code",
   "execution_count": 301,
   "metadata": {},
   "outputs": [
    {
     "name": "stdout",
     "output_type": "stream",
     "text": [
      "1\n",
      "{'groups': ['LEE011 + NSAI/Tamoxifen + Goserelin', 'LEE011 Placebo + NSAI/Tamoxifen+ Goserelin'], 'treatment': ['LEE011 Placebo 600 mg daily oral (3 weeks on/ 1 week off) in combination with NSAI or tamoxifen (tamoxifen 20 mg daily oral or letrozole 2.5 mg daily oral or anastrozole 1 mg daily oral) and goserelin 3.6 mg subcutaneous injection (once every 28 days)'], 'ageOfPatients': ['42.6        (6.6)', '43.7        (6.17)'], 'outcome': ['23.8', '13.0'], 'outcome_measurements': ['Median (95% Confidence Interval)', 'Unit of Measure: Months'], 'age_measurements': ['Mean (Standard Deviation)', 'Unit of measure: Years'], 'outcome_description': [], 'numberOfPatients': ['335', '337']}\n"
     ]
    }
   ],
   "source": [
    "\n",
    "print(crawling_data('NCT02278120'))"
   ]
  },
  {
   "cell_type": "code",
   "execution_count": 302,
   "metadata": {},
   "outputs": [
    {
     "name": "stdout",
     "output_type": "stream",
     "text": [
      "1\n",
      "need to check count\n",
      "{'groups': ['Titrated Dose Letrozole', 'Fixed Dose Letrozole'], 'treatment': [''], 'ageOfPatients': [], 'outcome': 0, 'outcome_measurements': ['Mean (Standard Deviation)', 'Unit of Measure: oocytes'], 'age_measurements': ['Measure Type: Count of Participants', 'Unit of measure: Participants'], 'outcome_description': [], 'numberOfPatients': ['18', '22']}\n"
     ]
    }
   ],
   "source": [
    "print(crawling_data('NCT01035099'))"
   ]
  },
  {
   "cell_type": "code",
   "execution_count": 303,
   "metadata": {},
   "outputs": [
    {
     "name": "stdout",
     "output_type": "stream",
     "text": [
      "1\n",
      "{'groups': ['TAA-Specific CTLs'], 'treatment': [''], 'ageOfPatients': ['58.80        (11.91)'], 'outcome': ['1'], 'outcome_measurements': ['Measure Type:Count of Participants', 'Unit of Measure: Participants'], 'age_measurements': ['Mean (Standard Deviation)', 'Unit of measure: Years'], 'outcome_description': [], 'numberOfPatients': ['12']}\n"
     ]
    }
   ],
   "source": [
    "print(crawling_data('NCT03093350'))"
   ]
  },
  {
   "cell_type": "code",
   "execution_count": 305,
   "metadata": {},
   "outputs": [
    {
     "data": {
      "text/plain": [
       "{'StudyType': 'Interventional',\n",
       " 'InclusionCriteria': ['Woman between the ages of 30 and 65 (both inclusive).',\n",
       "  'Able to read and understand the Patient Information Sheet and the Informed Consent form.',\n",
       "  'Acceptance in the participation of the essay and signature of the Informed Consent form.',\n",
       "  'ASC-US or LSIL or AG-US cytological result (maximum 3 months prior to inclusion) with concordant colposcopic image (performed at the screening visit).',\n",
       "  'High risk HPV positive by PCR performed at screening visit.',\n",
       "  'Is able, at the discretion of the researcher, to comply with the requirements of the trial and without hindrance to follow the instructions and assessments throughout it.'],\n",
       " 'ExclusionCriteria': ['Clinically relevant immune system alterations, or any other autoimmune disease or in treatment with immunosuppressants.',\n",
       "  'Non-diagnosed abnormal genital hemorrhage (during the 6 months prior to the screening visit).',\n",
       "  'To had been vaccinated against HPV.',\n",
       "  'Other symptomatic vulvovaginal infections.',\n",
       "  'Surgical cervical excision in the last year or total hysterectomy.',\n",
       "  'Previous history of gynecological cancer.',\n",
       "  'Participation in any other clinical trial at present or in the 4 weeks prior to the inclusion of the trial.',\n",
       "  'Any planned surgery that prevents the correct compliance with the guidelines.',\n",
       "  'Use of vaginal contraceptives or other vaginal hormonal treatments.',\n",
       "  'Contraindications for the use of Papilocare® gel or known allergies to any of its components.',\n",
       "  'Women of childbearing age who do not use effective contraceptive methods, pregnant women, with suspicion of pregnancy or woman who are breastfeeding.'],\n",
       " 'Drugs': {'PD-0332991': {'url': 'https://en.wikipedia.org/w/api.php?action=query&list=search&srsearch=PD-0332991&format=json',\n",
       "   'description': 'Kalous, O; Cohen, DJ; Desai, AJ; Ginther, C; Atefi, M; et\\xa0al. (2009). &quot;<span class=\"searchmatch\">PD</span> <span class=\"searchmatch\">0332991</span>, a selective cyclin D kinase 4/6 inhibitor, preferentially inhibits proliferation'},\n",
       "  'Letrozole': {'url': 'https://en.wikipedia.org/w/api.php?action=query&list=search&srsearch=Letrozole&format=json',\n",
       "   'description': '<span class=\"searchmatch\">Letrozole</span>, sold under the brand name Femara among others, is an aromatase inhibitor which is used in the treatment of hormonally-responsive breast cancer'},\n",
       "  'Placebo': {'url': 'https://en.wikipedia.org/w/api.php?action=query&list=search&srsearch=Placebo&format=json',\n",
       "   'description': 'A <span class=\"searchmatch\">placebo</span> (/pləˈsiːboʊ/ plə-SEE-boh) is a substance or treatment which is designed to have no therapeutic value. Common <span class=\"searchmatch\">placebos</span> include inert tablets'}},\n",
       " 'hasPercentageOfWhite': [77.5, 77.5],\n",
       " 'hasPercentageOfPatientsWithVisceralDisease': [48.2, 49.5],\n",
       " 'hasPercentageOfPatientsHadReceivedPriorAdjuvantChemotherapy': [48, 49.1],\n",
       " 'hasPercentageOfPatientsWithNewlyDiagonosedAdavancedDisease': 37.2,\n",
       " 'groups': ['Palbociclib Plus Letrozole', 'Placebo Plus Letrozole'],\n",
       " 'numberOfPatients': ['444', '222'],\n",
       " 'ageOfPatients': ['61.7        (10.6)', '60.6        (11.2)'],\n",
       " 'PFS': ['24.8', '14.5'],\n",
       " 'outcome_measurements': ['Median (95% Confidence Interval)',\n",
       "  'Unit of Measure: Months'],\n",
       " 'age_measurements': ['Mean (Standard Deviation)', 'Unit of measure: Years'],\n",
       " 'outcome': ['24.8', '14.5'],\n",
       " 'treatment': ['Participants received letrozole 2.5 milligram (mg) orally QD (once daily) combined with palbociclib 125 mg QD for 21 days of every-28-day cycle, followed by 7 days off treatment.',\n",
       "  'Participants received letrozole 2.5 mg orally QD combined with placebo QD for 21 days of every-28-day cycle, followed by 7 days off treatment.'],\n",
       " 'hazardRatio': '0.576'}"
      ]
     },
     "execution_count": 305,
     "metadata": {},
     "output_type": "execute_result"
    }
   ],
   "source": [
    "paloma2"
   ]
  },
  {
   "cell_type": "markdown",
   "metadata": {},
   "source": [
    "## Complished:\n",
    "## 1. Takes ~30 seconds to extract all information and create a knowledge graph\n",
    "## 2. Checked number of columns(groups) before extracting information\n",
    "## 3. Changed arm/group title from treatment/control groups to their actual names\n",
    "## 4. Added types and units of age and outcome description directly from the table\n",
    "## 5. Solve mistakes by different structure:\n",
    "###   i : //*[@id=\"tab-body\"]/div[1]/div[3]/div[2]/table/tbody/tr[9]/td[2]/div[1] with //*[@id=\"tab-body\"]/div[1]/div[3]/div[2]/table/tbody/tr[9]/td[2]/span\n",
    "###   ii: count of participants in each age group vs median/mean age (to-do: there will be new properties in knowledge graph about number of patients in each group, currently left blank)\n",
    "\n",
    "\n",
    "## To-do:\n",
    "## 1. Extract arm group Description from all p of a td: https://clinicaltrials.gov/ct2/show/results/NCT03093350\n",
    "\n",
    "## 2. Can't get text directly inside td: 3350"
   ]
  },
  {
   "cell_type": "code",
   "execution_count": 109,
   "metadata": {},
   "outputs": [],
   "source": [
    "NCT03093350 = dict()\n",
    "studytype_url = 'https://clinicaltrials.gov/api/query/study_fields?expr=NCT03093350&fields=studytype&min_rnk=1&max_rnk=&fmt=json'\n",
    "studytype = requests.get(studytype_url).json()['StudyFieldsResponse']['StudyFields'][0]['StudyType'][0]\n",
    "NCT03093350['StudyType'] = studytype\n",
    "criteria_url = 'https://clinicaltrials.gov/api/query/full_studies?expr=NCT04176354&min_rnk=1&max_rnk=&fmt=json'\n",
    "criteria = requests.get(criteria_url).json()['FullStudiesResponse']['FullStudies'][0]['Study']['ProtocolSection']['EligibilityModule']['EligibilityCriteria']\n",
    "\n",
    "b = criteria.split('\\n')\n",
    "inclusion = []\n",
    "exclusion = []\n",
    "for i in range(0,len(b)):\n",
    "    if b[i] == 'Inclusion Criteria:':\n",
    "        for j in range(i+1,len(b)):\n",
    "            if b[j] == 'Exclusion Criteria:':\n",
    "                break\n",
    "            if b[j] != '':\n",
    "                inclusion.append(b[j])\n",
    "    if b[i] == 'Exclusion Criteria:':\n",
    "        for j in range(i+1,len(b)):\n",
    "            if b[j] != '':\n",
    "                exclusion.append(b[j])\n",
    "NCT03093350['InclusionCriteria'] = inclusion\n",
    "NCT03093350['ExclusionCriteria'] = exclusion\n",
    "\n",
    "drug_url = 'https://clinicaltrials.gov/api/query/study_fields?expr=NCT04176354&fields=ArmGroupInterventionName&min_rnk=1&max_rnk=&fmt=json'\n",
    "drug = requests.get(drug_url).json()['StudyFieldsResponse']['StudyFields'][0]['ArmGroupInterventionName']\n",
    "drug\n",
    "drugs = [i.strip(\"Drug:\").strip(\"'\").strip() for i in drug] \n",
    "drugs2 = set()\n",
    "for i in drugs:\n",
    "    for j in i.split(\" \"):\n",
    "        drugs2.add(j)\n",
    "# drugs = list(dict.fromkeys(drugs))\n",
    "drugs2.remove('an')\n",
    "drugs2.remove('+')\n",
    "drugs2.remove('aromatase')\n",
    "drugs2.remove('inhibito')\n",
    "\n",
    "API_ENDPOINT = 'https://en.wikipedia.org/w/api.php'\n",
    "drugs_with_des = {}\n",
    "for i in drugs2:\n",
    "    drugs_with_des[i] = {}\n",
    "    query = i\n",
    "    params = {\n",
    "        'action':'query',\n",
    "        'list':'search',\n",
    "        'srsearch':query,\n",
    "        'format':'json',\n",
    "    }\n",
    "    drugs_with_des[i]['url'] = requests.get(API_ENDPOINT,params=params).url\n",
    "    drugs_with_des[i]['description'] = requests.get(API_ENDPOINT,params=params).json()\\\n",
    "    ['query']['search'][0]['snippet']\n",
    "drugs_with_des\n",
    "NCT03093350['Drugs'] = drugs_with_des\n",
    "\n",
    "\n",
    "\n",
    "url = \"https://clinicaltrials.gov/ct2/show/results/NCT03093350?view=results\"\n",
    "response = urlopen(url)\n",
    "soup = BS(response, 'html.parser')\n",
    "baseline = soup.find_all(\"th\",class_=\"de-popFlowLabelCell\")\n",
    "groups = []\n",
    "number_of_patients = []\n",
    "for i in range(0,len(baseline)):\n",
    "    groups.append(baseline[i].text.strip(\"\\n\").strip(\"\\r\").strip())\n",
    "    number_of_patients.append(soup.find_all(\"td\",class_=\"de-numValue_baselineDataCell\")[i].text.strip(\"\\n\").strip(\"\\r\").strip())\n",
    "\n",
    "response = urlopen(url)\n",
    "soup = BS(response, 'html.parser')\n",
    "dom = etree.HTML(str(soup))\n",
    "\n",
    "\n",
    "monaleesa2[\"numberOfPatients\"] = []\n",
    "monaleesa2[\"numberOfPatients\"].append(soup.find_all(\"td\", class_=\"de-numValue_popFlowCell\")[0].text.strip(\"\\r\").strip(\"\\n\").strip())\n",
    "monaleesa2[\"numberOfPatients\"].append(soup.find_all(\"td\", class_=\"de-numValue_popFlowCell\")[1].text.strip(\"\\r\").strip(\"\\n\").strip())\n",
    "monaleesa2[\"outcome\"] = []\n",
    "monaleesa2[\"outcome\"].append(soup.find_all(\"td\", class_=\"de-numValue_outcomeDataCell\")[2].text.strip('\\n').strip().split(\" \")[0])\n",
    "monaleesa2[\"outcome\"].append(soup.find_all(\"td\", class_=\"de-numValue_outcomeDataCell\")[3].text.strip('\\n').strip().split(\" \")[0])\n",
    "monaleesa2[\"treatment\"] = []\n",
    "monaleesa2[\"treatment\"].append(soup.find_all(\"td\",class_=\"de-outcomeLabelCell\")[7].text.strip('\\n').strip('\\r').strip())\n",
    "monaleesa2[\"treatment\"].append(soup.find_all(\"td\",class_=\"de-outcomeLabelCell\")[8].text.strip('\\n').strip('\\r').strip())\n",
    "monaleesa2[\"ageOfPatients\"] = []\n",
    "monaleesa2[\"ageOfPatients\"].append(soup.find_all(\"td\",class_=\"de-numValue_baselineDataCell\")[11].text.strip('\\n').strip('\\r').strip().split(\" \")[0])\n",
    "monaleesa2[\"ageOfPatients\"].append(soup.find_all(\"td\",class_=\"de-numValue_baselineDataCell\")[12].text.strip('\\n').strip('\\r').strip().split(\" \")[0])\n",
    "monaleesa2[\"hazardRatio\"] = soup.find_all(\"td\",class_=\"de-outcomeDataCell\")[15].text.strip('\\n').strip('\\r').strip()\n",
    "\n",
    "monaleesa2['PFS'] = [dom.xpath('//*[@id=\"EXPAND-outcome-data-1\"]/table/tbody/tr[6]/td[1]/div[1]/text()')[0]\n",
    "       .strip('\\n').strip('\\r').strip().replace('\\n','').replace('\\xa0',''),\n",
    "                  dom.xpath('//*[@id=\"EXPAND-outcome-data-1\"]/table/tbody/tr[6]/td[2]/div[1]/text()')[0].strip('\\n').strip().strip('\\n').strip()]\n",
    "monaleesa2[\"outcome_measurements\"] = [dom.xpath('//*[@id=\"EXPAND-outcome-data-1\"]/table/tbody/tr[5]/th/text()')[0]\n",
    "       .strip('\\n').strip('\\r').strip().replace('\\n','').replace('\\xa0',''),\n",
    "                             dom.xpath('//*[@id=\"EXPAND-outcome-data-1\"]/table/tbody/tr[5]/th/div/text()')[0]\n",
    "       .strip('\\n').strip('\\r').strip().replace('\\n','').replace('\\xa0','')]\n",
    "monaleesa2[\"age_measurements\"] = [dom.xpath('//*[@id=\"tab-body\"]/div[1]/div[3]/div[2]/table/tbody/tr[7]/th[1]/div/div[1]/text()')[0]\n",
    "       .strip('\\n').strip('\\r').strip().replace('\\n','').replace('\\xa0',''),\n",
    "                             dom.xpath('//*[@id=\"tab-body\"]/div[1]/div[3]/div[2]/table/tbody/tr[7]/th[1]/div/div[2]/text()')[0]\n",
    "       .strip('\\n').strip('\\r').strip().replace('\\n','').replace('\\xa0','')]\n",
    "\n",
    "\n",
    "\n",
    "\n",
    "\n",
    "NCT03093350[\"numberOfPatients\"] = str(dom.xpath('//*[@id=\"tab-body\"]/div[1]/div[3]/div[2]/table/tbody/tr[4]/td/text()')[0]).strip('\\n').strip('\\r').strip().replace('\\n','').replace('\\xa0','')\n",
    "    \n",
    "NCT03093350[\"groupTitle\"] = str(dom.xpath('//*[@id=\"tab-body\"]/div[1]/div[2]/div[2]/table[2]/tbody/tr[1]/th/text()')[0]).strip('\\n').strip('\\r').strip().replace('\\n','').replace('\\xa0','')\n",
    "\n",
    "NCT03093350[\"groupDescription\"] = str(dom.xpath('//*[@id=\"EXPAND-armGroupDescriptionRow-baseline\"]/td[2]//p/text()'))\n",
    "\n",
    "NCT03093350[\"ageOfPatients\"] = str(dom.xpath('//*[@id=\"tab-body\"]/div[1]/div[3]/div[2]/table/tbody/tr[9]/td[2]/span/text()')[0]).strip('\\n').strip('\\r').strip().replace('\\n','').replace('\\xa0','')\n",
    "\n",
    "NCT03093350[\"PFS\"] = str(dom.xpath('//*[@id=\"EXPAND-outcome-data-2\"]/table/tbody/tr[6]/td/div[1]/text()')[0]).strip('\\n').strip('\\r').strip().replace('\\n','').replace('\\xa0','')    \n",
    "\n",
    "NCT03093350[\"PFS_unit\"] = str(dom.xpath('//*[@id=\"EXPAND-outcome-data-2\"]/table/tbody/tr[5]/th/div/text()')[0]).strip('\\n').strip('\\r').strip().replace('\\n','').replace('\\xa0','') \n",
    "\n",
    "NCT03093350[\"OAS\"] = str(dom.xpath('//*[@id=\"EXPAND-outcome-data-3\"]/table/tbody/tr[6]/td/div[1]/text()')[0]).strip('\\n').strip('\\r').strip().replace('\\n','').replace('\\xa0','')    \n",
    "\n",
    "NCT03093350[\"OAS_unit\"] = str(dom.xpath('//*[@id=\"EXPAND-outcome-data-3\"]/table/tbody/tr[5]/th/div/text()')[0]).strip('\\n').strip('\\r').strip().replace('\\n','').replace('\\xa0','') \n",
    "\n",
    "kg_NCT03093350 = Graph()\n",
    "kg_NCT03093350.bind('Clinical_Trials', CT)\n",
    "kg_NCT03093350.bind('schema',SCHEMA)\n",
    "kg_NCT03093350.add((ct_uri, CT.hasID, Literal('NCT03093350')))\n",
    "            \n",
    "ct_uri = URIRef('https://clinicaltrials.gov/ct2/show/NCT03093350')\n",
    "kg_NCT03093350.add((ct_uri, RDF.type, SCHEMA.MedicalTrial))\n",
    "title = str(NCT03093350[\"groupTitle\"].replace(' ','_'))\n",
    "kg_NCT03093350.add((ct_uri, CT.hasGroup, CT[title]))\n",
    "kg_NCT03093350.add((CT[title], CT.hasDescription, Literal(NCT03093350[\"groupDescription\"])))\n",
    "\n",
    "kg_NCT03093350.add((ct_uri, CT.hasNumberofPatients, Literal(NCT03093350[\"numberOfPatients\"])))\n",
    "kg_NCT03093350.add((ct_uri, CT.hasMedianAge, Literal(NCT03093350[\"ageOfPatients\"])))\n",
    "kg_NCT03093350.add((ct_uri, CT.hasPFS, CT['NCT03093350_PFS']))\n",
    "kg_NCT03093350.add((CT['NCT03093350_PFS'], CT.hasUnit, Literal(NCT03093350[\"PFS_unit\"])))\n",
    "kg_NCT03093350.add((CT['NCT03093350_PFS'], SCHEMA.number, Literal(NCT03093350[\"PFS\"])))\n",
    "kg_NCT03093350.add((ct_uri, CT.hasOAS, CT['NCT03093350_OAS']))\n",
    "kg_NCT03093350.add((CT['NCT03093350_OAS'], CT.hasUnit, Literal(NCT03093350[\"OAS_unit\"])))\n",
    "kg_NCT03093350.add((CT['NCT03093350_OAS'], SCHEMA.number, Literal(NCT03093350[\"OAS\"])))  \n",
    "\n",
    "for i in NCT03093350:\n",
    "    kg_NCT03093350.add((ct_uri, CT.hasStudyType, Literal(NCT03093350['StudyType'])))\n",
    "    if i == 'InclusionCriteria':\n",
    "        for j in NCT03093350[i]:\n",
    "            kg_NCT03093350.add((ct_uri, CT.hasInclusionCriteria, Literal(j)))\n",
    "    if i == 'ExclusionCriteria':\n",
    "        for j in NCT03093350[i]:\n",
    "            kg_NCT03093350.add((ct_uri, CT.hasExclusionCriteria, Literal(j)))\n",
    "    if i == 'Drugs':\n",
    "        for j in NCT03093350[i]:\n",
    "            k = URIRef(NCT03093350[i][j]['url'])\n",
    "            kg_NCT03093350.add((ct_uri, CT.hasDrug, k))\n",
    "            kg_NCT03093350.add((k, SCHEMA.name, Literal(j)))\n",
    "            kg_NCT03093350.add((k, SCHEMA.description, Literal(NCT03093350[i][j]['description'])))\n",
    "            \n",
    "kg_NCT03093350.serialize('new_graphs/NCT03093350.ttl',format=\"turtle\")\n"
   ]
  },
  {
   "cell_type": "code",
   "execution_count": 110,
   "metadata": {},
   "outputs": [
    {
     "data": {
      "text/plain": [
       "'[\\'Patients receiving TAA-specific CTLs as therapy for breast cancer.\\', \\'TAA-specific CTLs: Each patient will receive 2 injections at a fixed dose, 28 days apart, according to the following dose schedule: The expected volume of infusion will be 1 to 10 cc.\\', \\'Dose schedule:\\', \\'Day 0: 2 x 10^7 cells/m2\\', \\'Day 28: 2 x 10^7 cells/m2\\', \"If patients have stable disease or a partial response by the Response Evaluation Criteria in Solid Tumors (RECIST) criteria at their 6 week evaluation after the 2nd cell dose, they will be eligible to receive up to 6 additional doses of CTLs, At least one month should have passed before each additional dose.. Each additional infusion will consist of the same cell number or less (if there is not enough product available for the subject\\'s original dose) than their second infusion. Patients will not be able to receive additional doses until the initial safety profile is completed at 6 weeks following the second infusion.\"]'"
      ]
     },
     "execution_count": 110,
     "metadata": {},
     "output_type": "execute_result"
    }
   ],
   "source": [
    "NCT03093350[\"groupDescription\"] = str(dom.xpath('//*[@id=\"EXPAND-armGroupDescriptionRow-baseline\"]/td[2]//p/text()'))\n",
    "\n",
    "NCT03093350[\"groupDescription\"]"
   ]
  },
  {
   "cell_type": "code",
   "execution_count": null,
   "metadata": {},
   "outputs": [],
   "source": [
    "kg = Graph()\n",
    "kg.bind('Clinical_Trials', CT)\n",
    "kg.bind('schema',SCHEMA)\n",
    "ct_uri = URIRef('https://clinicaltrials.gov/ct2/show/NCT04199078')\n",
    "kg.add((ct_uri, RDF.type, SCHEMA.MedicalTrial))\n",
    "kg.add((ct_uri, CT.hasID, Literal('NCT04199078')))\n",
    "for i in paloma2:\n",
    "    kg.add((ct_uri, CT.hasStudyType, Literal(paloma2['StudyType'])))\n",
    "    if i == 'InclusionCriteria':\n",
    "        for j in paloma2[i]:\n",
    "            kg.add((ct_uri, CT.hasInclusionCriteria, Literal(j)))\n",
    "    if i == 'ExclusionCriteria':\n",
    "        for j in paloma2[i]:\n",
    "            kg.add((ct_uri, CT.hasExclusionCriteria, Literal(j)))\n",
    "    if i == 'Drugs':\n",
    "        for j in paloma2[i]:\n",
    "            k = URIRef(paloma2[i][j]['url'])\n",
    "            kg.add((ct_uri, CT.hasDrug, k))\n",
    "            kg.add((k, SCHEMA.name, Literal(j)))\n",
    "            kg.add((k, SCHEMA.description, Literal(paloma2[i][j]['description'])))\n",
    "    \n",
    "    PFS_field = 'NCT04199078_PFS'\n",
    "    PFS = 'NCT04199078_PFS_treatmentGroup'\n",
    "    PFS1 = 'NCT04199078_PFS_controlGroup'\n",
    "    kg.add((ct_uri, CT.hasPFS,CT[PFS_field]))\n",
    "    kg.add((CT[PFS_field], CT.hasPFS,CT[PFS]))\n",
    "    kg.add((CT[PFS], CT.hasGroup, Literal(\"treatmentGroup\")))\n",
    "    kg.add((CT[PFS], CT.hasUnit, Literal(\"month\")))\n",
    "    kg.add((CT[PFS], SCHEMA.number, Literal(PFS)))\n",
    "    kg.add((CT[PFS_field], CT.hasPFS,CT[PFS1]))\n",
    "    kg.add((CT[PFS1], CT.hasGroup, Literal(\"controlGroup\")))\n",
    "    kg.add((CT[PFS1], CT.hasUnit, Literal(\"month\")))\n",
    "    kg.add((CT[PFS1], SCHEMA.number, Literal(PFS1)))\n",
    "    \n",
    "    treatment_field = 'NCT04199078_treamentDescription'\n",
    "    treatment = \"NCT04199078_treamentGroupDescription\"\n",
    "    treatment1 = \"NCT04199078_controlGroupDescription\"\n",
    "    kg.add((ct_uri, CT.hasTreatmentPlan,CT[treatment_field]))\n",
    "    kg.add((CT[treatment_field], CT.hasTreatment,CT[treatment]))\n",
    "    kg.add((CT[treatment], CT.hasGroup, Literal(\"treatmentGroup\")))\n",
    "    kg.add((CT[treatment], CT.hasdescription, Literal(paloma2[\"treatment\"][0])))\n",
    "    kg.add((CT[treatment_field], CT.hasTreatment,CT[treatment1]))\n",
    "    kg.add((CT[treatment1], CT.hasGroup, Literal(\"controlGroup\")))\n",
    "    kg.add((CT[treatment1], CT.hasdescription, Literal(paloma2[\"treatment\"][1])))\n",
    "    \n",
    "    nofP_field = 'NCT04199078_numberofPatients'\n",
    "    numberofPatients = 'NCT04199078_numberofPatients_treatmentGroup'\n",
    "    numberofPatients1 = 'NCT04199078_numberofPatients_controlGroup'\n",
    "    kg.add((ct_uri, CT.hasNumberofPatients,CT[nofP_field]))\n",
    "    kg.add((CT[nofP_field], CT.hasNumberofPatients,CT[numberofPatients]))\n",
    "    kg.add((CT[numberofPatients], CT.hasGroup, Literal(\"treatmentGroup\")))\n",
    "    kg.add((CT[numberofPatients], SCHEMA.number, Literal(paloma2[\"numberOfPatients\"][0])))\n",
    "    kg.add((CT[numberofPatients], CT.hasUnit, Literal(\"person\")))\n",
    "    kg.add((CT[nofP_field], CT.hasNumberofPatients,CT[numberofPatients1]))\n",
    "    kg.add((CT[numberofPatients1], CT.hasGroup, Literal(\"controlGroup\")))\n",
    "    kg.add((CT[numberofPatients1], SCHEMA.number, Literal(paloma2[\"numberOfPatients\"][1])))\n",
    "    kg.add((CT[numberofPatients1], CT.hasUnit, Literal(\"person\")))\n",
    "    \n",
    "    aofP_field = 'NCT04199078_ageOfPatients_treatmentGroup'\n",
    "    ageOfPatients = 'NCT04199078_ageOfPatients_controlGroup'\n",
    "    ageOfPatients1 = paloma2[\"ageOfPatients\"][1]\n",
    "    kg.add((ct_uri, CT.hasMedianAge,CT[aofP_field]))\n",
    "    kg.add((CT[aofP_field], CT.hasMedianAge,CT[ageOfPatients]))\n",
    "    kg.add((CT[ageOfPatients], CT.hasGroup, Literal(\"treatmentGroup\")))\n",
    "    kg.add((CT[ageOfPatients], SCHEMA.number, Literal(paloma2[\"ageOfPatients\"][0])))\n",
    "    kg.add((CT[ageOfPatients], CT.hasUnit, Literal(\"year\")))\n",
    "    kg.add((CT[aofP_field], CT.hasMedianAge,CT[ageOfPatients1]))\n",
    "    kg.add((CT[ageOfPatients1], CT.hasGroup, Literal(\"controlGroup\")))\n",
    "    kg.add((CT[ageOfPatients1], SCHEMA.number, Literal(paloma2[\"ageOfPatients\"][1])))\n",
    "    kg.add((CT[ageOfPatients1], CT.hasUnit, Literal(\"year\")))\n",
    "\n",
    "#      'hazardRatio': '0.576',\n",
    "#  'hasPercentageOfPatientsWithVisceralDisease': [48.2, 49.5],\n",
    "#  'hasPercentageOfPatientsHadReceivedPriorAdjuvantChemotherapy': [48, 49.1],\n",
    "#  'hasPercentageOfPatientsWithNewlyDiagonosedAdavancedDisease': 37.2}\n",
    "    PVD_field = 'NCT04199078_percentageofPatientWithVisceraDisease'\n",
    "    PVD = 'NCT04199078_percentageofPatientWithVisceraDisease_treatmentGroup'\n",
    "    PVD1 = 'NCT04199078_percentageofPatientWithVisceraDisease_controlGroup'\n",
    "    kg.add((ct_uri, CT.hasPercentageOfPatientsWithVisceralDisease,CT[PVD_field]))\n",
    "    kg.add((CT[PVD_field], CT.hasPercentageOfPatientsWithVisceralDisease,CT[PVD]))\n",
    "    kg.add((CT[PVD], CT.hasGroup, Literal(\"treatmentGroup\")))\n",
    "    kg.add((CT[PVD], SCHEMA.number, Literal(paloma2[\"hasPercentageOfPatientsWithVisceralDisease\"][0])))\n",
    "    kg.add((CT[PVD], CT.hasUnit, Literal(\"percentage\")))\n",
    "    kg.add((CT[PVD_field], CT.hasPercentageOfPatientsWithVisceralDisease,CT[PVD1]))\n",
    "    kg.add((CT[PVD1], CT.hasGroup, Literal(\"controlGroup\")))\n",
    "    kg.add((CT[PVD1], SCHEMA.number, Literal(paloma2[\"hasPercentageOfPatientsWithVisceralDisease\"][1])))\n",
    "    kg.add((CT[PVD1], CT.hasUnit, Literal(\"percentage\")))\n",
    "    \n",
    "    PriorChemo_field = 'NCT04199078_percentageofPatientsHadReceivedPriorAdjuvantChemotherapy'\n",
    "    PercentageOfPatientsHadReceivedPriorAdjuvantChemotherapy = 'NCT04199078_percentageofPatientsHadReceivedPriorAdjuvantChemotherapy_treatmentGroup'\n",
    "    PercentageOfPatientsHadReceivedPriorAdjuvantChemotherapy1 = 'NCT04199078_percentageofPatientsHadReceivedPriorAdjuvantChemotherapy_controlGroup'\n",
    "    kg.add((ct_uri, CT.hasPercentageOfPatientsHadReceivedPriorAdjuvantChemotherapy,CT[PriorChemo_field]))\n",
    "    kg.add((CT[PriorChemo_field], CT.hasPercentageOfPatientsHadReceivedPriorAdjuvantChemotherapy,\n",
    "            CT[PercentageOfPatientsHadReceivedPriorAdjuvantChemotherapy]))\n",
    "    kg.add((CT[PercentageOfPatientsHadReceivedPriorAdjuvantChemotherapy], CT.hasGroup, Literal(\"treatmentGroup\")))\n",
    "    kg.add((CT[PercentageOfPatientsHadReceivedPriorAdjuvantChemotherapy], SCHEMA.number, Literal(paloma2[\"hasPercentageOfPatientsHadReceivedPriorAdjuvantChemotherapy\"][0])))\n",
    "    kg.add((CT[PercentageOfPatientsHadReceivedPriorAdjuvantChemotherapy], CT.hasUnit, Literal(\"percentage\")))\n",
    "    kg.add((CT[PriorChemo_field], CT.hasPercentageOfPatientsHadReceivedPriorAdjuvantChemotherapy,\n",
    "            CT[PercentageOfPatientsHadReceivedPriorAdjuvantChemotherapy1]))\n",
    "    kg.add((CT[PercentageOfPatientsHadReceivedPriorAdjuvantChemotherapy1], CT.hasGroup, Literal(\"controlGroup\")))\n",
    "    kg.add((CT[PercentageOfPatientsHadReceivedPriorAdjuvantChemotherapy1], SCHEMA.number, Literal(paloma2[\"hasPercentageOfPatientsHadReceivedPriorAdjuvantChemotherapy\"][1])))\n",
    "    kg.add((CT[PercentageOfPatientsHadReceivedPriorAdjuvantChemotherapy1], CT.hasUnit, Literal(\"percentage\")))    \n",
    "    \n",
    "    hazardRatio = paloma2[\"hazardRatio\"]\n",
    "    kg.add((ct_uri, CT.hasHazardRatio, CT['NCT04199078_hazardRatio']))\n",
    "    kg.add((CT['NCT04199078_hazardRatio'], SCHEMA.number, Literal(paloma2[\"hazardRatio\"])))\n",
    "    kg.add((CT['NCT04199078_hazardRatio'], CT.hasConfidenceInterval, Literal(\"(2 sided)95% 0.463 to 0.718\")))\n",
    "    \n",
    "    PercentageOfPatientsWithNewlyDiagonosedAdavancedDisease = str(paloma2[\"hasPercentageOfPatientsWithNewlyDiagonosedAdavancedDisease\"])\n",
    "    kg.add((ct_uri, CT.hasPercentageOfPatientsWithNewlyDiagonosedAdavancedDisease, CT['NCT04199078_PercentageOfPatientsWithNewlyDiagonosedAdavancedDisease']))\n",
    "    kg.add((CT['NCT04199078_PercentageOfPatientsWithNewlyDiagonosedAdavancedDisease'], SCHEMA.number, Literal(paloma2[\"hasPercentageOfPatientsWithNewlyDiagonosedAdavancedDisease\"])))\n",
    "    kg.add((CT['NCT04199078_PercentageOfPatientsWithNewlyDiagonosedAdavancedDisease'], CT.hasUnit, Literal(\"percentage\")))\n",
    "    \n",
    "kg.serialize('paloma-2.ttl', format=\"turtle\")    "
   ]
  }
 ],
 "metadata": {
  "kernelspec": {
   "display_name": "Python 3",
   "language": "python",
   "name": "python3"
  },
  "language_info": {
   "codemirror_mode": {
    "name": "ipython",
    "version": 3
   },
   "file_extension": ".py",
   "mimetype": "text/x-python",
   "name": "python",
   "nbconvert_exporter": "python",
   "pygments_lexer": "ipython3",
   "version": "3.7.6"
  }
 },
 "nbformat": 4,
 "nbformat_minor": 4
}
